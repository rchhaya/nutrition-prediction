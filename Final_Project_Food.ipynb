{
  "nbformat": 4,
  "nbformat_minor": 0,
  "metadata": {
    "colab": {
      "provenance": [],
      "collapsed_sections": [
        "izCIaq-dZKeb",
        "7XcjRtMwil2P"
      ],
      "toc_visible": true
    },
    "kernelspec": {
      "name": "python3",
      "display_name": "Python 3"
    },
    "language_info": {
      "name": "python"
    },
    "gpuClass": "standard"
  },
  "cells": [
    {
      "cell_type": "markdown",
      "source": [
        "**CIS 545 - Rohan Chhaya, Elaine Fan, Kenny Liou**"
      ],
      "metadata": {
        "id": "RUVLuG6wy4iR"
      }
    },
    {
      "cell_type": "markdown",
      "source": [
        "## **0.** Introduction"
      ],
      "metadata": {
        "id": "izCIaq-dZKeb"
      }
    },
    {
      "cell_type": "markdown",
      "source": [
        "For our project, we wanted to explore Open Food Facts, a Kaggle dataset. Specifically, our project has several goals. First, we wanted to conduct some data cleaning and do some descriptive analysis, such as looking at the top countries with the highest nutrition scores. We also looked at a breakdown of the ingredients list and the most common ingredients we can see today from products around the world. Additionally, we looked at the companies that are selling the most products on the market. We also took a glimpse at the nutrition information on the labels and compared different nutrition labels. We summarized our findings in various visualizations, such as boxplots, heat maps, wordclouds, and pie charts. \n",
        "\n",
        "Next, we looked at building supervised machine learning models (both regression and classification), to see if we could predict the health scores and general \"healthiness\" of various products based on relevant features. This included a variety of linear regression and logistic regression (unregularized and regularized), PCA, Random Forests, and Neural Networks. \n",
        "\n",
        "Let's start with uploading the Kaggle Dataset."
      ],
      "metadata": {
        "id": "ECRiMXbFZPhJ"
      }
    },
    {
      "cell_type": "markdown",
      "source": [
        "Uploading libraries and accessing Kaggle Dataset"
      ],
      "metadata": {
        "id": "Q6nLmlO5ihYS"
      }
    },
    {
      "cell_type": "code",
      "execution_count": 2,
      "metadata": {
        "id": "N0ffHmPlheBL"
      },
      "outputs": [],
      "source": [
        "# Sklearn and Pandas Setup\n",
        "import json\n",
        "import glob\n",
        "import pandas as pd\n",
        "import numpy as np\n",
        "import datetime as dt\n",
        "import re\n",
        "import os\n",
        "import matplotlib.pyplot as plt\n",
        "import seaborn as sns\n",
        "from matplotlib import cm\n",
        "from google.colab import drive"
      ]
    },
    {
      "cell_type": "markdown",
      "source": [
        "## **1.** Downloading the Kaggle Dataset"
      ],
      "metadata": {
        "id": "7XcjRtMwil2P"
      }
    },
    {
      "cell_type": "markdown",
      "source": [
        "We are using TSV for this project, `en.openfoodfacts.org.products.tsv` from a Kaggle dataset. The dataset contains information about various food products.\n",
        "\n",
        "To get the data in here:\n",
        "1. Go to this [Kaggle link](https://www.kaggle.com/datasets/arianazmoudeh/airbnbopendata) and create a Kaggle account (unless you already have an account)\n",
        "2. Go to Account and click on \"Create New API Token\" to get the API key in the form of a json file `kaggle.json`\n",
        "3. Upload the `kaggle.json` file to the default location in your Google Drive (Please **DO NOT** upload the json file into any _specific_ folder as it will be difficult for us to debug issues if you deviate from these instructions!).\n",
        "\n",
        "This can be helpful for your project if you decide to use Kaggle."
      ],
      "metadata": {
        "id": "CPdDQpf0jjZN"
      }
    },
    {
      "cell_type": "code",
      "source": [
        "# Run this cell to mount your drive (you will be prompted to sign in)\n",
        "from google.colab import drive\n",
        "drive.mount('/content/drive')"
      ],
      "metadata": {
        "id": "kh-27q8Lin5z",
        "colab": {
          "base_uri": "https://localhost:8080/"
        },
        "outputId": "7aef56b5-2c84-4107-f156-5581b38e1256"
      },
      "execution_count": 3,
      "outputs": [
        {
          "output_type": "stream",
          "name": "stdout",
          "text": [
            "Mounted at /content/drive\n"
          ]
        }
      ]
    },
    {
      "cell_type": "code",
      "source": [
        "!pip install kaggle"
      ],
      "metadata": {
        "id": "MnJXYYOOisSs",
        "colab": {
          "base_uri": "https://localhost:8080/"
        },
        "outputId": "e03ca634-d5cc-4d82-ab78-3c94d20c5755"
      },
      "execution_count": 4,
      "outputs": [
        {
          "output_type": "stream",
          "name": "stdout",
          "text": [
            "Looking in indexes: https://pypi.org/simple, https://us-python.pkg.dev/colab-wheels/public/simple/\n",
            "Requirement already satisfied: kaggle in /usr/local/lib/python3.8/dist-packages (1.5.12)\n",
            "Requirement already satisfied: python-dateutil in /usr/local/lib/python3.8/dist-packages (from kaggle) (2.8.2)\n",
            "Requirement already satisfied: python-slugify in /usr/local/lib/python3.8/dist-packages (from kaggle) (7.0.0)\n",
            "Requirement already satisfied: tqdm in /usr/local/lib/python3.8/dist-packages (from kaggle) (4.64.1)\n",
            "Requirement already satisfied: six>=1.10 in /usr/local/lib/python3.8/dist-packages (from kaggle) (1.15.0)\n",
            "Requirement already satisfied: urllib3 in /usr/local/lib/python3.8/dist-packages (from kaggle) (1.24.3)\n",
            "Requirement already satisfied: requests in /usr/local/lib/python3.8/dist-packages (from kaggle) (2.25.1)\n",
            "Requirement already satisfied: certifi in /usr/local/lib/python3.8/dist-packages (from kaggle) (2022.12.7)\n",
            "Requirement already satisfied: text-unidecode>=1.3 in /usr/local/lib/python3.8/dist-packages (from python-slugify->kaggle) (1.3)\n",
            "Requirement already satisfied: chardet<5,>=3.0.2 in /usr/local/lib/python3.8/dist-packages (from requests->kaggle) (4.0.0)\n",
            "Requirement already satisfied: idna<3,>=2.5 in /usr/local/lib/python3.8/dist-packages (from requests->kaggle) (2.10)\n"
          ]
        }
      ]
    },
    {
      "cell_type": "code",
      "source": [
        "# Create the kaggle directory and read the uploaded kaggle.json file\n",
        "# (NOTE: Do NOT run this cell more than once unless restarting kernel)\n",
        "!mkdir ~/.kaggle"
      ],
      "metadata": {
        "id": "W0rAI3Tqiuiq"
      },
      "execution_count": 5,
      "outputs": []
    },
    {
      "cell_type": "code",
      "source": [
        "# Read the uploaded kaggle.json file\n",
        "!cp /content/drive/MyDrive/kaggle.json ~/.kaggle/"
      ],
      "metadata": {
        "id": "tJ5FCdpZiw17"
      },
      "execution_count": 6,
      "outputs": []
    },
    {
      "cell_type": "code",
      "source": [
        "# Download dataset\n",
        "!!kaggle datasets download -d openfoodfacts/world-food-facts"
      ],
      "metadata": {
        "id": "CIJWQOQWi0ey",
        "colab": {
          "base_uri": "https://localhost:8080/"
        },
        "outputId": "93aea115-1ee0-4145-c496-3c93990a0def"
      },
      "execution_count": 7,
      "outputs": [
        {
          "output_type": "execute_result",
          "data": {
            "text/plain": [
              "['Downloading world-food-facts.zip to /content',\n",
              " '',\n",
              " '  0% 0.00/109M [00:00<?, ?B/s]',\n",
              " '  5% 5.00M/109M [00:00<00:03, 29.4MB/s]',\n",
              " ' 16% 17.0M/109M [00:00<00:01, 51.2MB/s]',\n",
              " ' 30% 33.0M/109M [00:00<00:01, 70.8MB/s]',\n",
              " ' 38% 41.0M/109M [00:00<00:01, 65.6MB/s]',\n",
              " ' 50% 54.0M/109M [00:00<00:00, 83.0MB/s]',\n",
              " ' 59% 64.0M/109M [00:00<00:00, 88.4MB/s]',\n",
              " ' 68% 74.0M/109M [00:01<00:00, 62.7MB/s]',\n",
              " ' 82% 89.0M/109M [00:01<00:00, 81.7MB/s]',\n",
              " ' 91% 99.0M/109M [00:01<00:00, 80.8MB/s]',\n",
              " ' 99% 108M/109M [00:01<00:00, 67.5MB/s] ',\n",
              " '',\n",
              " '100% 109M/109M [00:01<00:00, 70.3MB/s]']"
            ]
          },
          "metadata": {},
          "execution_count": 7
        }
      ]
    },
    {
      "cell_type": "code",
      "source": [
        "# Unzip folder in Colab content folder\n",
        "!unzip /content/world-food-facts.zip"
      ],
      "metadata": {
        "id": "jU5DZ6gzjWMj",
        "colab": {
          "base_uri": "https://localhost:8080/"
        },
        "outputId": "03b1848a-b75e-455e-ab13-8a66b5dedd4c"
      },
      "execution_count": 8,
      "outputs": [
        {
          "output_type": "stream",
          "name": "stdout",
          "text": [
            "Archive:  /content/world-food-facts.zip\n",
            "  inflating: en.openfoodfacts.org.products.tsv  \n"
          ]
        }
      ]
    },
    {
      "cell_type": "markdown",
      "source": [
        "Looking at the dataset"
      ],
      "metadata": {
        "id": "39bdnIfBjby3"
      }
    },
    {
      "cell_type": "markdown",
      "source": [
        "## **2** Data Cleaning"
      ],
      "metadata": {
        "id": "AFXhyYomqMNu"
      }
    },
    {
      "cell_type": "markdown",
      "source": [
        "Let's read in the TSV file and look at some of the rows."
      ],
      "metadata": {
        "id": "RnIQnwBi6O8n"
      }
    },
    {
      "cell_type": "code",
      "source": [
        "# Read the tsv file and save it to a dataframe called `df_open_food`\n",
        "df_open_food = pd.read_csv(\"en.openfoodfacts.org.products.tsv\", sep='\\t')\n",
        "\n",
        "# Check out the first five rows\n",
        "df_open_food.head(5)"
      ],
      "metadata": {
        "id": "iwL70wRVjZIq",
        "colab": {
          "base_uri": "https://localhost:8080/",
          "height": 419
        },
        "outputId": "7a2dfe85-51ec-40f3-dfd8-762dda4b7aa0"
      },
      "execution_count": 9,
      "outputs": [
        {
          "output_type": "stream",
          "name": "stderr",
          "text": [
            "/usr/local/lib/python3.8/dist-packages/IPython/core/interactiveshell.py:3326: DtypeWarning: Columns (0,3,5,19,20,24,25,26,27,28,36,37,38,39,48) have mixed types.Specify dtype option on import or set low_memory=False.\n",
            "  exec(code_obj, self.user_global_ns, self.user_ns)\n"
          ]
        },
        {
          "output_type": "execute_result",
          "data": {
            "text/plain": [
              "    code                                                url  \\\n",
              "0   3087  http://world-en.openfoodfacts.org/product/0000...   \n",
              "1   4530  http://world-en.openfoodfacts.org/product/0000...   \n",
              "2   4559  http://world-en.openfoodfacts.org/product/0000...   \n",
              "3  16087  http://world-en.openfoodfacts.org/product/0000...   \n",
              "4  16094  http://world-en.openfoodfacts.org/product/0000...   \n",
              "\n",
              "                      creator   created_t      created_datetime  \\\n",
              "0  openfoodfacts-contributors  1474103866  2016-09-17T09:17:46Z   \n",
              "1             usda-ndb-import  1489069957  2017-03-09T14:32:37Z   \n",
              "2             usda-ndb-import  1489069957  2017-03-09T14:32:37Z   \n",
              "3             usda-ndb-import  1489055731  2017-03-09T10:35:31Z   \n",
              "4             usda-ndb-import  1489055653  2017-03-09T10:34:13Z   \n",
              "\n",
              "  last_modified_t last_modified_datetime                    product_name  \\\n",
              "0      1474103893   2016-09-17T09:18:13Z              Farine de blé noir   \n",
              "1      1489069957   2017-03-09T14:32:37Z  Banana Chips Sweetened (Whole)   \n",
              "2      1489069957   2017-03-09T14:32:37Z                         Peanuts   \n",
              "3      1489055731   2017-03-09T10:35:31Z          Organic Salted Nut Mix   \n",
              "4      1489055653   2017-03-09T10:34:13Z                 Organic Polenta   \n",
              "\n",
              "  generic_name quantity  ... fruits-vegetables-nuts_100g  \\\n",
              "0          NaN      1kg  ...                         NaN   \n",
              "1          NaN      NaN  ...                         NaN   \n",
              "2          NaN      NaN  ...                         NaN   \n",
              "3          NaN      NaN  ...                         NaN   \n",
              "4          NaN      NaN  ...                         NaN   \n",
              "\n",
              "  fruits-vegetables-nuts-estimate_100g collagen-meat-protein-ratio_100g  \\\n",
              "0                                  NaN                              NaN   \n",
              "1                                  NaN                              NaN   \n",
              "2                                  NaN                              NaN   \n",
              "3                                  NaN                              NaN   \n",
              "4                                  NaN                              NaN   \n",
              "\n",
              "  cocoa_100g chlorophyl_100g carbon-footprint_100g nutrition-score-fr_100g  \\\n",
              "0        NaN             NaN                   NaN                     NaN   \n",
              "1        NaN             NaN                   NaN                    14.0   \n",
              "2        NaN             NaN                   NaN                     0.0   \n",
              "3        NaN             NaN                   NaN                    12.0   \n",
              "4        NaN             NaN                   NaN                     NaN   \n",
              "\n",
              "  nutrition-score-uk_100g glycemic-index_100g water-hardness_100g  \n",
              "0                     NaN                 NaN                 NaN  \n",
              "1                    14.0                 NaN                 NaN  \n",
              "2                     0.0                 NaN                 NaN  \n",
              "3                    12.0                 NaN                 NaN  \n",
              "4                     NaN                 NaN                 NaN  \n",
              "\n",
              "[5 rows x 163 columns]"
            ],
            "text/html": [
              "\n",
              "  <div id=\"df-7897a9a6-2525-44ab-a5ed-90ef6ad83fc1\">\n",
              "    <div class=\"colab-df-container\">\n",
              "      <div>\n",
              "<style scoped>\n",
              "    .dataframe tbody tr th:only-of-type {\n",
              "        vertical-align: middle;\n",
              "    }\n",
              "\n",
              "    .dataframe tbody tr th {\n",
              "        vertical-align: top;\n",
              "    }\n",
              "\n",
              "    .dataframe thead th {\n",
              "        text-align: right;\n",
              "    }\n",
              "</style>\n",
              "<table border=\"1\" class=\"dataframe\">\n",
              "  <thead>\n",
              "    <tr style=\"text-align: right;\">\n",
              "      <th></th>\n",
              "      <th>code</th>\n",
              "      <th>url</th>\n",
              "      <th>creator</th>\n",
              "      <th>created_t</th>\n",
              "      <th>created_datetime</th>\n",
              "      <th>last_modified_t</th>\n",
              "      <th>last_modified_datetime</th>\n",
              "      <th>product_name</th>\n",
              "      <th>generic_name</th>\n",
              "      <th>quantity</th>\n",
              "      <th>...</th>\n",
              "      <th>fruits-vegetables-nuts_100g</th>\n",
              "      <th>fruits-vegetables-nuts-estimate_100g</th>\n",
              "      <th>collagen-meat-protein-ratio_100g</th>\n",
              "      <th>cocoa_100g</th>\n",
              "      <th>chlorophyl_100g</th>\n",
              "      <th>carbon-footprint_100g</th>\n",
              "      <th>nutrition-score-fr_100g</th>\n",
              "      <th>nutrition-score-uk_100g</th>\n",
              "      <th>glycemic-index_100g</th>\n",
              "      <th>water-hardness_100g</th>\n",
              "    </tr>\n",
              "  </thead>\n",
              "  <tbody>\n",
              "    <tr>\n",
              "      <th>0</th>\n",
              "      <td>3087</td>\n",
              "      <td>http://world-en.openfoodfacts.org/product/0000...</td>\n",
              "      <td>openfoodfacts-contributors</td>\n",
              "      <td>1474103866</td>\n",
              "      <td>2016-09-17T09:17:46Z</td>\n",
              "      <td>1474103893</td>\n",
              "      <td>2016-09-17T09:18:13Z</td>\n",
              "      <td>Farine de blé noir</td>\n",
              "      <td>NaN</td>\n",
              "      <td>1kg</td>\n",
              "      <td>...</td>\n",
              "      <td>NaN</td>\n",
              "      <td>NaN</td>\n",
              "      <td>NaN</td>\n",
              "      <td>NaN</td>\n",
              "      <td>NaN</td>\n",
              "      <td>NaN</td>\n",
              "      <td>NaN</td>\n",
              "      <td>NaN</td>\n",
              "      <td>NaN</td>\n",
              "      <td>NaN</td>\n",
              "    </tr>\n",
              "    <tr>\n",
              "      <th>1</th>\n",
              "      <td>4530</td>\n",
              "      <td>http://world-en.openfoodfacts.org/product/0000...</td>\n",
              "      <td>usda-ndb-import</td>\n",
              "      <td>1489069957</td>\n",
              "      <td>2017-03-09T14:32:37Z</td>\n",
              "      <td>1489069957</td>\n",
              "      <td>2017-03-09T14:32:37Z</td>\n",
              "      <td>Banana Chips Sweetened (Whole)</td>\n",
              "      <td>NaN</td>\n",
              "      <td>NaN</td>\n",
              "      <td>...</td>\n",
              "      <td>NaN</td>\n",
              "      <td>NaN</td>\n",
              "      <td>NaN</td>\n",
              "      <td>NaN</td>\n",
              "      <td>NaN</td>\n",
              "      <td>NaN</td>\n",
              "      <td>14.0</td>\n",
              "      <td>14.0</td>\n",
              "      <td>NaN</td>\n",
              "      <td>NaN</td>\n",
              "    </tr>\n",
              "    <tr>\n",
              "      <th>2</th>\n",
              "      <td>4559</td>\n",
              "      <td>http://world-en.openfoodfacts.org/product/0000...</td>\n",
              "      <td>usda-ndb-import</td>\n",
              "      <td>1489069957</td>\n",
              "      <td>2017-03-09T14:32:37Z</td>\n",
              "      <td>1489069957</td>\n",
              "      <td>2017-03-09T14:32:37Z</td>\n",
              "      <td>Peanuts</td>\n",
              "      <td>NaN</td>\n",
              "      <td>NaN</td>\n",
              "      <td>...</td>\n",
              "      <td>NaN</td>\n",
              "      <td>NaN</td>\n",
              "      <td>NaN</td>\n",
              "      <td>NaN</td>\n",
              "      <td>NaN</td>\n",
              "      <td>NaN</td>\n",
              "      <td>0.0</td>\n",
              "      <td>0.0</td>\n",
              "      <td>NaN</td>\n",
              "      <td>NaN</td>\n",
              "    </tr>\n",
              "    <tr>\n",
              "      <th>3</th>\n",
              "      <td>16087</td>\n",
              "      <td>http://world-en.openfoodfacts.org/product/0000...</td>\n",
              "      <td>usda-ndb-import</td>\n",
              "      <td>1489055731</td>\n",
              "      <td>2017-03-09T10:35:31Z</td>\n",
              "      <td>1489055731</td>\n",
              "      <td>2017-03-09T10:35:31Z</td>\n",
              "      <td>Organic Salted Nut Mix</td>\n",
              "      <td>NaN</td>\n",
              "      <td>NaN</td>\n",
              "      <td>...</td>\n",
              "      <td>NaN</td>\n",
              "      <td>NaN</td>\n",
              "      <td>NaN</td>\n",
              "      <td>NaN</td>\n",
              "      <td>NaN</td>\n",
              "      <td>NaN</td>\n",
              "      <td>12.0</td>\n",
              "      <td>12.0</td>\n",
              "      <td>NaN</td>\n",
              "      <td>NaN</td>\n",
              "    </tr>\n",
              "    <tr>\n",
              "      <th>4</th>\n",
              "      <td>16094</td>\n",
              "      <td>http://world-en.openfoodfacts.org/product/0000...</td>\n",
              "      <td>usda-ndb-import</td>\n",
              "      <td>1489055653</td>\n",
              "      <td>2017-03-09T10:34:13Z</td>\n",
              "      <td>1489055653</td>\n",
              "      <td>2017-03-09T10:34:13Z</td>\n",
              "      <td>Organic Polenta</td>\n",
              "      <td>NaN</td>\n",
              "      <td>NaN</td>\n",
              "      <td>...</td>\n",
              "      <td>NaN</td>\n",
              "      <td>NaN</td>\n",
              "      <td>NaN</td>\n",
              "      <td>NaN</td>\n",
              "      <td>NaN</td>\n",
              "      <td>NaN</td>\n",
              "      <td>NaN</td>\n",
              "      <td>NaN</td>\n",
              "      <td>NaN</td>\n",
              "      <td>NaN</td>\n",
              "    </tr>\n",
              "  </tbody>\n",
              "</table>\n",
              "<p>5 rows × 163 columns</p>\n",
              "</div>\n",
              "      <button class=\"colab-df-convert\" onclick=\"convertToInteractive('df-7897a9a6-2525-44ab-a5ed-90ef6ad83fc1')\"\n",
              "              title=\"Convert this dataframe to an interactive table.\"\n",
              "              style=\"display:none;\">\n",
              "        \n",
              "  <svg xmlns=\"http://www.w3.org/2000/svg\" height=\"24px\"viewBox=\"0 0 24 24\"\n",
              "       width=\"24px\">\n",
              "    <path d=\"M0 0h24v24H0V0z\" fill=\"none\"/>\n",
              "    <path d=\"M18.56 5.44l.94 2.06.94-2.06 2.06-.94-2.06-.94-.94-2.06-.94 2.06-2.06.94zm-11 1L8.5 8.5l.94-2.06 2.06-.94-2.06-.94L8.5 2.5l-.94 2.06-2.06.94zm10 10l.94 2.06.94-2.06 2.06-.94-2.06-.94-.94-2.06-.94 2.06-2.06.94z\"/><path d=\"M17.41 7.96l-1.37-1.37c-.4-.4-.92-.59-1.43-.59-.52 0-1.04.2-1.43.59L10.3 9.45l-7.72 7.72c-.78.78-.78 2.05 0 2.83L4 21.41c.39.39.9.59 1.41.59.51 0 1.02-.2 1.41-.59l7.78-7.78 2.81-2.81c.8-.78.8-2.07 0-2.86zM5.41 20L4 18.59l7.72-7.72 1.47 1.35L5.41 20z\"/>\n",
              "  </svg>\n",
              "      </button>\n",
              "      \n",
              "  <style>\n",
              "    .colab-df-container {\n",
              "      display:flex;\n",
              "      flex-wrap:wrap;\n",
              "      gap: 12px;\n",
              "    }\n",
              "\n",
              "    .colab-df-convert {\n",
              "      background-color: #E8F0FE;\n",
              "      border: none;\n",
              "      border-radius: 50%;\n",
              "      cursor: pointer;\n",
              "      display: none;\n",
              "      fill: #1967D2;\n",
              "      height: 32px;\n",
              "      padding: 0 0 0 0;\n",
              "      width: 32px;\n",
              "    }\n",
              "\n",
              "    .colab-df-convert:hover {\n",
              "      background-color: #E2EBFA;\n",
              "      box-shadow: 0px 1px 2px rgba(60, 64, 67, 0.3), 0px 1px 3px 1px rgba(60, 64, 67, 0.15);\n",
              "      fill: #174EA6;\n",
              "    }\n",
              "\n",
              "    [theme=dark] .colab-df-convert {\n",
              "      background-color: #3B4455;\n",
              "      fill: #D2E3FC;\n",
              "    }\n",
              "\n",
              "    [theme=dark] .colab-df-convert:hover {\n",
              "      background-color: #434B5C;\n",
              "      box-shadow: 0px 1px 3px 1px rgba(0, 0, 0, 0.15);\n",
              "      filter: drop-shadow(0px 1px 2px rgba(0, 0, 0, 0.3));\n",
              "      fill: #FFFFFF;\n",
              "    }\n",
              "  </style>\n",
              "\n",
              "      <script>\n",
              "        const buttonEl =\n",
              "          document.querySelector('#df-7897a9a6-2525-44ab-a5ed-90ef6ad83fc1 button.colab-df-convert');\n",
              "        buttonEl.style.display =\n",
              "          google.colab.kernel.accessAllowed ? 'block' : 'none';\n",
              "\n",
              "        async function convertToInteractive(key) {\n",
              "          const element = document.querySelector('#df-7897a9a6-2525-44ab-a5ed-90ef6ad83fc1');\n",
              "          const dataTable =\n",
              "            await google.colab.kernel.invokeFunction('convertToInteractive',\n",
              "                                                     [key], {});\n",
              "          if (!dataTable) return;\n",
              "\n",
              "          const docLinkHtml = 'Like what you see? Visit the ' +\n",
              "            '<a target=\"_blank\" href=https://colab.research.google.com/notebooks/data_table.ipynb>data table notebook</a>'\n",
              "            + ' to learn more about interactive tables.';\n",
              "          element.innerHTML = '';\n",
              "          dataTable['output_type'] = 'display_data';\n",
              "          await google.colab.output.renderOutput(dataTable, element);\n",
              "          const docLink = document.createElement('div');\n",
              "          docLink.innerHTML = docLinkHtml;\n",
              "          element.appendChild(docLink);\n",
              "        }\n",
              "      </script>\n",
              "    </div>\n",
              "  </div>\n",
              "  "
            ]
          },
          "metadata": {},
          "execution_count": 9
        }
      ]
    },
    {
      "cell_type": "markdown",
      "source": [
        "We note a lot of NaN values, so let's remove columns with more than 50% duplicates and check for duplicates and data types of each column as well. "
      ],
      "metadata": {
        "id": "dwQa_UqD6S7N"
      }
    },
    {
      "cell_type": "code",
      "source": [
        "#TO-DO: Store the number of duplicate rows in total_duplicates\n",
        "total_duplicates = len(df_open_food)-len(df_open_food.drop_duplicates())\n",
        "total_duplicates"
      ],
      "metadata": {
        "id": "AAn9mxJojbLg",
        "colab": {
          "base_uri": "https://localhost:8080/"
        },
        "outputId": "d7c93f8a-b0e8-4c64-d83e-3c893915139e"
      },
      "execution_count": 10,
      "outputs": [
        {
          "output_type": "execute_result",
          "data": {
            "text/plain": [
              "0"
            ]
          },
          "metadata": {},
          "execution_count": 10
        }
      ]
    },
    {
      "cell_type": "code",
      "source": [
        "#drop columns that have more than 50% of the values as NaN\n",
        "df_open_food = df_open_food.drop(df_open_food.columns[df_open_food.isnull().sum(axis=0) > (0.5*len(df_open_food))], axis=1)\n",
        "df_open_food.head(10)"
      ],
      "metadata": {
        "id": "umWQUhILpeJX",
        "colab": {
          "base_uri": "https://localhost:8080/",
          "height": 393
        },
        "outputId": "05ea48cf-822d-4662-a903-28f3e659ad7d"
      },
      "execution_count": 11,
      "outputs": [
        {
          "output_type": "execute_result",
          "data": {
            "text/plain": [
              "    code                                                url  \\\n",
              "0   3087  http://world-en.openfoodfacts.org/product/0000...   \n",
              "1   4530  http://world-en.openfoodfacts.org/product/0000...   \n",
              "2   4559  http://world-en.openfoodfacts.org/product/0000...   \n",
              "3  16087  http://world-en.openfoodfacts.org/product/0000...   \n",
              "4  16094  http://world-en.openfoodfacts.org/product/0000...   \n",
              "5  16100  http://world-en.openfoodfacts.org/product/0000...   \n",
              "6  16117  http://world-en.openfoodfacts.org/product/0000...   \n",
              "7  16124  http://world-en.openfoodfacts.org/product/0000...   \n",
              "8  16193  http://world-en.openfoodfacts.org/product/0000...   \n",
              "9  16513  http://world-en.openfoodfacts.org/product/0000...   \n",
              "\n",
              "                      creator   created_t      created_datetime  \\\n",
              "0  openfoodfacts-contributors  1474103866  2016-09-17T09:17:46Z   \n",
              "1             usda-ndb-import  1489069957  2017-03-09T14:32:37Z   \n",
              "2             usda-ndb-import  1489069957  2017-03-09T14:32:37Z   \n",
              "3             usda-ndb-import  1489055731  2017-03-09T10:35:31Z   \n",
              "4             usda-ndb-import  1489055653  2017-03-09T10:34:13Z   \n",
              "5             usda-ndb-import  1489055651  2017-03-09T10:34:11Z   \n",
              "6             usda-ndb-import  1489055730  2017-03-09T10:35:30Z   \n",
              "7             usda-ndb-import  1489055711  2017-03-09T10:35:11Z   \n",
              "8             usda-ndb-import  1489055651  2017-03-09T10:34:11Z   \n",
              "9             usda-ndb-import  1489055654  2017-03-09T10:34:14Z   \n",
              "\n",
              "  last_modified_t last_modified_datetime                       product_name  \\\n",
              "0      1474103893   2016-09-17T09:18:13Z                 Farine de blé noir   \n",
              "1      1489069957   2017-03-09T14:32:37Z     Banana Chips Sweetened (Whole)   \n",
              "2      1489069957   2017-03-09T14:32:37Z                            Peanuts   \n",
              "3      1489055731   2017-03-09T10:35:31Z             Organic Salted Nut Mix   \n",
              "4      1489055653   2017-03-09T10:34:13Z                    Organic Polenta   \n",
              "5      1489055651   2017-03-09T10:34:11Z  Breadshop Honey Gone Nuts Granola   \n",
              "6      1489055730   2017-03-09T10:35:30Z      Organic Long Grain White Rice   \n",
              "7      1489055712   2017-03-09T10:35:12Z                     Organic Muesli   \n",
              "8      1489055651   2017-03-09T10:34:11Z       Organic Dark Chocolate Minis   \n",
              "9      1489055654   2017-03-09T10:34:14Z              Organic Sunflower Oil   \n",
              "\n",
              "                 brands           brands_tags  ... fat_100g  \\\n",
              "0       Ferme t'y R'nao       ferme-t-y-r-nao  ...      NaN   \n",
              "1                   NaN                   NaN  ...    28.57   \n",
              "2        Torn & Glasser          torn-glasser  ...    17.86   \n",
              "3             Grizzlies             grizzlies  ...    57.14   \n",
              "4        Bob's Red Mill        bob-s-red-mill  ...     1.43   \n",
              "5                  Unfi                  unfi  ...    18.27   \n",
              "6              Lundberg              lundberg  ...      NaN   \n",
              "7        Daddy's Muesli        daddy-s-muesli  ...    18.75   \n",
              "8        Equal Exchange        equal-exchange  ...    37.50   \n",
              "9  Napa Valley Naturals  napa-valley-naturals  ...   100.00   \n",
              "\n",
              "  saturated-fat_100g carbohydrates_100g sugars_100g fiber_100g  proteins_100g  \\\n",
              "0                NaN                NaN         NaN        NaN            NaN   \n",
              "1              28.57              64.29       14.29        3.6           3.57   \n",
              "2               0.00              60.71       17.86        7.1          17.86   \n",
              "3               5.36              17.86        3.57        7.1          17.86   \n",
              "4                NaN              77.14         NaN        5.7           8.57   \n",
              "5               1.92              63.46       11.54        7.7          13.46   \n",
              "6                NaN              80.00         NaN        NaN           8.89   \n",
              "7               4.69              57.81       15.62        9.4          14.06   \n",
              "8              22.50              55.00       42.50        7.5           5.00   \n",
              "9               7.14                NaN         NaN        NaN            NaN   \n",
              "\n",
              "  salt_100g  sodium_100g  nutrition-score-fr_100g nutrition-score-uk_100g  \n",
              "0       NaN          NaN                      NaN                     NaN  \n",
              "1   0.00000        0.000                     14.0                    14.0  \n",
              "2   0.63500        0.250                      0.0                     0.0  \n",
              "3   1.22428        0.482                     12.0                    12.0  \n",
              "4       NaN          NaN                      NaN                     NaN  \n",
              "5       NaN          NaN                      NaN                     NaN  \n",
              "6       NaN          NaN                      NaN                     NaN  \n",
              "7   0.13970        0.055                      7.0                     7.0  \n",
              "8       NaN          NaN                      NaN                     NaN  \n",
              "9       NaN          NaN                      NaN                     NaN  \n",
              "\n",
              "[10 rows x 34 columns]"
            ],
            "text/html": [
              "\n",
              "  <div id=\"df-2f4c989f-8034-4701-9865-e182b9896f4c\">\n",
              "    <div class=\"colab-df-container\">\n",
              "      <div>\n",
              "<style scoped>\n",
              "    .dataframe tbody tr th:only-of-type {\n",
              "        vertical-align: middle;\n",
              "    }\n",
              "\n",
              "    .dataframe tbody tr th {\n",
              "        vertical-align: top;\n",
              "    }\n",
              "\n",
              "    .dataframe thead th {\n",
              "        text-align: right;\n",
              "    }\n",
              "</style>\n",
              "<table border=\"1\" class=\"dataframe\">\n",
              "  <thead>\n",
              "    <tr style=\"text-align: right;\">\n",
              "      <th></th>\n",
              "      <th>code</th>\n",
              "      <th>url</th>\n",
              "      <th>creator</th>\n",
              "      <th>created_t</th>\n",
              "      <th>created_datetime</th>\n",
              "      <th>last_modified_t</th>\n",
              "      <th>last_modified_datetime</th>\n",
              "      <th>product_name</th>\n",
              "      <th>brands</th>\n",
              "      <th>brands_tags</th>\n",
              "      <th>...</th>\n",
              "      <th>fat_100g</th>\n",
              "      <th>saturated-fat_100g</th>\n",
              "      <th>carbohydrates_100g</th>\n",
              "      <th>sugars_100g</th>\n",
              "      <th>fiber_100g</th>\n",
              "      <th>proteins_100g</th>\n",
              "      <th>salt_100g</th>\n",
              "      <th>sodium_100g</th>\n",
              "      <th>nutrition-score-fr_100g</th>\n",
              "      <th>nutrition-score-uk_100g</th>\n",
              "    </tr>\n",
              "  </thead>\n",
              "  <tbody>\n",
              "    <tr>\n",
              "      <th>0</th>\n",
              "      <td>3087</td>\n",
              "      <td>http://world-en.openfoodfacts.org/product/0000...</td>\n",
              "      <td>openfoodfacts-contributors</td>\n",
              "      <td>1474103866</td>\n",
              "      <td>2016-09-17T09:17:46Z</td>\n",
              "      <td>1474103893</td>\n",
              "      <td>2016-09-17T09:18:13Z</td>\n",
              "      <td>Farine de blé noir</td>\n",
              "      <td>Ferme t'y R'nao</td>\n",
              "      <td>ferme-t-y-r-nao</td>\n",
              "      <td>...</td>\n",
              "      <td>NaN</td>\n",
              "      <td>NaN</td>\n",
              "      <td>NaN</td>\n",
              "      <td>NaN</td>\n",
              "      <td>NaN</td>\n",
              "      <td>NaN</td>\n",
              "      <td>NaN</td>\n",
              "      <td>NaN</td>\n",
              "      <td>NaN</td>\n",
              "      <td>NaN</td>\n",
              "    </tr>\n",
              "    <tr>\n",
              "      <th>1</th>\n",
              "      <td>4530</td>\n",
              "      <td>http://world-en.openfoodfacts.org/product/0000...</td>\n",
              "      <td>usda-ndb-import</td>\n",
              "      <td>1489069957</td>\n",
              "      <td>2017-03-09T14:32:37Z</td>\n",
              "      <td>1489069957</td>\n",
              "      <td>2017-03-09T14:32:37Z</td>\n",
              "      <td>Banana Chips Sweetened (Whole)</td>\n",
              "      <td>NaN</td>\n",
              "      <td>NaN</td>\n",
              "      <td>...</td>\n",
              "      <td>28.57</td>\n",
              "      <td>28.57</td>\n",
              "      <td>64.29</td>\n",
              "      <td>14.29</td>\n",
              "      <td>3.6</td>\n",
              "      <td>3.57</td>\n",
              "      <td>0.00000</td>\n",
              "      <td>0.000</td>\n",
              "      <td>14.0</td>\n",
              "      <td>14.0</td>\n",
              "    </tr>\n",
              "    <tr>\n",
              "      <th>2</th>\n",
              "      <td>4559</td>\n",
              "      <td>http://world-en.openfoodfacts.org/product/0000...</td>\n",
              "      <td>usda-ndb-import</td>\n",
              "      <td>1489069957</td>\n",
              "      <td>2017-03-09T14:32:37Z</td>\n",
              "      <td>1489069957</td>\n",
              "      <td>2017-03-09T14:32:37Z</td>\n",
              "      <td>Peanuts</td>\n",
              "      <td>Torn &amp; Glasser</td>\n",
              "      <td>torn-glasser</td>\n",
              "      <td>...</td>\n",
              "      <td>17.86</td>\n",
              "      <td>0.00</td>\n",
              "      <td>60.71</td>\n",
              "      <td>17.86</td>\n",
              "      <td>7.1</td>\n",
              "      <td>17.86</td>\n",
              "      <td>0.63500</td>\n",
              "      <td>0.250</td>\n",
              "      <td>0.0</td>\n",
              "      <td>0.0</td>\n",
              "    </tr>\n",
              "    <tr>\n",
              "      <th>3</th>\n",
              "      <td>16087</td>\n",
              "      <td>http://world-en.openfoodfacts.org/product/0000...</td>\n",
              "      <td>usda-ndb-import</td>\n",
              "      <td>1489055731</td>\n",
              "      <td>2017-03-09T10:35:31Z</td>\n",
              "      <td>1489055731</td>\n",
              "      <td>2017-03-09T10:35:31Z</td>\n",
              "      <td>Organic Salted Nut Mix</td>\n",
              "      <td>Grizzlies</td>\n",
              "      <td>grizzlies</td>\n",
              "      <td>...</td>\n",
              "      <td>57.14</td>\n",
              "      <td>5.36</td>\n",
              "      <td>17.86</td>\n",
              "      <td>3.57</td>\n",
              "      <td>7.1</td>\n",
              "      <td>17.86</td>\n",
              "      <td>1.22428</td>\n",
              "      <td>0.482</td>\n",
              "      <td>12.0</td>\n",
              "      <td>12.0</td>\n",
              "    </tr>\n",
              "    <tr>\n",
              "      <th>4</th>\n",
              "      <td>16094</td>\n",
              "      <td>http://world-en.openfoodfacts.org/product/0000...</td>\n",
              "      <td>usda-ndb-import</td>\n",
              "      <td>1489055653</td>\n",
              "      <td>2017-03-09T10:34:13Z</td>\n",
              "      <td>1489055653</td>\n",
              "      <td>2017-03-09T10:34:13Z</td>\n",
              "      <td>Organic Polenta</td>\n",
              "      <td>Bob's Red Mill</td>\n",
              "      <td>bob-s-red-mill</td>\n",
              "      <td>...</td>\n",
              "      <td>1.43</td>\n",
              "      <td>NaN</td>\n",
              "      <td>77.14</td>\n",
              "      <td>NaN</td>\n",
              "      <td>5.7</td>\n",
              "      <td>8.57</td>\n",
              "      <td>NaN</td>\n",
              "      <td>NaN</td>\n",
              "      <td>NaN</td>\n",
              "      <td>NaN</td>\n",
              "    </tr>\n",
              "    <tr>\n",
              "      <th>5</th>\n",
              "      <td>16100</td>\n",
              "      <td>http://world-en.openfoodfacts.org/product/0000...</td>\n",
              "      <td>usda-ndb-import</td>\n",
              "      <td>1489055651</td>\n",
              "      <td>2017-03-09T10:34:11Z</td>\n",
              "      <td>1489055651</td>\n",
              "      <td>2017-03-09T10:34:11Z</td>\n",
              "      <td>Breadshop Honey Gone Nuts Granola</td>\n",
              "      <td>Unfi</td>\n",
              "      <td>unfi</td>\n",
              "      <td>...</td>\n",
              "      <td>18.27</td>\n",
              "      <td>1.92</td>\n",
              "      <td>63.46</td>\n",
              "      <td>11.54</td>\n",
              "      <td>7.7</td>\n",
              "      <td>13.46</td>\n",
              "      <td>NaN</td>\n",
              "      <td>NaN</td>\n",
              "      <td>NaN</td>\n",
              "      <td>NaN</td>\n",
              "    </tr>\n",
              "    <tr>\n",
              "      <th>6</th>\n",
              "      <td>16117</td>\n",
              "      <td>http://world-en.openfoodfacts.org/product/0000...</td>\n",
              "      <td>usda-ndb-import</td>\n",
              "      <td>1489055730</td>\n",
              "      <td>2017-03-09T10:35:30Z</td>\n",
              "      <td>1489055730</td>\n",
              "      <td>2017-03-09T10:35:30Z</td>\n",
              "      <td>Organic Long Grain White Rice</td>\n",
              "      <td>Lundberg</td>\n",
              "      <td>lundberg</td>\n",
              "      <td>...</td>\n",
              "      <td>NaN</td>\n",
              "      <td>NaN</td>\n",
              "      <td>80.00</td>\n",
              "      <td>NaN</td>\n",
              "      <td>NaN</td>\n",
              "      <td>8.89</td>\n",
              "      <td>NaN</td>\n",
              "      <td>NaN</td>\n",
              "      <td>NaN</td>\n",
              "      <td>NaN</td>\n",
              "    </tr>\n",
              "    <tr>\n",
              "      <th>7</th>\n",
              "      <td>16124</td>\n",
              "      <td>http://world-en.openfoodfacts.org/product/0000...</td>\n",
              "      <td>usda-ndb-import</td>\n",
              "      <td>1489055711</td>\n",
              "      <td>2017-03-09T10:35:11Z</td>\n",
              "      <td>1489055712</td>\n",
              "      <td>2017-03-09T10:35:12Z</td>\n",
              "      <td>Organic Muesli</td>\n",
              "      <td>Daddy's Muesli</td>\n",
              "      <td>daddy-s-muesli</td>\n",
              "      <td>...</td>\n",
              "      <td>18.75</td>\n",
              "      <td>4.69</td>\n",
              "      <td>57.81</td>\n",
              "      <td>15.62</td>\n",
              "      <td>9.4</td>\n",
              "      <td>14.06</td>\n",
              "      <td>0.13970</td>\n",
              "      <td>0.055</td>\n",
              "      <td>7.0</td>\n",
              "      <td>7.0</td>\n",
              "    </tr>\n",
              "    <tr>\n",
              "      <th>8</th>\n",
              "      <td>16193</td>\n",
              "      <td>http://world-en.openfoodfacts.org/product/0000...</td>\n",
              "      <td>usda-ndb-import</td>\n",
              "      <td>1489055651</td>\n",
              "      <td>2017-03-09T10:34:11Z</td>\n",
              "      <td>1489055651</td>\n",
              "      <td>2017-03-09T10:34:11Z</td>\n",
              "      <td>Organic Dark Chocolate Minis</td>\n",
              "      <td>Equal Exchange</td>\n",
              "      <td>equal-exchange</td>\n",
              "      <td>...</td>\n",
              "      <td>37.50</td>\n",
              "      <td>22.50</td>\n",
              "      <td>55.00</td>\n",
              "      <td>42.50</td>\n",
              "      <td>7.5</td>\n",
              "      <td>5.00</td>\n",
              "      <td>NaN</td>\n",
              "      <td>NaN</td>\n",
              "      <td>NaN</td>\n",
              "      <td>NaN</td>\n",
              "    </tr>\n",
              "    <tr>\n",
              "      <th>9</th>\n",
              "      <td>16513</td>\n",
              "      <td>http://world-en.openfoodfacts.org/product/0000...</td>\n",
              "      <td>usda-ndb-import</td>\n",
              "      <td>1489055654</td>\n",
              "      <td>2017-03-09T10:34:14Z</td>\n",
              "      <td>1489055654</td>\n",
              "      <td>2017-03-09T10:34:14Z</td>\n",
              "      <td>Organic Sunflower Oil</td>\n",
              "      <td>Napa Valley Naturals</td>\n",
              "      <td>napa-valley-naturals</td>\n",
              "      <td>...</td>\n",
              "      <td>100.00</td>\n",
              "      <td>7.14</td>\n",
              "      <td>NaN</td>\n",
              "      <td>NaN</td>\n",
              "      <td>NaN</td>\n",
              "      <td>NaN</td>\n",
              "      <td>NaN</td>\n",
              "      <td>NaN</td>\n",
              "      <td>NaN</td>\n",
              "      <td>NaN</td>\n",
              "    </tr>\n",
              "  </tbody>\n",
              "</table>\n",
              "<p>10 rows × 34 columns</p>\n",
              "</div>\n",
              "      <button class=\"colab-df-convert\" onclick=\"convertToInteractive('df-2f4c989f-8034-4701-9865-e182b9896f4c')\"\n",
              "              title=\"Convert this dataframe to an interactive table.\"\n",
              "              style=\"display:none;\">\n",
              "        \n",
              "  <svg xmlns=\"http://www.w3.org/2000/svg\" height=\"24px\"viewBox=\"0 0 24 24\"\n",
              "       width=\"24px\">\n",
              "    <path d=\"M0 0h24v24H0V0z\" fill=\"none\"/>\n",
              "    <path d=\"M18.56 5.44l.94 2.06.94-2.06 2.06-.94-2.06-.94-.94-2.06-.94 2.06-2.06.94zm-11 1L8.5 8.5l.94-2.06 2.06-.94-2.06-.94L8.5 2.5l-.94 2.06-2.06.94zm10 10l.94 2.06.94-2.06 2.06-.94-2.06-.94-.94-2.06-.94 2.06-2.06.94z\"/><path d=\"M17.41 7.96l-1.37-1.37c-.4-.4-.92-.59-1.43-.59-.52 0-1.04.2-1.43.59L10.3 9.45l-7.72 7.72c-.78.78-.78 2.05 0 2.83L4 21.41c.39.39.9.59 1.41.59.51 0 1.02-.2 1.41-.59l7.78-7.78 2.81-2.81c.8-.78.8-2.07 0-2.86zM5.41 20L4 18.59l7.72-7.72 1.47 1.35L5.41 20z\"/>\n",
              "  </svg>\n",
              "      </button>\n",
              "      \n",
              "  <style>\n",
              "    .colab-df-container {\n",
              "      display:flex;\n",
              "      flex-wrap:wrap;\n",
              "      gap: 12px;\n",
              "    }\n",
              "\n",
              "    .colab-df-convert {\n",
              "      background-color: #E8F0FE;\n",
              "      border: none;\n",
              "      border-radius: 50%;\n",
              "      cursor: pointer;\n",
              "      display: none;\n",
              "      fill: #1967D2;\n",
              "      height: 32px;\n",
              "      padding: 0 0 0 0;\n",
              "      width: 32px;\n",
              "    }\n",
              "\n",
              "    .colab-df-convert:hover {\n",
              "      background-color: #E2EBFA;\n",
              "      box-shadow: 0px 1px 2px rgba(60, 64, 67, 0.3), 0px 1px 3px 1px rgba(60, 64, 67, 0.15);\n",
              "      fill: #174EA6;\n",
              "    }\n",
              "\n",
              "    [theme=dark] .colab-df-convert {\n",
              "      background-color: #3B4455;\n",
              "      fill: #D2E3FC;\n",
              "    }\n",
              "\n",
              "    [theme=dark] .colab-df-convert:hover {\n",
              "      background-color: #434B5C;\n",
              "      box-shadow: 0px 1px 3px 1px rgba(0, 0, 0, 0.15);\n",
              "      filter: drop-shadow(0px 1px 2px rgba(0, 0, 0, 0.3));\n",
              "      fill: #FFFFFF;\n",
              "    }\n",
              "  </style>\n",
              "\n",
              "      <script>\n",
              "        const buttonEl =\n",
              "          document.querySelector('#df-2f4c989f-8034-4701-9865-e182b9896f4c button.colab-df-convert');\n",
              "        buttonEl.style.display =\n",
              "          google.colab.kernel.accessAllowed ? 'block' : 'none';\n",
              "\n",
              "        async function convertToInteractive(key) {\n",
              "          const element = document.querySelector('#df-2f4c989f-8034-4701-9865-e182b9896f4c');\n",
              "          const dataTable =\n",
              "            await google.colab.kernel.invokeFunction('convertToInteractive',\n",
              "                                                     [key], {});\n",
              "          if (!dataTable) return;\n",
              "\n",
              "          const docLinkHtml = 'Like what you see? Visit the ' +\n",
              "            '<a target=\"_blank\" href=https://colab.research.google.com/notebooks/data_table.ipynb>data table notebook</a>'\n",
              "            + ' to learn more about interactive tables.';\n",
              "          element.innerHTML = '';\n",
              "          dataTable['output_type'] = 'display_data';\n",
              "          await google.colab.output.renderOutput(dataTable, element);\n",
              "          const docLink = document.createElement('div');\n",
              "          docLink.innerHTML = docLinkHtml;\n",
              "          element.appendChild(docLink);\n",
              "        }\n",
              "      </script>\n",
              "    </div>\n",
              "  </div>\n",
              "  "
            ]
          },
          "metadata": {},
          "execution_count": 11
        }
      ]
    },
    {
      "cell_type": "code",
      "source": [
        "#check data types\n",
        "df_open_food.dtypes"
      ],
      "metadata": {
        "id": "dO9UlwW1shCb",
        "colab": {
          "base_uri": "https://localhost:8080/"
        },
        "outputId": "630e92a0-a1f4-4678-efbd-307815377751"
      },
      "execution_count": 12,
      "outputs": [
        {
          "output_type": "execute_result",
          "data": {
            "text/plain": [
              "code                                        object\n",
              "url                                         object\n",
              "creator                                     object\n",
              "created_t                                   object\n",
              "created_datetime                            object\n",
              "last_modified_t                             object\n",
              "last_modified_datetime                      object\n",
              "product_name                                object\n",
              "brands                                      object\n",
              "brands_tags                                 object\n",
              "countries                                   object\n",
              "countries_tags                              object\n",
              "countries_en                                object\n",
              "ingredients_text                            object\n",
              "serving_size                                object\n",
              "additives_n                                float64\n",
              "additives                                   object\n",
              "ingredients_from_palm_oil_n                float64\n",
              "ingredients_that_may_be_from_palm_oil_n    float64\n",
              "nutrition_grade_fr                          object\n",
              "states                                      object\n",
              "states_tags                                 object\n",
              "states_en                                   object\n",
              "energy_100g                                float64\n",
              "fat_100g                                   float64\n",
              "saturated-fat_100g                         float64\n",
              "carbohydrates_100g                         float64\n",
              "sugars_100g                                float64\n",
              "fiber_100g                                 float64\n",
              "proteins_100g                              float64\n",
              "salt_100g                                  float64\n",
              "sodium_100g                                float64\n",
              "nutrition-score-fr_100g                    float64\n",
              "nutrition-score-uk_100g                    float64\n",
              "dtype: object"
            ]
          },
          "metadata": {},
          "execution_count": 12
        }
      ]
    },
    {
      "cell_type": "markdown",
      "source": [
        "####Cleaning Country Column####\n",
        "Since we want to analyze where the food products are coming from, we first need to clean the country data. There are multiple columns with country information, including countries, country_tags, and countries_en. We ultimately decided to use countries_en, exploded the lists, and removed or edited duplicate names."
      ],
      "metadata": {
        "id": "nOxhQrV-Xr18"
      }
    },
    {
      "cell_type": "code",
      "source": [
        "#Look into the 3 different countries columns and separate lists of countries\n",
        "score_country_df = df_open_food[['code', 'url', 'nutrition-score-fr_100g', 'countries_en', 'product_name']]\n",
        "\n",
        "score_country_df['country'] = score_country_df['countries_en'].str.split(\",|:\")\n",
        "score_country_df = score_country_df.explode('country')\n",
        "\n",
        "#clean up -- remove fr: or en: prefix, standardize duplicate countries\n",
        "score_country_df['country'] = score_country_df['country'].str.rsplit(\":\")\n",
        "score_country_df = score_country_df.explode('country')\n",
        "score_country_df = score_country_df[(score_country_df['country'] != 'fr') & \n",
        "                                    (score_country_df['country'] != 'en')]\n",
        "score_country_df['country'] = score_country_df['country'].replace({\n",
        "    'United-states-of-america': 'United States',\n",
        "    '日本': 'Japan', 'Other-日本':'Japan', 'Other-japon':'Japan',\n",
        "    'Republique-de-chine': 'China', '中华人民共和国' : 'China',\n",
        "    '香港':'Hong Kong',\n",
        "    'العراق':'Iraq','Other-العراق':'Iraq',\n",
        "    'ព្រះរាជាណាចក្រកម្ពុជា':'Cambodia',\n",
        "    'السعودية':'Saudi Arabia',\n",
        "    'المملكة-المتحدة':'United Kingdom',\n",
        "    'البحرين':'Bahrain',\n",
        "    'Франция' : 'France',\n",
        "    'سلطنة-عمان' : 'Oman',\n",
        "    'Other-turquie' : 'Turkey',\n",
        "    'Danemark' : 'Denmark',\n",
        "    'grande-bretagne' : 'United Kingdom', 'Reino-unido' : 'United Kingdom',\n",
        "    'Grande-bretagne': 'United Kingdom', 'Angleterre' : 'United Kingdom',\n",
        "    'भारत' : 'India', \n",
        "    'Marseille-5':'France', 'Belgien' : 'Belgium'\n",
        "    })\n",
        "\n",
        "#view unique countries\n",
        "uniq_country = pd.unique(score_country_df['country'])\n",
        "num_countries = uniq_country.size\n",
        "\n",
        "uniq_country \n",
        "#num_countries\n"
      ],
      "metadata": {
        "id": "mcAd0RSNtt5m",
        "colab": {
          "base_uri": "https://localhost:8080/"
        },
        "outputId": "1b79e9a7-65ba-4764-a2e0-a252c13c10ae"
      },
      "execution_count": 13,
      "outputs": [
        {
          "output_type": "stream",
          "name": "stderr",
          "text": [
            "<ipython-input-13-1a2c7a9ed15a>:4: SettingWithCopyWarning: \n",
            "A value is trying to be set on a copy of a slice from a DataFrame.\n",
            "Try using .loc[row_indexer,col_indexer] = value instead\n",
            "\n",
            "See the caveats in the documentation: https://pandas.pydata.org/pandas-docs/stable/user_guide/indexing.html#returning-a-view-versus-a-copy\n",
            "  score_country_df['country'] = score_country_df['countries_en'].str.split(\",|:\")\n"
          ]
        },
        {
          "output_type": "execute_result",
          "data": {
            "text/plain": [
              "array(['France', 'United States', 'United Kingdom', 'Canada',\n",
              "       'Switzerland', 'Spain', 'Germany', 'Slovenia', 'Bangladesh',\n",
              "       'Italy', 'Romania', 'Australia', 'Portugal', 'Belgium',\n",
              "       'Netherlands', 'Guadeloupe', 'Dominican Republic', 'Ireland',\n",
              "       'Réunion', 'Taiwan', 'Brazil', 'Mexico', 'Saudi Arabia',\n",
              "       'United Arab Emirates', 'Iraq', 'Kuwait', 'Moldova',\n",
              "       'New Caledonia', nan, 'Singapore', 'Finland', 'Sweden',\n",
              "       'French Polynesia', 'New Zealand', 'Thailand', 'Panama',\n",
              "       'Costa Rica', 'Scotland', 'Trinidad and Tobago', 'China',\n",
              "       'Hong Kong', 'Luxembourg', 'Lebanon', 'Denmark', 'Belgie',\n",
              "       'Nederland', 'Malaysia', 'Guyana', 'Serbia', 'Martinique',\n",
              "       'Barbados', 'Aruba', 'Norway', 'Haiti', 'El Salvador', 'Bahrain',\n",
              "       'Guatemala', 'Morocco', 'Oman', 'South Korea', 'Chile', 'Cuba',\n",
              "       'Japan', 'Israel', 'Philippines', 'Austria', 'Guinea', 'Jordan',\n",
              "       'Russia', 'Saint Pierre and Miquelon', 'Algeria', 'Quebec',\n",
              "       'Czech Republic', 'Mauritius', 'Indonesia', 'Armenia',\n",
              "       \"Côte d'Ivoire\", 'Poland', 'Greece', 'India', 'Ecuador', 'Turkey',\n",
              "       'Cambodia', 'Hungary', 'Argentina', 'European Union', 'Colombia',\n",
              "       'Qatar', 'French Guiana', 'Bulgaria', 'Burkina Faso', 'Peru',\n",
              "       'Tunisia', 'Puerto Rico', 'Nigeria', 'Honduras', 'Egypt', 'Monaco',\n",
              "       'Cyprus', 'Venezuela', 'South Africa', 'Mongolia', 'Myanmar',\n",
              "       'Vietnam', 'Suriname', 'Pakistan', 'Deutschland', 'Cameroon',\n",
              "       'Virgin Islands of the United States', 'Senegal', 'Slovakia',\n",
              "       'Lithuania', 'Togo', 'Iceland', 'Soviet Union', 'Global-market',\n",
              "       'Ukraine', 'World', 'Madagascar', 'Macau', 'Demonte-italie',\n",
              "       'Schweiz', 'Frankreich', 'Spanien', 'Albania', 'Malta', 'Croatia',\n",
              "       'Malawi', 'Mali', 'Gabon', 'Kazakhstan', 'Saint Martin',\n",
              "       'fresh-foods', 'dairies', 'Republic of the Congo', 'Mayotte',\n",
              "       'Alemania', 'Mauricio', 'Sint Maarten', 'Vanuatu', 'Latvia',\n",
              "       'Bourgogne-aube-nogent-sur-seine', 'Andorra', 'Puyricard',\n",
              "       'Ecosse', 'Wallis and Futuna', 'Frankrijk', 'Griekenland',\n",
              "       'Spanje', 'Estonia', 'Niger', 'Bosnia and Herzegovina',\n",
              "       'Republic of Macedonia', 'Belarus', 'Mauritania', 'Iran',\n",
              "       'Montenegro', 'Allemagne', 'Afghanistan', 'Azerbaijan', 'Chad',\n",
              "       'Sri Lanka', 'Georgia', 'Mozambique', 'Libya', 'Irland', 'Jersey',\n",
              "       'Burundi', 'Democratic Republic of the Congo', 'Ghana',\n",
              "       'Guinea-Bissau', 'Belgiqu', 'nl', 'Bolivia',\n",
              "       'Central African Republic', 'Angola', 'Szczecin', 'Namibia',\n",
              "       'Kenya', 'Tanzania', 'Rwanda', 'Brunei', 'Somalia', 'Syria',\n",
              "       'Yemen', 'State of Palestine', 'Palestinian territories', 'Ap',\n",
              "       'Isle of Man', 'Uruguay', 'Paraguay', 'Ethiopia', 'Cook Islands',\n",
              "       'Maldives', 'xx', 'Fiji'], dtype=object)"
            ]
          },
          "metadata": {},
          "execution_count": 13
        }
      ]
    },
    {
      "cell_type": "markdown",
      "source": [
        "# **3** Exploratory Data Analysis"
      ],
      "metadata": {
        "id": "yZYjcTl5tbUk"
      }
    },
    {
      "cell_type": "markdown",
      "source": [
        "## Countries vs Nutrition EDA\n",
        "Having cleaned the country column, we can now explore the origins of the food products in the dataset. First we list out the 10 most commonly occuring countries -- as expected, U.S. and France occur the most frequently."
      ],
      "metadata": {
        "id": "jg2EiHUuWAXs"
      }
    },
    {
      "cell_type": "code",
      "source": [
        "#Groupby, sorts, and head viewing of the countries and counts\n",
        "countries_df = score_country_df[['country','code']].groupby('country').count()\n",
        "countries_df = countries_df.sort_values('code', ascending = False)\n",
        "countries_df.rename(columns={'code': 'count'}, inplace=True)\n",
        "countries_df.head(5)"
      ],
      "metadata": {
        "id": "xWQDvM9xWJGe",
        "colab": {
          "base_uri": "https://localhost:8080/",
          "height": 238
        },
        "outputId": "87c03400-fcde-4cbb-ae53-4ee16c205127"
      },
      "execution_count": 14,
      "outputs": [
        {
          "output_type": "execute_result",
          "data": {
            "text/plain": [
              "                count\n",
              "country              \n",
              "United States  173709\n",
              "France         129322\n",
              "Switzerland     17204\n",
              "Germany          9403\n",
              "Spain            6061"
            ],
            "text/html": [
              "\n",
              "  <div id=\"df-af9cbe83-2c28-4f63-8e3c-f331249d4d19\">\n",
              "    <div class=\"colab-df-container\">\n",
              "      <div>\n",
              "<style scoped>\n",
              "    .dataframe tbody tr th:only-of-type {\n",
              "        vertical-align: middle;\n",
              "    }\n",
              "\n",
              "    .dataframe tbody tr th {\n",
              "        vertical-align: top;\n",
              "    }\n",
              "\n",
              "    .dataframe thead th {\n",
              "        text-align: right;\n",
              "    }\n",
              "</style>\n",
              "<table border=\"1\" class=\"dataframe\">\n",
              "  <thead>\n",
              "    <tr style=\"text-align: right;\">\n",
              "      <th></th>\n",
              "      <th>count</th>\n",
              "    </tr>\n",
              "    <tr>\n",
              "      <th>country</th>\n",
              "      <th></th>\n",
              "    </tr>\n",
              "  </thead>\n",
              "  <tbody>\n",
              "    <tr>\n",
              "      <th>United States</th>\n",
              "      <td>173709</td>\n",
              "    </tr>\n",
              "    <tr>\n",
              "      <th>France</th>\n",
              "      <td>129322</td>\n",
              "    </tr>\n",
              "    <tr>\n",
              "      <th>Switzerland</th>\n",
              "      <td>17204</td>\n",
              "    </tr>\n",
              "    <tr>\n",
              "      <th>Germany</th>\n",
              "      <td>9403</td>\n",
              "    </tr>\n",
              "    <tr>\n",
              "      <th>Spain</th>\n",
              "      <td>6061</td>\n",
              "    </tr>\n",
              "  </tbody>\n",
              "</table>\n",
              "</div>\n",
              "      <button class=\"colab-df-convert\" onclick=\"convertToInteractive('df-af9cbe83-2c28-4f63-8e3c-f331249d4d19')\"\n",
              "              title=\"Convert this dataframe to an interactive table.\"\n",
              "              style=\"display:none;\">\n",
              "        \n",
              "  <svg xmlns=\"http://www.w3.org/2000/svg\" height=\"24px\"viewBox=\"0 0 24 24\"\n",
              "       width=\"24px\">\n",
              "    <path d=\"M0 0h24v24H0V0z\" fill=\"none\"/>\n",
              "    <path d=\"M18.56 5.44l.94 2.06.94-2.06 2.06-.94-2.06-.94-.94-2.06-.94 2.06-2.06.94zm-11 1L8.5 8.5l.94-2.06 2.06-.94-2.06-.94L8.5 2.5l-.94 2.06-2.06.94zm10 10l.94 2.06.94-2.06 2.06-.94-2.06-.94-.94-2.06-.94 2.06-2.06.94z\"/><path d=\"M17.41 7.96l-1.37-1.37c-.4-.4-.92-.59-1.43-.59-.52 0-1.04.2-1.43.59L10.3 9.45l-7.72 7.72c-.78.78-.78 2.05 0 2.83L4 21.41c.39.39.9.59 1.41.59.51 0 1.02-.2 1.41-.59l7.78-7.78 2.81-2.81c.8-.78.8-2.07 0-2.86zM5.41 20L4 18.59l7.72-7.72 1.47 1.35L5.41 20z\"/>\n",
              "  </svg>\n",
              "      </button>\n",
              "      \n",
              "  <style>\n",
              "    .colab-df-container {\n",
              "      display:flex;\n",
              "      flex-wrap:wrap;\n",
              "      gap: 12px;\n",
              "    }\n",
              "\n",
              "    .colab-df-convert {\n",
              "      background-color: #E8F0FE;\n",
              "      border: none;\n",
              "      border-radius: 50%;\n",
              "      cursor: pointer;\n",
              "      display: none;\n",
              "      fill: #1967D2;\n",
              "      height: 32px;\n",
              "      padding: 0 0 0 0;\n",
              "      width: 32px;\n",
              "    }\n",
              "\n",
              "    .colab-df-convert:hover {\n",
              "      background-color: #E2EBFA;\n",
              "      box-shadow: 0px 1px 2px rgba(60, 64, 67, 0.3), 0px 1px 3px 1px rgba(60, 64, 67, 0.15);\n",
              "      fill: #174EA6;\n",
              "    }\n",
              "\n",
              "    [theme=dark] .colab-df-convert {\n",
              "      background-color: #3B4455;\n",
              "      fill: #D2E3FC;\n",
              "    }\n",
              "\n",
              "    [theme=dark] .colab-df-convert:hover {\n",
              "      background-color: #434B5C;\n",
              "      box-shadow: 0px 1px 3px 1px rgba(0, 0, 0, 0.15);\n",
              "      filter: drop-shadow(0px 1px 2px rgba(0, 0, 0, 0.3));\n",
              "      fill: #FFFFFF;\n",
              "    }\n",
              "  </style>\n",
              "\n",
              "      <script>\n",
              "        const buttonEl =\n",
              "          document.querySelector('#df-af9cbe83-2c28-4f63-8e3c-f331249d4d19 button.colab-df-convert');\n",
              "        buttonEl.style.display =\n",
              "          google.colab.kernel.accessAllowed ? 'block' : 'none';\n",
              "\n",
              "        async function convertToInteractive(key) {\n",
              "          const element = document.querySelector('#df-af9cbe83-2c28-4f63-8e3c-f331249d4d19');\n",
              "          const dataTable =\n",
              "            await google.colab.kernel.invokeFunction('convertToInteractive',\n",
              "                                                     [key], {});\n",
              "          if (!dataTable) return;\n",
              "\n",
              "          const docLinkHtml = 'Like what you see? Visit the ' +\n",
              "            '<a target=\"_blank\" href=https://colab.research.google.com/notebooks/data_table.ipynb>data table notebook</a>'\n",
              "            + ' to learn more about interactive tables.';\n",
              "          element.innerHTML = '';\n",
              "          dataTable['output_type'] = 'display_data';\n",
              "          await google.colab.output.renderOutput(dataTable, element);\n",
              "          const docLink = document.createElement('div');\n",
              "          docLink.innerHTML = docLinkHtml;\n",
              "          element.appendChild(docLink);\n",
              "        }\n",
              "      </script>\n",
              "    </div>\n",
              "  </div>\n",
              "  "
            ]
          },
          "metadata": {},
          "execution_count": 14
        }
      ]
    },
    {
      "cell_type": "markdown",
      "source": [
        "Pie Chart of the Top 10 Countries represented"
      ],
      "metadata": {
        "id": "dOknlmdHb2eS"
      }
    },
    {
      "cell_type": "code",
      "source": [
        "#Create figure large enough so that the text is visible and doesn't overlap\n",
        "countries_df.head(10).plot(kind='pie', y='count', legend=False, figsize=(12, 12))\n",
        "plt.title(\"Proportion of Top 10 Countries in Dataset\", size = 15)"
      ],
      "metadata": {
        "id": "r4Bie21CbIBr",
        "colab": {
          "base_uri": "https://localhost:8080/",
          "height": 718
        },
        "outputId": "5f409e15-055d-4f47-945f-cbbb5f65be5b"
      },
      "execution_count": 15,
      "outputs": [
        {
          "output_type": "execute_result",
          "data": {
            "text/plain": [
              "Text(0.5, 1.0, 'Proportion of Top 10 Countries in Dataset')"
            ]
          },
          "metadata": {},
          "execution_count": 15
        },
        {
          "output_type": "display_data",
          "data": {
            "text/plain": [
              "<Figure size 864x864 with 1 Axes>"
            ],
            "image/png": "[encoded data removed]"
          },
          "metadata": {}
        }
      ]
    },
    {
      "cell_type": "markdown",
      "source": [
        "Top 10 countries with best average nutrition score\n",
        "By averaging the nutrition score of all products for each country, we found the 10 countries in the dataset with the \"healthiest\" food."
      ],
      "metadata": {
        "id": "XwRBpURXXdBz"
      }
    },
    {
      "cell_type": "code",
      "source": [
        "#Mean and sort to find country with highest nutrition score\n",
        "nutrition_df = score_country_df[['country','code','nutrition-score-fr_100g']]\n",
        "nutrition_df = nutrition_df[nutrition_df['nutrition-score-fr_100g'].notna()]\n",
        "\n",
        "nutrition_df = nutrition_df.groupby('country')['nutrition-score-fr_100g'].mean().reset_index()\n",
        "nutrition_df = nutrition_df.sort_values('nutrition-score-fr_100g', ascending = False)\n",
        "nutrition_df.head(10)"
      ],
      "metadata": {
        "id": "L0TtURXpXm2u",
        "colab": {
          "base_uri": "https://localhost:8080/",
          "height": 364
        },
        "outputId": "8d1f384b-42d7-415d-d23f-753f51ff6eed"
      },
      "execution_count": 16,
      "outputs": [
        {
          "output_type": "execute_result",
          "data": {
            "text/plain": [
              "                country  nutrition-score-fr_100g\n",
              "91             Pakistan                33.000000\n",
              "12              Belarus                27.000000\n",
              "6               Armenia                22.000000\n",
              "132               Yemen                21.000000\n",
              "68                Libya                21.000000\n",
              "118  State of Palestine                21.000000\n",
              "63               Jordan                21.000000\n",
              "72           Madagascar                20.666667\n",
              "56            Indonesia                20.000000\n",
              "22             Cameroon                20.000000"
            ],
            "text/html": [
              "\n",
              "  <div id=\"df-01903bfd-bf78-4781-b6d8-3131f45374b7\">\n",
              "    <div class=\"colab-df-container\">\n",
              "      <div>\n",
              "<style scoped>\n",
              "    .dataframe tbody tr th:only-of-type {\n",
              "        vertical-align: middle;\n",
              "    }\n",
              "\n",
              "    .dataframe tbody tr th {\n",
              "        vertical-align: top;\n",
              "    }\n",
              "\n",
              "    .dataframe thead th {\n",
              "        text-align: right;\n",
              "    }\n",
              "</style>\n",
              "<table border=\"1\" class=\"dataframe\">\n",
              "  <thead>\n",
              "    <tr style=\"text-align: right;\">\n",
              "      <th></th>\n",
              "      <th>country</th>\n",
              "      <th>nutrition-score-fr_100g</th>\n",
              "    </tr>\n",
              "  </thead>\n",
              "  <tbody>\n",
              "    <tr>\n",
              "      <th>91</th>\n",
              "      <td>Pakistan</td>\n",
              "      <td>33.000000</td>\n",
              "    </tr>\n",
              "    <tr>\n",
              "      <th>12</th>\n",
              "      <td>Belarus</td>\n",
              "      <td>27.000000</td>\n",
              "    </tr>\n",
              "    <tr>\n",
              "      <th>6</th>\n",
              "      <td>Armenia</td>\n",
              "      <td>22.000000</td>\n",
              "    </tr>\n",
              "    <tr>\n",
              "      <th>132</th>\n",
              "      <td>Yemen</td>\n",
              "      <td>21.000000</td>\n",
              "    </tr>\n",
              "    <tr>\n",
              "      <th>68</th>\n",
              "      <td>Libya</td>\n",
              "      <td>21.000000</td>\n",
              "    </tr>\n",
              "    <tr>\n",
              "      <th>118</th>\n",
              "      <td>State of Palestine</td>\n",
              "      <td>21.000000</td>\n",
              "    </tr>\n",
              "    <tr>\n",
              "      <th>63</th>\n",
              "      <td>Jordan</td>\n",
              "      <td>21.000000</td>\n",
              "    </tr>\n",
              "    <tr>\n",
              "      <th>72</th>\n",
              "      <td>Madagascar</td>\n",
              "      <td>20.666667</td>\n",
              "    </tr>\n",
              "    <tr>\n",
              "      <th>56</th>\n",
              "      <td>Indonesia</td>\n",
              "      <td>20.000000</td>\n",
              "    </tr>\n",
              "    <tr>\n",
              "      <th>22</th>\n",
              "      <td>Cameroon</td>\n",
              "      <td>20.000000</td>\n",
              "    </tr>\n",
              "  </tbody>\n",
              "</table>\n",
              "</div>\n",
              "      <button class=\"colab-df-convert\" onclick=\"convertToInteractive('df-01903bfd-bf78-4781-b6d8-3131f45374b7')\"\n",
              "              title=\"Convert this dataframe to an interactive table.\"\n",
              "              style=\"display:none;\">\n",
              "        \n",
              "  <svg xmlns=\"http://www.w3.org/2000/svg\" height=\"24px\"viewBox=\"0 0 24 24\"\n",
              "       width=\"24px\">\n",
              "    <path d=\"M0 0h24v24H0V0z\" fill=\"none\"/>\n",
              "    <path d=\"M18.56 5.44l.94 2.06.94-2.06 2.06-.94-2.06-.94-.94-2.06-.94 2.06-2.06.94zm-11 1L8.5 8.5l.94-2.06 2.06-.94-2.06-.94L8.5 2.5l-.94 2.06-2.06.94zm10 10l.94 2.06.94-2.06 2.06-.94-2.06-.94-.94-2.06-.94 2.06-2.06.94z\"/><path d=\"M17.41 7.96l-1.37-1.37c-.4-.4-.92-.59-1.43-.59-.52 0-1.04.2-1.43.59L10.3 9.45l-7.72 7.72c-.78.78-.78 2.05 0 2.83L4 21.41c.39.39.9.59 1.41.59.51 0 1.02-.2 1.41-.59l7.78-7.78 2.81-2.81c.8-.78.8-2.07 0-2.86zM5.41 20L4 18.59l7.72-7.72 1.47 1.35L5.41 20z\"/>\n",
              "  </svg>\n",
              "      </button>\n",
              "      \n",
              "  <style>\n",
              "    .colab-df-container {\n",
              "      display:flex;\n",
              "      flex-wrap:wrap;\n",
              "      gap: 12px;\n",
              "    }\n",
              "\n",
              "    .colab-df-convert {\n",
              "      background-color: #E8F0FE;\n",
              "      border: none;\n",
              "      border-radius: 50%;\n",
              "      cursor: pointer;\n",
              "      display: none;\n",
              "      fill: #1967D2;\n",
              "      height: 32px;\n",
              "      padding: 0 0 0 0;\n",
              "      width: 32px;\n",
              "    }\n",
              "\n",
              "    .colab-df-convert:hover {\n",
              "      background-color: #E2EBFA;\n",
              "      box-shadow: 0px 1px 2px rgba(60, 64, 67, 0.3), 0px 1px 3px 1px rgba(60, 64, 67, 0.15);\n",
              "      fill: #174EA6;\n",
              "    }\n",
              "\n",
              "    [theme=dark] .colab-df-convert {\n",
              "      background-color: #3B4455;\n",
              "      fill: #D2E3FC;\n",
              "    }\n",
              "\n",
              "    [theme=dark] .colab-df-convert:hover {\n",
              "      background-color: #434B5C;\n",
              "      box-shadow: 0px 1px 3px 1px rgba(0, 0, 0, 0.15);\n",
              "      filter: drop-shadow(0px 1px 2px rgba(0, 0, 0, 0.3));\n",
              "      fill: #FFFFFF;\n",
              "    }\n",
              "  </style>\n",
              "\n",
              "      <script>\n",
              "        const buttonEl =\n",
              "          document.querySelector('#df-01903bfd-bf78-4781-b6d8-3131f45374b7 button.colab-df-convert');\n",
              "        buttonEl.style.display =\n",
              "          google.colab.kernel.accessAllowed ? 'block' : 'none';\n",
              "\n",
              "        async function convertToInteractive(key) {\n",
              "          const element = document.querySelector('#df-01903bfd-bf78-4781-b6d8-3131f45374b7');\n",
              "          const dataTable =\n",
              "            await google.colab.kernel.invokeFunction('convertToInteractive',\n",
              "                                                     [key], {});\n",
              "          if (!dataTable) return;\n",
              "\n",
              "          const docLinkHtml = 'Like what you see? Visit the ' +\n",
              "            '<a target=\"_blank\" href=https://colab.research.google.com/notebooks/data_table.ipynb>data table notebook</a>'\n",
              "            + ' to learn more about interactive tables.';\n",
              "          element.innerHTML = '';\n",
              "          dataTable['output_type'] = 'display_data';\n",
              "          await google.colab.output.renderOutput(dataTable, element);\n",
              "          const docLink = document.createElement('div');\n",
              "          docLink.innerHTML = docLinkHtml;\n",
              "          element.appendChild(docLink);\n",
              "        }\n",
              "      </script>\n",
              "    </div>\n",
              "  </div>\n",
              "  "
            ]
          },
          "metadata": {},
          "execution_count": 16
        }
      ]
    },
    {
      "cell_type": "markdown",
      "source": [
        "Looking at products and the ingredients within these products and brands"
      ],
      "metadata": {
        "id": "5Ekxp6U85BHC"
      }
    },
    {
      "cell_type": "markdown",
      "source": [
        "## Products per Brand\n",
        "\n",
        "Looking at how many products each brand has on the market."
      ],
      "metadata": {
        "id": "0cTuFV3Vc_-U"
      }
    },
    {
      "cell_type": "markdown",
      "source": [
        "First, let's take a look at how many products each brand has."
      ],
      "metadata": {
        "id": "6hl9dWaYd5gv"
      }
    },
    {
      "cell_type": "code",
      "source": [
        "#looking at ingredients list of different products and brands\n",
        "prod_ingred_df = df_open_food[['code', 'url', 'nutrition-score-fr_100g', 'product_name', 'brands', 'brands_tags', 'ingredients_text', 'additives']]\n",
        "#look at the total number of brands represented\n",
        "brands_agg = prod_ingred_df.groupby(['brands_tags'])['brands_tags'].count()\n",
        "brands_agg.sort_values(ascending=False, inplace=True)\n",
        "brands_agg "
      ],
      "metadata": {
        "id": "Tjydfu3Wc8KA",
        "colab": {
          "base_uri": "https://localhost:8080/"
        },
        "outputId": "3b953547-3d17-4f8c-b028-e86c001c4fdf"
      },
      "execution_count": 17,
      "outputs": [
        {
          "output_type": "execute_result",
          "data": {
            "text/plain": [
              "brands_tags\n",
              "carrefour                        3847\n",
              "auchan                           3334\n",
              "u                                2637\n",
              "leader-price                     2228\n",
              "casino                           2178\n",
              "                                 ... \n",
              "jardins-de-carthage                 1\n",
              "jarfin-bio                          1\n",
              "jarritos                            1\n",
              "jarritos,the-jel-sert-company       1\n",
              "자연은,jayeon-eun                      1\n",
              "Name: brands_tags, Length: 56804, dtype: int64"
            ]
          },
          "metadata": {},
          "execution_count": 17
        }
      ]
    },
    {
      "cell_type": "markdown",
      "source": [
        "It seems like carrefour has the most brand tags with 3847. Let's look at some quick summary statistics on how many products each brand has."
      ],
      "metadata": {
        "id": "RWoHeY78eHCl"
      }
    },
    {
      "cell_type": "code",
      "source": [
        "#find the distribution of the data\n",
        "print(\"The mean is\", brands_agg.mean())\n",
        "print(\"The median is\", brands_agg.median())\n",
        "print(\"The variance is\", brands_agg.var())"
      ],
      "metadata": {
        "id": "g1jB3F90dJMU",
        "colab": {
          "base_uri": "https://localhost:8080/"
        },
        "outputId": "62c64ed6-6c2d-4661-ad2f-911f6b6c82d5"
      },
      "execution_count": 18,
      "outputs": [
        {
          "output_type": "stream",
          "name": "stdout",
          "text": [
            "The mean is 5.755879867614957\n",
            "The median is 1.0\n",
            "The variance is 1609.941795083433\n"
          ]
        }
      ]
    },
    {
      "cell_type": "markdown",
      "source": [
        "Note the high variance in the summary statistics as well as the difference between the mean and the median. The difference between these two is most likely due to the high outlier brands that have a lot of products."
      ],
      "metadata": {
        "id": "SPLdEvW86ofC"
      }
    },
    {
      "cell_type": "markdown",
      "source": [
        "## The Most Common Ingredients\n",
        "Let's take a look at the ingredients list column and the most commonly used ingredients"
      ],
      "metadata": {
        "id": "hyKpwvCFeokZ"
      }
    },
    {
      "cell_type": "markdown",
      "source": [
        "Now, we'll look at the ingredients and which ones are most popular. We'll first convert the ingredients text into a string type for us to parse through."
      ],
      "metadata": {
        "id": "puDZD3rEePy5"
      }
    },
    {
      "cell_type": "code",
      "source": [
        "#convert these into strings then lists then explode for ingredients\n",
        "prod_ingred_df['ingredients_text_str'] = prod_ingred_df['ingredients_text'].astype('str')\n",
        "prod_ingred_df['ingredients_text_str'] = prod_ingred_df['ingredients_text_str'].str.split(',')\n",
        "\n",
        "#separate the ingredients\n",
        "prod_ingred_exploded_df = prod_ingred_df.explode('ingredients_text_str')"
      ],
      "metadata": {
        "id": "bPeUbt36dK2E",
        "colab": {
          "base_uri": "https://localhost:8080/"
        },
        "outputId": "29ffc73b-afd8-4c84-e82e-4538e29f6aa6"
      },
      "execution_count": 19,
      "outputs": [
        {
          "output_type": "stream",
          "name": "stderr",
          "text": [
            "<ipython-input-19-1f4897cdfdab>:2: SettingWithCopyWarning: \n",
            "A value is trying to be set on a copy of a slice from a DataFrame.\n",
            "Try using .loc[row_indexer,col_indexer] = value instead\n",
            "\n",
            "See the caveats in the documentation: https://pandas.pydata.org/pandas-docs/stable/user_guide/indexing.html#returning-a-view-versus-a-copy\n",
            "  prod_ingred_df['ingredients_text_str'] = prod_ingred_df['ingredients_text'].astype('str')\n",
            "<ipython-input-19-1f4897cdfdab>:3: SettingWithCopyWarning: \n",
            "A value is trying to be set on a copy of a slice from a DataFrame.\n",
            "Try using .loc[row_indexer,col_indexer] = value instead\n",
            "\n",
            "See the caveats in the documentation: https://pandas.pydata.org/pandas-docs/stable/user_guide/indexing.html#returning-a-view-versus-a-copy\n",
            "  prod_ingred_df['ingredients_text_str'] = prod_ingred_df['ingredients_text_str'].str.split(',')\n"
          ]
        }
      ]
    },
    {
      "cell_type": "markdown",
      "source": [
        "Here we'll sort to find the top 10 most used ingredients and their counts."
      ],
      "metadata": {
        "id": "ApkDGXzt67tz"
      }
    },
    {
      "cell_type": "code",
      "source": [
        "#find the top 10 most popular ingredients\n",
        "ingredients_plot = prod_ingred_exploded_df[prod_ingred_exploded_df['ingredients_text_str'] != 'nan']\n",
        "ingredients_plot = ingredients_plot[['brands_tags', 'ingredients_text_str']]\n",
        "ingredients_plot = ingredients_plot.groupby('ingredients_text_str').count().reset_index()\n",
        "ingredients_plot.sort_values(by='brands_tags', inplace=True, ascending=False)\n",
        "\n",
        "#show the top ten most used ingredients \n",
        "ingredients_plot.head(10)"
      ],
      "metadata": {
        "id": "rPXtD_v3dMU7",
        "colab": {
          "base_uri": "https://localhost:8080/",
          "height": 364
        },
        "outputId": "5622997d-2fdf-4efe-f87e-3eb978e35e46"
      },
      "execution_count": 20,
      "outputs": [
        {
          "output_type": "execute_result",
          "data": {
            "text/plain": [
              "       ingredients_text_str  brands_tags\n",
              "342000                 salt        81933\n",
              "373331                sugar        51861\n",
              "397032                water        47959\n",
              "347998                  sel        39508\n",
              "370926                sucre        25850\n",
              "138991          citric acid        24229\n",
              "182644                  eau        23265\n",
              "280403               niacin        18915\n",
              "176266             dextrose        17817\n",
              "336485           riboflavin        17011"
            ],
            "text/html": [
              "\n",
              "  <div id=\"df-594fac16-7344-46aa-b92a-cd08fd7c9bbf\">\n",
              "    <div class=\"colab-df-container\">\n",
              "      <div>\n",
              "<style scoped>\n",
              "    .dataframe tbody tr th:only-of-type {\n",
              "        vertical-align: middle;\n",
              "    }\n",
              "\n",
              "    .dataframe tbody tr th {\n",
              "        vertical-align: top;\n",
              "    }\n",
              "\n",
              "    .dataframe thead th {\n",
              "        text-align: right;\n",
              "    }\n",
              "</style>\n",
              "<table border=\"1\" class=\"dataframe\">\n",
              "  <thead>\n",
              "    <tr style=\"text-align: right;\">\n",
              "      <th></th>\n",
              "      <th>ingredients_text_str</th>\n",
              "      <th>brands_tags</th>\n",
              "    </tr>\n",
              "  </thead>\n",
              "  <tbody>\n",
              "    <tr>\n",
              "      <th>342000</th>\n",
              "      <td>salt</td>\n",
              "      <td>81933</td>\n",
              "    </tr>\n",
              "    <tr>\n",
              "      <th>373331</th>\n",
              "      <td>sugar</td>\n",
              "      <td>51861</td>\n",
              "    </tr>\n",
              "    <tr>\n",
              "      <th>397032</th>\n",
              "      <td>water</td>\n",
              "      <td>47959</td>\n",
              "    </tr>\n",
              "    <tr>\n",
              "      <th>347998</th>\n",
              "      <td>sel</td>\n",
              "      <td>39508</td>\n",
              "    </tr>\n",
              "    <tr>\n",
              "      <th>370926</th>\n",
              "      <td>sucre</td>\n",
              "      <td>25850</td>\n",
              "    </tr>\n",
              "    <tr>\n",
              "      <th>138991</th>\n",
              "      <td>citric acid</td>\n",
              "      <td>24229</td>\n",
              "    </tr>\n",
              "    <tr>\n",
              "      <th>182644</th>\n",
              "      <td>eau</td>\n",
              "      <td>23265</td>\n",
              "    </tr>\n",
              "    <tr>\n",
              "      <th>280403</th>\n",
              "      <td>niacin</td>\n",
              "      <td>18915</td>\n",
              "    </tr>\n",
              "    <tr>\n",
              "      <th>176266</th>\n",
              "      <td>dextrose</td>\n",
              "      <td>17817</td>\n",
              "    </tr>\n",
              "    <tr>\n",
              "      <th>336485</th>\n",
              "      <td>riboflavin</td>\n",
              "      <td>17011</td>\n",
              "    </tr>\n",
              "  </tbody>\n",
              "</table>\n",
              "</div>\n",
              "      <button class=\"colab-df-convert\" onclick=\"convertToInteractive('df-594fac16-7344-46aa-b92a-cd08fd7c9bbf')\"\n",
              "              title=\"Convert this dataframe to an interactive table.\"\n",
              "              style=\"display:none;\">\n",
              "        \n",
              "  <svg xmlns=\"http://www.w3.org/2000/svg\" height=\"24px\"viewBox=\"0 0 24 24\"\n",
              "       width=\"24px\">\n",
              "    <path d=\"M0 0h24v24H0V0z\" fill=\"none\"/>\n",
              "    <path d=\"M18.56 5.44l.94 2.06.94-2.06 2.06-.94-2.06-.94-.94-2.06-.94 2.06-2.06.94zm-11 1L8.5 8.5l.94-2.06 2.06-.94-2.06-.94L8.5 2.5l-.94 2.06-2.06.94zm10 10l.94 2.06.94-2.06 2.06-.94-2.06-.94-.94-2.06-.94 2.06-2.06.94z\"/><path d=\"M17.41 7.96l-1.37-1.37c-.4-.4-.92-.59-1.43-.59-.52 0-1.04.2-1.43.59L10.3 9.45l-7.72 7.72c-.78.78-.78 2.05 0 2.83L4 21.41c.39.39.9.59 1.41.59.51 0 1.02-.2 1.41-.59l7.78-7.78 2.81-2.81c.8-.78.8-2.07 0-2.86zM5.41 20L4 18.59l7.72-7.72 1.47 1.35L5.41 20z\"/>\n",
              "  </svg>\n",
              "      </button>\n",
              "      \n",
              "  <style>\n",
              "    .colab-df-container {\n",
              "      display:flex;\n",
              "      flex-wrap:wrap;\n",
              "      gap: 12px;\n",
              "    }\n",
              "\n",
              "    .colab-df-convert {\n",
              "      background-color: #E8F0FE;\n",
              "      border: none;\n",
              "      border-radius: 50%;\n",
              "      cursor: pointer;\n",
              "      display: none;\n",
              "      fill: #1967D2;\n",
              "      height: 32px;\n",
              "      padding: 0 0 0 0;\n",
              "      width: 32px;\n",
              "    }\n",
              "\n",
              "    .colab-df-convert:hover {\n",
              "      background-color: #E2EBFA;\n",
              "      box-shadow: 0px 1px 2px rgba(60, 64, 67, 0.3), 0px 1px 3px 1px rgba(60, 64, 67, 0.15);\n",
              "      fill: #174EA6;\n",
              "    }\n",
              "\n",
              "    [theme=dark] .colab-df-convert {\n",
              "      background-color: #3B4455;\n",
              "      fill: #D2E3FC;\n",
              "    }\n",
              "\n",
              "    [theme=dark] .colab-df-convert:hover {\n",
              "      background-color: #434B5C;\n",
              "      box-shadow: 0px 1px 3px 1px rgba(0, 0, 0, 0.15);\n",
              "      filter: drop-shadow(0px 1px 2px rgba(0, 0, 0, 0.3));\n",
              "      fill: #FFFFFF;\n",
              "    }\n",
              "  </style>\n",
              "\n",
              "      <script>\n",
              "        const buttonEl =\n",
              "          document.querySelector('#df-594fac16-7344-46aa-b92a-cd08fd7c9bbf button.colab-df-convert');\n",
              "        buttonEl.style.display =\n",
              "          google.colab.kernel.accessAllowed ? 'block' : 'none';\n",
              "\n",
              "        async function convertToInteractive(key) {\n",
              "          const element = document.querySelector('#df-594fac16-7344-46aa-b92a-cd08fd7c9bbf');\n",
              "          const dataTable =\n",
              "            await google.colab.kernel.invokeFunction('convertToInteractive',\n",
              "                                                     [key], {});\n",
              "          if (!dataTable) return;\n",
              "\n",
              "          const docLinkHtml = 'Like what you see? Visit the ' +\n",
              "            '<a target=\"_blank\" href=https://colab.research.google.com/notebooks/data_table.ipynb>data table notebook</a>'\n",
              "            + ' to learn more about interactive tables.';\n",
              "          element.innerHTML = '';\n",
              "          dataTable['output_type'] = 'display_data';\n",
              "          await google.colab.output.renderOutput(dataTable, element);\n",
              "          const docLink = document.createElement('div');\n",
              "          docLink.innerHTML = docLinkHtml;\n",
              "          element.appendChild(docLink);\n",
              "        }\n",
              "      </script>\n",
              "    </div>\n",
              "  </div>\n",
              "  "
            ]
          },
          "metadata": {},
          "execution_count": 20
        }
      ]
    },
    {
      "cell_type": "markdown",
      "source": [
        "## Ingredient Word Cloud\n",
        "\n",
        "Let's visualize this in a fun wordcloud using nltk!"
      ],
      "metadata": {
        "id": "WnVdrh3ZeruD"
      }
    },
    {
      "cell_type": "markdown",
      "source": [
        "Importing all the necessary components of our word cloud."
      ],
      "metadata": {
        "id": "UQ2Zbs5W7H5u"
      }
    },
    {
      "cell_type": "code",
      "source": [
        "import nltk\n",
        "nltk.download('punkt')\n",
        "nltk.__version__"
      ],
      "metadata": {
        "id": "ra-RvygRdNwa",
        "colab": {
          "base_uri": "https://localhost:8080/",
          "height": 71
        },
        "outputId": "4f163a48-5669-4fe6-8c21-8d04a99bb594"
      },
      "execution_count": 21,
      "outputs": [
        {
          "output_type": "stream",
          "name": "stderr",
          "text": [
            "[nltk_data] Downloading package punkt to /root/nltk_data...\n",
            "[nltk_data]   Unzipping tokenizers/punkt.zip.\n"
          ]
        },
        {
          "output_type": "execute_result",
          "data": {
            "text/plain": [
              "'3.7'"
            ],
            "application/vnd.google.colaboratory.intrinsic+json": {
              "type": "string"
            }
          },
          "metadata": {},
          "execution_count": 21
        }
      ]
    },
    {
      "cell_type": "code",
      "source": [
        "from nltk.corpus import stopwords\n",
        "\n",
        "#Do stopword analysis\n",
        "nltk.download('stopwords')\n",
        "stopwords = set(stopwords.words('english'))"
      ],
      "metadata": {
        "id": "OchN6Wgle2ER",
        "colab": {
          "base_uri": "https://localhost:8080/"
        },
        "outputId": "a0f03582-3d65-4d0e-fa4b-1382a89440b8"
      },
      "execution_count": 22,
      "outputs": [
        {
          "output_type": "stream",
          "name": "stderr",
          "text": [
            "[nltk_data] Downloading package stopwords to /root/nltk_data...\n",
            "[nltk_data]   Unzipping corpora/stopwords.zip.\n"
          ]
        }
      ]
    },
    {
      "cell_type": "markdown",
      "source": [
        "Creation of our tokenize content function."
      ],
      "metadata": {
        "id": "KXdUrJ_87Euw"
      }
    },
    {
      "cell_type": "code",
      "source": [
        "def tokenize_content(content):\n",
        "  #tokenize text\n",
        "  words = nltk.word_tokenize(content)\n",
        "  #remove tokens that contain alphabetic characters \n",
        "  words = [word for word in words if word.isalpha()]\n",
        "  #only alphabetic characters and convert them to lower case \n",
        "  words = [word.lower() for word in words if word.isalpha()]\n",
        "  #remove stopwords\n",
        "  words = [word for word in words if word not in stopwords]\n",
        "  return words"
      ],
      "metadata": {
        "id": "5cgk3RYhdSFf"
      },
      "execution_count": 23,
      "outputs": []
    },
    {
      "cell_type": "code",
      "source": [
        "#convert ingredient names to string\n",
        "prod_ingred_df['ingredients_text_whole_str'] = prod_ingred_df['ingredients_text'].astype('str')\n",
        "ingredients_names = prod_ingred_df[prod_ingred_df['ingredients_text_whole_str'] != 'nan']\n",
        "ingredients_list = ingredients_names['ingredients_text_whole_str']\n",
        "\n",
        "top_tokens_list = []\n",
        "for brand in ingredients_list:\n",
        "  top_tokens_list.append(tokenize_content(brand))\n",
        "\n",
        "#flatten the list\n",
        "top_tokens = []\n",
        "for sublist in top_tokens_list:\n",
        "  for item in sublist:\n",
        "    top_tokens.append(item)"
      ],
      "metadata": {
        "id": "Qm7f8YhpdUh7",
        "colab": {
          "base_uri": "https://localhost:8080/"
        },
        "outputId": "23a53fef-df86-4963-dbe2-d0f3a03741da"
      },
      "execution_count": 24,
      "outputs": [
        {
          "output_type": "stream",
          "name": "stderr",
          "text": [
            "<ipython-input-24-d2749e6e7125>:2: SettingWithCopyWarning: \n",
            "A value is trying to be set on a copy of a slice from a DataFrame.\n",
            "Try using .loc[row_indexer,col_indexer] = value instead\n",
            "\n",
            "See the caveats in the documentation: https://pandas.pydata.org/pandas-docs/stable/user_guide/indexing.html#returning-a-view-versus-a-copy\n",
            "  prod_ingred_df['ingredients_text_whole_str'] = prod_ingred_df['ingredients_text'].astype('str')\n"
          ]
        }
      ]
    },
    {
      "cell_type": "markdown",
      "source": [
        "Below we have the 20 most common ingredients used in products based on our tokenization."
      ],
      "metadata": {
        "id": "pu7L90Xe7MAJ"
      }
    },
    {
      "cell_type": "code",
      "source": [
        "#Find 20 most common words\n",
        "import collections as col\n",
        "top_most_common = col.Counter(top_tokens).most_common(20)\n",
        "top_most_common"
      ],
      "metadata": {
        "id": "eZepJYqjddff",
        "colab": {
          "base_uri": "https://localhost:8080/"
        },
        "outputId": "87026d42-5e80-40a6-bff2-345247d25f5e"
      },
      "execution_count": 25,
      "outputs": [
        {
          "output_type": "execute_result",
          "data": {
            "text/plain": [
              "[('de', 409600),\n",
              " ('salt', 133267),\n",
              " ('sugar', 108374),\n",
              " ('oil', 96889),\n",
              " ('acid', 94887),\n",
              " ('water', 91747),\n",
              " ('flour', 80104),\n",
              " ('organic', 77116),\n",
              " ('corn', 73220),\n",
              " ('sodium', 72502),\n",
              " ('sel', 69209),\n",
              " ('milk', 68506),\n",
              " ('natural', 65858),\n",
              " ('wheat', 56744),\n",
              " ('sucre', 55847),\n",
              " ('syrup', 49353),\n",
              " ('eau', 45979),\n",
              " ('flavor', 45469),\n",
              " ('et', 41758),\n",
              " ('powder', 40998)]"
            ]
          },
          "metadata": {},
          "execution_count": 25
        }
      ]
    },
    {
      "cell_type": "markdown",
      "source": [
        "Let's plot our wordcloud!"
      ],
      "metadata": {
        "id": "6vQG187C7Q9f"
      }
    },
    {
      "cell_type": "code",
      "source": [
        "#make a word cloud for top tokens \n",
        "from wordcloud import WordCloud\n",
        "#make the string \n",
        "text = ' '.join(top_tokens)\n",
        "\n",
        "#feed it through the wordcloud function\n",
        "wordcloud = WordCloud(width = 800, height = 800, min_font_size = 10, background_color = 'white').generate(text)\n",
        "\n",
        "#show the figure\n",
        "plt.figure(figsize=(10, 10))\n",
        "plt.imshow(wordcloud, interpolation='bilinear')\n",
        "plt.axis(\"off\")\n",
        "plt.tight_layout(pad = 0)\n",
        "plt.title(\"Word Cloud of Top Ingredient Words\")\n",
        "\n",
        "plt.show()"
      ],
      "metadata": {
        "id": "Btjiglqndet8",
        "colab": {
          "base_uri": "https://localhost:8080/",
          "height": 767
        },
        "outputId": "00f8b472-a6c1-4c0a-b8ff-8a414e2a2223"
      },
      "execution_count": 26,
      "outputs": [
        {
          "output_type": "display_data",
          "data": {
            "text/plain": [
              "<Figure size 720x720 with 1 Axes>"
            ],
            "image/png": "[encoded data removed]"
          },
          "metadata": {
            "needs_background": "light"
          }
        }
      ]
    },
    {
      "cell_type": "markdown",
      "source": [
        "## EDA for Nutrition"
      ],
      "metadata": {
        "id": "OM6YWlugsIph"
      }
    },
    {
      "cell_type": "markdown",
      "source": [
        "We have access to data about nutrition information, including energy, macronutrients (carbs, fat, protein), and other nutrients as well."
      ],
      "metadata": {
        "id": "VArnhUIG-Dfw"
      }
    },
    {
      "cell_type": "markdown",
      "source": [
        "Let's rename some columns to make them easier to deal with"
      ],
      "metadata": {
        "id": "koF3sC1B-PUT"
      }
    },
    {
      "cell_type": "code",
      "source": [
        "#Drop '100g' from each column name\n",
        "df_open_food = df_open_food.rename(axis=1, mapper={\"energy_100g\": \"energy\", \n",
        "                                                   \"fat_100g\" : \"fat\", \n",
        "                                                   \"saturated-fat_100g\" : \"saturated_fat\", \n",
        "                                                   \"carbohydrates_100g\" : \"carbohydrates\", \n",
        "                                                   \"sugars_100g\": \"sugars\", \n",
        "                                                   \"fiber_100g\": \"fiber\", \n",
        "                                                   \"proteins_100g\" : \"protein\", \n",
        "                                                   \"salt_100g\": \"salt\",\n",
        "                                                   \"sodium_100g\": \"sodium\"\n",
        "                                                   })\n",
        "print(df_open_food.dtypes)"
      ],
      "metadata": {
        "id": "q7uLWiJysNgt",
        "colab": {
          "base_uri": "https://localhost:8080/"
        },
        "outputId": "fa9de79b-e976-4ff4-e49d-39ee0f35a1da"
      },
      "execution_count": 27,
      "outputs": [
        {
          "output_type": "stream",
          "name": "stdout",
          "text": [
            "code                                        object\n",
            "url                                         object\n",
            "creator                                     object\n",
            "created_t                                   object\n",
            "created_datetime                            object\n",
            "last_modified_t                             object\n",
            "last_modified_datetime                      object\n",
            "product_name                                object\n",
            "brands                                      object\n",
            "brands_tags                                 object\n",
            "countries                                   object\n",
            "countries_tags                              object\n",
            "countries_en                                object\n",
            "ingredients_text                            object\n",
            "serving_size                                object\n",
            "additives_n                                float64\n",
            "additives                                   object\n",
            "ingredients_from_palm_oil_n                float64\n",
            "ingredients_that_may_be_from_palm_oil_n    float64\n",
            "nutrition_grade_fr                          object\n",
            "states                                      object\n",
            "states_tags                                 object\n",
            "states_en                                   object\n",
            "energy                                     float64\n",
            "fat                                        float64\n",
            "saturated_fat                              float64\n",
            "carbohydrates                              float64\n",
            "sugars                                     float64\n",
            "fiber                                      float64\n",
            "protein                                    float64\n",
            "salt                                       float64\n",
            "sodium                                     float64\n",
            "nutrition-score-fr_100g                    float64\n",
            "nutrition-score-uk_100g                    float64\n",
            "dtype: object\n"
          ]
        }
      ]
    },
    {
      "cell_type": "markdown",
      "source": [
        "We want to make sure all our data is valid, so we can drop any instance with a negative or overly large nutrition value. Ultimately, this does catch a few outliers that don't make practical sense. We also drop any instance with a NaN value."
      ],
      "metadata": {
        "id": "U15Q_zwl-Ubk"
      }
    },
    {
      "cell_type": "code",
      "source": [
        "#Removing anything above 1_000_000 and below 0 for either entry as they are not valid data (there exist negative values and and values > 1e6)\n",
        "df_nutrients = df_open_food[[\"energy\", \"fat\", \"saturated_fat\", \"carbohydrates\", \"sugars\", \"fiber\", \"protein\", \"salt\", \"sodium\"]]\n",
        "df_nutrients = df_nutrients[(df_nutrients['energy'] >= 0) & (df_nutrients['energy'] <= 1_000_000) & \n",
        "                            (df_nutrients['fat'] >= 0) & (df_nutrients['fat'] <= 1_000_000) &\n",
        "                            (df_nutrients['saturated_fat'] >= 0) & (df_nutrients['saturated_fat'] <= 1_000_000) & \n",
        "                            (df_nutrients['carbohydrates'] >= 0) & (df_nutrients['carbohydrates'] <= 1_000_000) &\n",
        "                            (df_nutrients['sugars'] >= 0) & (df_nutrients['sugars'] <= 1_000_000) &\n",
        "                            (df_nutrients['fiber'] >= 0) & (df_nutrients['fiber'] <= 1_000_000) &\n",
        "                            (df_nutrients['protein'] >= 0) & (df_nutrients['protein'] <= 1_000_000) & \n",
        "                            (df_nutrients['salt'] >= 0) & (df_nutrients['salt'] <= 1_000_000) &\n",
        "                            (df_nutrients['sodium'] >= 0) & (df_nutrients['sodium'] <= 1_000_000) \n",
        "                            ]\n",
        "df_nutrients = df_nutrients.dropna(how=\"any\")\n",
        "df_nutrients.size"
      ],
      "metadata": {
        "id": "d1CB3J6uv--h",
        "colab": {
          "base_uri": "https://localhost:8080/"
        },
        "outputId": "a4954af5-2209-4ade-9ae9-3a74021b55c7"
      },
      "execution_count": 28,
      "outputs": [
        {
          "output_type": "execute_result",
          "data": {
            "text/plain": [
              "1780641"
            ]
          },
          "metadata": {},
          "execution_count": 28
        }
      ]
    },
    {
      "cell_type": "markdown",
      "source": [
        "Creating a boxplot of all nutrients (excluding energy since it's not a nutrient and is larger than the other elements). We will remove outliers for now as they make the boxplot difficult to see"
      ],
      "metadata": {
        "id": "ljf3wXc8zUxj"
      }
    },
    {
      "cell_type": "code",
      "source": [
        "df_nutrients_plot = df_nutrients.drop(columns=\"energy\")\n",
        "\n",
        "#Remove outliers and set labels to be rotated for improved readability\n",
        "ax_nutrients = sns.boxplot(data=df_nutrients_plot, showfliers=False)\n",
        "ax_nutrients.set_xticklabels(ax_nutrients.get_xticklabels(), rotation=40, ha=\"right\")\n",
        "plt.title(\"Boxplots of All Nutrients\" , size = 10 )\n",
        "plt.ylabel(\"grams per 100g\" , size = 10 )\n",
        "plt.xlabel(\"Nutrient\" , size = 10 )\n",
        "plt.show()"
      ],
      "metadata": {
        "id": "yYNcnTPhzUiP",
        "colab": {
          "base_uri": "https://localhost:8080/",
          "height": 337
        },
        "outputId": "7955a922-029b-42d2-9332-006dc840a680"
      },
      "execution_count": 29,
      "outputs": [
        {
          "output_type": "display_data",
          "data": {
            "text/plain": [
              "<Figure size 432x288 with 1 Axes>"
            ],
            "image/png": "[encoded data removed]"
          },
          "metadata": {
            "needs_background": "light"
          }
        }
      ]
    },
    {
      "cell_type": "markdown",
      "source": [
        "Overall we see a healthy distribution with most foods having a median close to zero (which makes sense since a lot of foods don't have that ingredient, like spicy foods and sugar). In the case of fiber, salt, and sodium, the nutrients are overall quite low, whereas for sugars, carbohydrates, and fats, there are foods with high values."
      ],
      "metadata": {
        "id": "BwTa9Syy-_lZ"
      }
    },
    {
      "cell_type": "markdown",
      "source": [
        "Note that the macronutrients (fat, carbohydrates, and protein) are 3 of the features that have the biggest distribution. So, let's analyze their distribution further below."
      ],
      "metadata": {
        "id": "z8FANKA3ubFE"
      }
    },
    {
      "cell_type": "code",
      "source": [
        "#Creating macronutrients_df\n",
        "df_macronutrients = df_nutrients[[\"fat\", \"carbohydrates\", \"protein\"]]\n",
        "#sns.boxplot(data=df_macronutrients)\n",
        "#Excluding outliers to get a better picture \n",
        "sns.boxplot(data=df_macronutrients, showfliers=False)\n",
        "plt.title(\"Macronutrient Content\")\n",
        "plt.ylabel(\"grams per 100g\" , size = 10 )\n",
        "plt.xlabel(\"Macronutrient\" , size = 10 )"
      ],
      "metadata": {
        "id": "4gITjn47uIU1",
        "colab": {
          "base_uri": "https://localhost:8080/",
          "height": 312
        },
        "outputId": "cd7a1899-eaaa-47af-dbff-c272c418d343"
      },
      "execution_count": 30,
      "outputs": [
        {
          "output_type": "execute_result",
          "data": {
            "text/plain": [
              "Text(0.5, 0, 'Macronutrient')"
            ]
          },
          "metadata": {},
          "execution_count": 30
        },
        {
          "output_type": "display_data",
          "data": {
            "text/plain": [
              "<Figure size 432x288 with 1 Axes>"
            ],
            "image/png": "[encoded data removed]"
          },
          "metadata": {
            "needs_background": "light"
          }
        }
      ]
    },
    {
      "cell_type": "markdown",
      "source": [
        "There is a lot of variability in the carbohydrates, and a medium amount in the fat, but less in the protein. Also note the high median for carbs. This indicates that foods tend to have more carbs than the other 2 macronutrients, but also that the variability is high among foods for carb levels"
      ],
      "metadata": {
        "id": "jhFm7Emm_hNq"
      }
    },
    {
      "cell_type": "markdown",
      "source": [
        "We can also analyze correlations but creating a correlational heatmap of the relations between the various nutrition metrics"
      ],
      "metadata": {
        "id": "rN1XHdmD2qaZ"
      }
    },
    {
      "cell_type": "code",
      "source": [
        "corr = df_nutrients.corr()\n",
        "\n",
        "#Coolwarm is a good colorstyle to visualize with\n",
        "corr.style.background_gradient(cmap ='coolwarm')\n"
      ],
      "metadata": {
        "id": "D-AyVMIv2mlM",
        "colab": {
          "base_uri": "https://localhost:8080/",
          "height": 332
        },
        "outputId": "32cb998d-8bfd-454e-c268-cfd057d8667f"
      },
      "execution_count": 31,
      "outputs": [
        {
          "output_type": "execute_result",
          "data": {
            "text/plain": [
              "<pandas.io.formats.style.Styler at 0x7f64ee5674c0>"
            ],
            "text/html": [
              "<style type=\"text/css\">\n",
              "#T_80eac_row0_col0, #T_80eac_row1_col1, #T_80eac_row2_col2, #T_80eac_row3_col3, #T_80eac_row4_col4, #T_80eac_row5_col5, #T_80eac_row6_col6, #T_80eac_row7_col7, #T_80eac_row7_col8, #T_80eac_row8_col7, #T_80eac_row8_col8 {\n",
              "  background-color: #b40426;\n",
              "  color: #f1f1f1;\n",
              "}\n",
              "#T_80eac_row0_col1 {\n",
              "  background-color: #f18f71;\n",
              "  color: #f1f1f1;\n",
              "}\n",
              "#T_80eac_row0_col2, #T_80eac_row2_col0 {\n",
              "  background-color: #ebd3c6;\n",
              "  color: #000000;\n",
              "}\n",
              "#T_80eac_row0_col3 {\n",
              "  background-color: #f0cdbb;\n",
              "  color: #000000;\n",
              "}\n",
              "#T_80eac_row0_col4 {\n",
              "  background-color: #d4dbe6;\n",
              "  color: #000000;\n",
              "}\n",
              "#T_80eac_row0_col5 {\n",
              "  background-color: #81a4fb;\n",
              "  color: #f1f1f1;\n",
              "}\n",
              "#T_80eac_row0_col6 {\n",
              "  background-color: #cdd9ec;\n",
              "  color: #000000;\n",
              "}\n",
              "#T_80eac_row0_col7, #T_80eac_row0_col8, #T_80eac_row2_col7, #T_80eac_row2_col8 {\n",
              "  background-color: #3f53c6;\n",
              "  color: #f1f1f1;\n",
              "}\n",
              "#T_80eac_row1_col0 {\n",
              "  background-color: #f29274;\n",
              "  color: #f1f1f1;\n",
              "}\n",
              "#T_80eac_row1_col2 {\n",
              "  background-color: #f7aa8c;\n",
              "  color: #000000;\n",
              "}\n",
              "#T_80eac_row1_col3 {\n",
              "  background-color: #485fd1;\n",
              "  color: #f1f1f1;\n",
              "}\n",
              "#T_80eac_row1_col4 {\n",
              "  background-color: #7b9ff9;\n",
              "  color: #f1f1f1;\n",
              "}\n",
              "#T_80eac_row1_col5 {\n",
              "  background-color: #5e7de7;\n",
              "  color: #f1f1f1;\n",
              "}\n",
              "#T_80eac_row1_col6 {\n",
              "  background-color: #c4d5f3;\n",
              "  color: #000000;\n",
              "}\n",
              "#T_80eac_row1_col7, #T_80eac_row1_col8, #T_80eac_row2_col5, #T_80eac_row5_col2 {\n",
              "  background-color: #4055c8;\n",
              "  color: #f1f1f1;\n",
              "}\n",
              "#T_80eac_row2_col1 {\n",
              "  background-color: #f7a889;\n",
              "  color: #000000;\n",
              "}\n",
              "#T_80eac_row2_col3 {\n",
              "  background-color: #516ddb;\n",
              "  color: #f1f1f1;\n",
              "}\n",
              "#T_80eac_row2_col4, #T_80eac_row6_col0 {\n",
              "  background-color: #a3c2fe;\n",
              "  color: #000000;\n",
              "}\n",
              "#T_80eac_row2_col6 {\n",
              "  background-color: #adc9fd;\n",
              "  color: #000000;\n",
              "}\n",
              "#T_80eac_row3_col0 {\n",
              "  background-color: #ead5c9;\n",
              "  color: #000000;\n",
              "}\n",
              "#T_80eac_row3_col1, #T_80eac_row3_col2, #T_80eac_row4_col5, #T_80eac_row4_col6, #T_80eac_row4_col7, #T_80eac_row4_col8, #T_80eac_row6_col3, #T_80eac_row6_col4, #T_80eac_row7_col0, #T_80eac_row7_col2, #T_80eac_row8_col0, #T_80eac_row8_col2 {\n",
              "  background-color: #3b4cc0;\n",
              "  color: #f1f1f1;\n",
              "}\n",
              "#T_80eac_row3_col4 {\n",
              "  background-color: #f7af91;\n",
              "  color: #000000;\n",
              "}\n",
              "#T_80eac_row3_col5, #T_80eac_row5_col4 {\n",
              "  background-color: #779af7;\n",
              "  color: #f1f1f1;\n",
              "}\n",
              "#T_80eac_row3_col6 {\n",
              "  background-color: #6180e9;\n",
              "  color: #f1f1f1;\n",
              "}\n",
              "#T_80eac_row3_col7, #T_80eac_row3_col8, #T_80eac_row7_col5, #T_80eac_row8_col5 {\n",
              "  background-color: #3e51c5;\n",
              "  color: #f1f1f1;\n",
              "}\n",
              "#T_80eac_row4_col0, #T_80eac_row5_col6 {\n",
              "  background-color: #abc8fd;\n",
              "  color: #000000;\n",
              "}\n",
              "#T_80eac_row4_col1 {\n",
              "  background-color: #4961d2;\n",
              "  color: #f1f1f1;\n",
              "}\n",
              "#T_80eac_row4_col2 {\n",
              "  background-color: #6b8df0;\n",
              "  color: #f1f1f1;\n",
              "}\n",
              "#T_80eac_row4_col3 {\n",
              "  background-color: #f6bda2;\n",
              "  color: #000000;\n",
              "}\n",
              "#T_80eac_row5_col0 {\n",
              "  background-color: #80a3fa;\n",
              "  color: #f1f1f1;\n",
              "}\n",
              "#T_80eac_row5_col1 {\n",
              "  background-color: #6788ee;\n",
              "  color: #f1f1f1;\n",
              "}\n",
              "#T_80eac_row5_col3 {\n",
              "  background-color: #8db0fe;\n",
              "  color: #000000;\n",
              "}\n",
              "#T_80eac_row5_col7, #T_80eac_row5_col8 {\n",
              "  background-color: #4257c9;\n",
              "  color: #f1f1f1;\n",
              "}\n",
              "#T_80eac_row6_col1 {\n",
              "  background-color: #9ebeff;\n",
              "  color: #000000;\n",
              "}\n",
              "#T_80eac_row6_col2 {\n",
              "  background-color: #7699f6;\n",
              "  color: #f1f1f1;\n",
              "}\n",
              "#T_80eac_row6_col5 {\n",
              "  background-color: #7597f6;\n",
              "  color: #f1f1f1;\n",
              "}\n",
              "#T_80eac_row6_col7, #T_80eac_row6_col8, #T_80eac_row7_col1, #T_80eac_row8_col1 {\n",
              "  background-color: #465ecf;\n",
              "  color: #f1f1f1;\n",
              "}\n",
              "#T_80eac_row7_col3, #T_80eac_row8_col3 {\n",
              "  background-color: #506bda;\n",
              "  color: #f1f1f1;\n",
              "}\n",
              "#T_80eac_row7_col4, #T_80eac_row8_col4 {\n",
              "  background-color: #7396f5;\n",
              "  color: #f1f1f1;\n",
              "}\n",
              "#T_80eac_row7_col6, #T_80eac_row8_col6 {\n",
              "  background-color: #7ea1fa;\n",
              "  color: #f1f1f1;\n",
              "}\n",
              "</style>\n",
              "<table id=\"T_80eac_\" class=\"dataframe\">\n",
              "  <thead>\n",
              "    <tr>\n",
              "      <th class=\"blank level0\" >&nbsp;</th>\n",
              "      <th class=\"col_heading level0 col0\" >energy</th>\n",
              "      <th class=\"col_heading level0 col1\" >fat</th>\n",
              "      <th class=\"col_heading level0 col2\" >saturated_fat</th>\n",
              "      <th class=\"col_heading level0 col3\" >carbohydrates</th>\n",
              "      <th class=\"col_heading level0 col4\" >sugars</th>\n",
              "      <th class=\"col_heading level0 col5\" >fiber</th>\n",
              "      <th class=\"col_heading level0 col6\" >protein</th>\n",
              "      <th class=\"col_heading level0 col7\" >salt</th>\n",
              "      <th class=\"col_heading level0 col8\" >sodium</th>\n",
              "    </tr>\n",
              "  </thead>\n",
              "  <tbody>\n",
              "    <tr>\n",
              "      <th id=\"T_80eac_level0_row0\" class=\"row_heading level0 row0\" >energy</th>\n",
              "      <td id=\"T_80eac_row0_col0\" class=\"data row0 col0\" >1.000000</td>\n",
              "      <td id=\"T_80eac_row0_col1\" class=\"data row0 col1\" >0.765860</td>\n",
              "      <td id=\"T_80eac_row0_col2\" class=\"data row0 col2\" >0.555783</td>\n",
              "      <td id=\"T_80eac_row0_col3\" class=\"data row0 col3\" >0.547135</td>\n",
              "      <td id=\"T_80eac_row0_col4\" class=\"data row0 col4\" >0.332232</td>\n",
              "      <td id=\"T_80eac_row0_col5\" class=\"data row0 col5\" >0.204843</td>\n",
              "      <td id=\"T_80eac_row0_col6\" class=\"data row0 col6\" >0.305759</td>\n",
              "      <td id=\"T_80eac_row0_col7\" class=\"data row0 col7\" >-0.010552</td>\n",
              "      <td id=\"T_80eac_row0_col8\" class=\"data row0 col8\" >-0.010552</td>\n",
              "    </tr>\n",
              "    <tr>\n",
              "      <th id=\"T_80eac_level0_row1\" class=\"row_heading level0 row1\" >fat</th>\n",
              "      <td id=\"T_80eac_row1_col0\" class=\"data row1 col0\" >0.765860</td>\n",
              "      <td id=\"T_80eac_row1_col1\" class=\"data row1 col1\" >1.000000</td>\n",
              "      <td id=\"T_80eac_row1_col2\" class=\"data row1 col2\" >0.700154</td>\n",
              "      <td id=\"T_80eac_row1_col3\" class=\"data row1 col3\" >-0.047538</td>\n",
              "      <td id=\"T_80eac_row1_col4\" class=\"data row1 col4\" >0.002212</td>\n",
              "      <td id=\"T_80eac_row1_col5\" class=\"data row1 col5\" >0.102577</td>\n",
              "      <td id=\"T_80eac_row1_col6\" class=\"data row1 col6\" >0.263769</td>\n",
              "      <td id=\"T_80eac_row1_col7\" class=\"data row1 col7\" >-0.005765</td>\n",
              "      <td id=\"T_80eac_row1_col8\" class=\"data row1 col8\" >-0.005765</td>\n",
              "    </tr>\n",
              "    <tr>\n",
              "      <th id=\"T_80eac_level0_row2\" class=\"row_heading level0 row2\" >saturated_fat</th>\n",
              "      <td id=\"T_80eac_row2_col0\" class=\"data row2 col0\" >0.555783</td>\n",
              "      <td id=\"T_80eac_row2_col1\" class=\"data row2 col1\" >0.700154</td>\n",
              "      <td id=\"T_80eac_row2_col2\" class=\"data row2 col2\" >1.000000</td>\n",
              "      <td id=\"T_80eac_row2_col3\" class=\"data row2 col3\" >-0.010566</td>\n",
              "      <td id=\"T_80eac_row2_col4\" class=\"data row2 col4\" >0.143723</td>\n",
              "      <td id=\"T_80eac_row2_col5\" class=\"data row2 col5\" >0.009250</td>\n",
              "      <td id=\"T_80eac_row2_col6\" class=\"data row2 col6\" >0.177162</td>\n",
              "      <td id=\"T_80eac_row2_col7\" class=\"data row2 col7\" >-0.008495</td>\n",
              "      <td id=\"T_80eac_row2_col8\" class=\"data row2 col8\" >-0.008495</td>\n",
              "    </tr>\n",
              "    <tr>\n",
              "      <th id=\"T_80eac_level0_row3\" class=\"row_heading level0 row3\" >carbohydrates</th>\n",
              "      <td id=\"T_80eac_row3_col0\" class=\"data row3 col0\" >0.547135</td>\n",
              "      <td id=\"T_80eac_row3_col1\" class=\"data row3 col1\" >-0.047538</td>\n",
              "      <td id=\"T_80eac_row3_col2\" class=\"data row3 col2\" >-0.010566</td>\n",
              "      <td id=\"T_80eac_row3_col3\" class=\"data row3 col3\" >1.000000</td>\n",
              "      <td id=\"T_80eac_row3_col4\" class=\"data row3 col4\" >0.617922</td>\n",
              "      <td id=\"T_80eac_row3_col5\" class=\"data row3 col5\" >0.179102</td>\n",
              "      <td id=\"T_80eac_row3_col6\" class=\"data row3 col6\" >-0.095576</td>\n",
              "      <td id=\"T_80eac_row3_col7\" class=\"data row3 col7\" >-0.014517</td>\n",
              "      <td id=\"T_80eac_row3_col8\" class=\"data row3 col8\" >-0.014517</td>\n",
              "    </tr>\n",
              "    <tr>\n",
              "      <th id=\"T_80eac_level0_row4\" class=\"row_heading level0 row4\" >sugars</th>\n",
              "      <td id=\"T_80eac_row4_col0\" class=\"data row4 col0\" >0.332232</td>\n",
              "      <td id=\"T_80eac_row4_col1\" class=\"data row4 col1\" >0.002212</td>\n",
              "      <td id=\"T_80eac_row4_col2\" class=\"data row4 col2\" >0.143723</td>\n",
              "      <td id=\"T_80eac_row4_col3\" class=\"data row4 col3\" >0.617922</td>\n",
              "      <td id=\"T_80eac_row4_col4\" class=\"data row4 col4\" >1.000000</td>\n",
              "      <td id=\"T_80eac_row4_col5\" class=\"data row4 col5\" >-0.013310</td>\n",
              "      <td id=\"T_80eac_row4_col6\" class=\"data row4 col6\" >-0.248632</td>\n",
              "      <td id=\"T_80eac_row4_col7\" class=\"data row4 col7\" >-0.027672</td>\n",
              "      <td id=\"T_80eac_row4_col8\" class=\"data row4 col8\" >-0.027672</td>\n",
              "    </tr>\n",
              "    <tr>\n",
              "      <th id=\"T_80eac_level0_row5\" class=\"row_heading level0 row5\" >fiber</th>\n",
              "      <td id=\"T_80eac_row5_col0\" class=\"data row5 col0\" >0.204843</td>\n",
              "      <td id=\"T_80eac_row5_col1\" class=\"data row5 col1\" >0.102577</td>\n",
              "      <td id=\"T_80eac_row5_col2\" class=\"data row5 col2\" >0.009250</td>\n",
              "      <td id=\"T_80eac_row5_col3\" class=\"data row5 col3\" >0.179102</td>\n",
              "      <td id=\"T_80eac_row5_col4\" class=\"data row5 col4\" >-0.013310</td>\n",
              "      <td id=\"T_80eac_row5_col5\" class=\"data row5 col5\" >1.000000</td>\n",
              "      <td id=\"T_80eac_row5_col6\" class=\"data row5 col6\" >0.171301</td>\n",
              "      <td id=\"T_80eac_row5_col7\" class=\"data row5 col7\" >-0.000985</td>\n",
              "      <td id=\"T_80eac_row5_col8\" class=\"data row5 col8\" >-0.000985</td>\n",
              "    </tr>\n",
              "    <tr>\n",
              "      <th id=\"T_80eac_level0_row6\" class=\"row_heading level0 row6\" >protein</th>\n",
              "      <td id=\"T_80eac_row6_col0\" class=\"data row6 col0\" >0.305759</td>\n",
              "      <td id=\"T_80eac_row6_col1\" class=\"data row6 col1\" >0.263769</td>\n",
              "      <td id=\"T_80eac_row6_col2\" class=\"data row6 col2\" >0.177162</td>\n",
              "      <td id=\"T_80eac_row6_col3\" class=\"data row6 col3\" >-0.095576</td>\n",
              "      <td id=\"T_80eac_row6_col4\" class=\"data row6 col4\" >-0.248632</td>\n",
              "      <td id=\"T_80eac_row6_col5\" class=\"data row6 col5\" >0.171301</td>\n",
              "      <td id=\"T_80eac_row6_col6\" class=\"data row6 col6\" >1.000000</td>\n",
              "      <td id=\"T_80eac_row6_col7\" class=\"data row6 col7\" >0.013709</td>\n",
              "      <td id=\"T_80eac_row6_col8\" class=\"data row6 col8\" >0.013708</td>\n",
              "    </tr>\n",
              "    <tr>\n",
              "      <th id=\"T_80eac_level0_row7\" class=\"row_heading level0 row7\" >salt</th>\n",
              "      <td id=\"T_80eac_row7_col0\" class=\"data row7 col0\" >-0.010552</td>\n",
              "      <td id=\"T_80eac_row7_col1\" class=\"data row7 col1\" >-0.005765</td>\n",
              "      <td id=\"T_80eac_row7_col2\" class=\"data row7 col2\" >-0.008495</td>\n",
              "      <td id=\"T_80eac_row7_col3\" class=\"data row7 col3\" >-0.014517</td>\n",
              "      <td id=\"T_80eac_row7_col4\" class=\"data row7 col4\" >-0.027672</td>\n",
              "      <td id=\"T_80eac_row7_col5\" class=\"data row7 col5\" >-0.000985</td>\n",
              "      <td id=\"T_80eac_row7_col6\" class=\"data row7 col6\" >0.013709</td>\n",
              "      <td id=\"T_80eac_row7_col7\" class=\"data row7 col7\" >1.000000</td>\n",
              "      <td id=\"T_80eac_row7_col8\" class=\"data row7 col8\" >1.000000</td>\n",
              "    </tr>\n",
              "    <tr>\n",
              "      <th id=\"T_80eac_level0_row8\" class=\"row_heading level0 row8\" >sodium</th>\n",
              "      <td id=\"T_80eac_row8_col0\" class=\"data row8 col0\" >-0.010552</td>\n",
              "      <td id=\"T_80eac_row8_col1\" class=\"data row8 col1\" >-0.005765</td>\n",
              "      <td id=\"T_80eac_row8_col2\" class=\"data row8 col2\" >-0.008495</td>\n",
              "      <td id=\"T_80eac_row8_col3\" class=\"data row8 col3\" >-0.014517</td>\n",
              "      <td id=\"T_80eac_row8_col4\" class=\"data row8 col4\" >-0.027672</td>\n",
              "      <td id=\"T_80eac_row8_col5\" class=\"data row8 col5\" >-0.000985</td>\n",
              "      <td id=\"T_80eac_row8_col6\" class=\"data row8 col6\" >0.013708</td>\n",
              "      <td id=\"T_80eac_row8_col7\" class=\"data row8 col7\" >1.000000</td>\n",
              "      <td id=\"T_80eac_row8_col8\" class=\"data row8 col8\" >1.000000</td>\n",
              "    </tr>\n",
              "  </tbody>\n",
              "</table>\n"
            ]
          },
          "metadata": {},
          "execution_count": 31
        }
      ]
    },
    {
      "cell_type": "markdown",
      "source": [
        "We see that salt and sodium are essentially the same item! This is important when we do machine learning analysis and look at feature selection. Also, energy seems to be correlated with the other macronutrients. This also makes sense, since carbs and protein are 4 calories/gram, and protein is 9 cals/gram, showing a direct relationship between these nutrients and energy. "
      ],
      "metadata": {
        "id": "1d6zLoW1_6FF"
      }
    },
    {
      "cell_type": "markdown",
      "source": [
        "Again, notice how several variables are highly correlated with each other, such as sodium and salt (which are essentially the same thing), fat and energy, saturated_fat and fat, and sugars and carbohydrates."
      ],
      "metadata": {
        "id": "Ix_dlRibnpJ4"
      }
    },
    {
      "cell_type": "markdown",
      "source": [
        "# **4** Machine Learning to Determine Healthy Products"
      ],
      "metadata": {
        "id": "MODXpgse0KPB"
      }
    },
    {
      "cell_type": "markdown",
      "source": [
        "In this section, we are going to use a variety of supervised machine learning methods to regress on various features to determine their nutrition score. Then we are going to classify on several features to determine whether we can predict the \"healthiness\" of a product."
      ],
      "metadata": {
        "id": "4bLrmUPonZdP"
      }
    },
    {
      "cell_type": "markdown",
      "source": [
        "## Imports"
      ],
      "metadata": {
        "id": "DQAsPi6MMQSc"
      }
    },
    {
      "cell_type": "code",
      "source": [
        "from sklearn.linear_model import LogisticRegression\n",
        "from sklearn.linear_model import LinearRegression\n",
        "from sklearn.linear_model import Ridge\n",
        "from sklearn.linear_model import RidgeCV\n",
        "from sklearn.linear_model import Lasso\n",
        "from sklearn.linear_model import LassoCV\n",
        "from sklearn.linear_model import ElasticNet\n",
        "from sklearn.linear_model import ElasticNetCV\n",
        "from sklearn.decomposition import PCA\n",
        "from sklearn.preprocessing import StandardScaler\n",
        "\n",
        "#Import random forest, neural networks\n",
        "from sklearn.ensemble import RandomForestClassifier\n",
        "from sklearn.ensemble import RandomForestRegressor\n",
        "from sklearn.neural_network import MLPClassifier\n",
        "\n",
        "#Import pytorch neural network classes\n",
        "import torch\n",
        "import torch.nn as nn\n",
        "\n",
        "#Import helpers\n",
        "from sklearn.model_selection import train_test_split\n",
        "from sklearn.metrics import accuracy_score\n",
        "from sklearn.metrics import mean_squared_error\n",
        "from sklearn.metrics import confusion_matrix\n",
        "from sklearn.model_selection import KFold\n",
        "from sklearn.model_selection import cross_val_score\n"
      ],
      "metadata": {
        "id": "a4fzljIlMSIT"
      },
      "execution_count": 32,
      "outputs": []
    },
    {
      "cell_type": "markdown",
      "source": [
        "We need to convert our response variable into a categorical variable that ML algorithms can predict the nutrition score. We also need to make sure that we remove any features that we may not need. We mostly want to keep information about the nutritional value of these food products. We are using the nutrition-score-fr_100g as the nutrition score index.\n",
        "\n",
        "We will first clean in a very similar way done in the nutrition EDA"
      ],
      "metadata": {
        "id": "QpkFFmBT0sW1"
      }
    },
    {
      "cell_type": "code",
      "source": [
        "#Removing anything above 1_000_000 and below 0 for either entry as they are not valid data (there exist negative values and and values > 1e6)\n",
        "df_open_food_nan = df_open_food[['additives_n', 'ingredients_from_palm_oil_n', 'ingredients_that_may_be_from_palm_oil_n', \n",
        "                                'energy', 'fat', 'saturated_fat', 'carbohydrates', 'sugars', 'fiber', 'protein', 'salt', 'sodium','nutrition-score-fr_100g']]\n",
        "df_open_food_nan = df_open_food_nan[(df_open_food_nan['energy'] >= 0) & (df_open_food_nan['energy'] <= 1_000_000) & \n",
        "                            (df_open_food_nan['fat'] >= 0) & (df_open_food_nan['fat'] <= 1_000_000) &\n",
        "                            (df_open_food_nan['saturated_fat'] >= 0) & (df_open_food_nan['saturated_fat'] <= 1_000_000) & \n",
        "                            (df_open_food_nan['carbohydrates'] >= 0) & (df_open_food_nan['carbohydrates'] <= 1_000_000) &\n",
        "                            (df_open_food_nan['sugars'] >= 0) & (df_open_food_nan['sugars'] <= 1_000_000) &\n",
        "                            (df_open_food_nan['fiber'] >= 0) & (df_open_food_nan['fiber'] <= 1_000_000) &\n",
        "                            (df_open_food_nan['protein'] >= 0) & (df_open_food_nan['protein'] <= 1_000_000) & \n",
        "                            (df_open_food_nan['salt'] >= 0) & (df_open_food_nan['salt'] <= 1_000_000) &\n",
        "                            (df_open_food_nan['sodium'] >= 0) & (df_open_food_nan['sodium'] <= 1_000_000) \n",
        "                            ]\n",
        "\n",
        "#also drop any Nan values\n",
        "df_open_food_nan = df_open_food_nan.dropna(how=\"any\")\n",
        "\n",
        "# select helpful features for our machine learning algorithm\n",
        "df_open_food_ml = df_open_food_nan[['additives_n', 'ingredients_from_palm_oil_n', 'ingredients_that_may_be_from_palm_oil_n', \n",
        "                                'energy', 'fat', 'saturated_fat', 'carbohydrates', 'sugars', 'fiber', 'protein', 'salt', 'sodium', 'nutrition-score-fr_100g']]\n",
        "\n",
        "#see the size of the dataset\n",
        "len(df_open_food_nan)"
      ],
      "metadata": {
        "id": "4AHSTm-R0SCR",
        "colab": {
          "base_uri": "https://localhost:8080/"
        },
        "outputId": "4f7904cd-f227-4a6e-97c7-2ea11627a2bf"
      },
      "execution_count": 33,
      "outputs": [
        {
          "output_type": "execute_result",
          "data": {
            "text/plain": [
              "190770"
            ]
          },
          "metadata": {},
          "execution_count": 33
        }
      ]
    },
    {
      "cell_type": "markdown",
      "source": [
        "Now we need to split the nutrition score where we categorize foods that have a score higher or equal to the median is \"healthy\" (1), and anything below is \"unhealthy\" (0). This is because we believe that health_score is a good indicator of a nutrition score.   \n",
        "\n",
        "This variable will be used for classification analyses, whereas the score itself can be used for regression and real-number analyses."
      ],
      "metadata": {
        "id": "ksVDfEvU7SvB"
      }
    },
    {
      "cell_type": "code",
      "source": [
        "#finding the median score of the nutrition score\n",
        "median_score = df_open_food_ml[['nutrition-score-fr_100g']].median()\n",
        "\n",
        "#creating the categorical response variable\n",
        "df_open_food_ml['health_score'] = np.where(df_open_food_ml[['nutrition-score-fr_100g']] >= median_score, 'healthy', 'unhealthy')\n",
        "df_open_food_ml['nutrition-score-fr_100g'].describe()"
      ],
      "metadata": {
        "id": "KYjKJLEz61qv",
        "colab": {
          "base_uri": "https://localhost:8080/"
        },
        "outputId": "6932f702-303a-49d4-f870-861f3e527a98"
      },
      "execution_count": 38,
      "outputs": [
        {
          "output_type": "stream",
          "name": "stdout",
          "text": [
            "additives_n                                145117\n",
            "ingredients_from_palm_oil_n                145117\n",
            "ingredients_that_may_be_from_palm_oil_n    145117\n",
            "energy                                     145117\n",
            "fat                                        145117\n",
            "saturated_fat                              145117\n",
            "carbohydrates                              145117\n",
            "sugars                                     145117\n",
            "fiber                                      145117\n",
            "protein                                    145117\n",
            "salt                                       145117\n",
            "sodium                                     145117\n",
            "nutrition-score-fr_100g                    145117\n",
            "health_score                               145117\n",
            "dtype: int64\n"
          ]
        },
        {
          "output_type": "execute_result",
          "data": {
            "text/plain": [
              "count    190770.000000\n",
              "mean          8.672910\n",
              "std           9.027616\n",
              "min         -15.000000\n",
              "25%           1.000000\n",
              "50%           9.000000\n",
              "75%          16.000000\n",
              "max          40.000000\n",
              "Name: nutrition-score-fr_100g, dtype: float64"
            ]
          },
          "metadata": {},
          "execution_count": 38
        }
      ]
    },
    {
      "cell_type": "markdown",
      "source": [
        "## Separating Features and Response"
      ],
      "metadata": {
        "id": "nlH8V_fdIg3E"
      }
    },
    {
      "cell_type": "code",
      "source": [
        "#stores features dataframe into variable called \"features\"\n",
        "features = df_open_food_ml.loc[:, ~df_open_food_ml.columns.isin(['nutrition-score-fr_100g', 'health_score'])]\n",
        "\n"
      ],
      "metadata": {
        "id": "aVeeQ1UEJdw_"
      },
      "execution_count": null,
      "outputs": []
    },
    {
      "cell_type": "code",
      "source": [
        "#check correlation between features\n",
        "corr = features.corr()\n",
        "corr.style.background_gradient(cmap ='coolwarm')"
      ],
      "metadata": {
        "colab": {
          "base_uri": "https://localhost:8080/",
          "height": 446
        },
        "id": "-Od9gjhYveR_",
        "outputId": "9b7bb578-24b8-4f76-846b-c1c811efdb93"
      },
      "execution_count": null,
      "outputs": [
        {
          "output_type": "execute_result",
          "data": {
            "text/plain": [
              "<pandas.io.formats.style.Styler at 0x7ff51b1486d0>"
            ],
            "text/html": [
              "<style type=\"text/css\">\n",
              "#T_44634_row0_col0, #T_44634_row1_col1, #T_44634_row2_col2, #T_44634_row3_col3, #T_44634_row4_col4, #T_44634_row5_col5, #T_44634_row6_col6, #T_44634_row7_col7, #T_44634_row8_col8, #T_44634_row9_col9, #T_44634_row10_col10, #T_44634_row10_col11, #T_44634_row11_col10, #T_44634_row11_col11 {\n",
              "  background-color: #b40426;\n",
              "  color: #f1f1f1;\n",
              "}\n",
              "#T_44634_row0_col1 {\n",
              "  background-color: #6384eb;\n",
              "  color: #f1f1f1;\n",
              "}\n",
              "#T_44634_row0_col2, #T_44634_row0_col7 {\n",
              "  background-color: #a7c5fe;\n",
              "  color: #000000;\n",
              "}\n",
              "#T_44634_row0_col3, #T_44634_row0_col10, #T_44634_row0_col11, #T_44634_row2_col3, #T_44634_row6_col4, #T_44634_row8_col5 {\n",
              "  background-color: #4358cb;\n",
              "  color: #f1f1f1;\n",
              "}\n",
              "#T_44634_row0_col4, #T_44634_row0_col5, #T_44634_row0_col8, #T_44634_row7_col9, #T_44634_row7_col10, #T_44634_row7_col11, #T_44634_row8_col0, #T_44634_row9_col1, #T_44634_row9_col2, #T_44634_row9_col6, #T_44634_row9_col7, #T_44634_row10_col3, #T_44634_row11_col3 {\n",
              "  background-color: #3b4cc0;\n",
              "  color: #f1f1f1;\n",
              "}\n",
              "#T_44634_row0_col6 {\n",
              "  background-color: #88abfd;\n",
              "  color: #000000;\n",
              "}\n",
              "#T_44634_row0_col9 {\n",
              "  background-color: #5f7fe8;\n",
              "  color: #f1f1f1;\n",
              "}\n",
              "#T_44634_row1_col0 {\n",
              "  background-color: #7da0f9;\n",
              "  color: #f1f1f1;\n",
              "}\n",
              "#T_44634_row1_col2 {\n",
              "  background-color: #81a4fb;\n",
              "  color: #f1f1f1;\n",
              "}\n",
              "#T_44634_row1_col3, #T_44634_row2_col6, #T_44634_row5_col8 {\n",
              "  background-color: #5b7ae5;\n",
              "  color: #f1f1f1;\n",
              "}\n",
              "#T_44634_row1_col4 {\n",
              "  background-color: #6282ea;\n",
              "  color: #f1f1f1;\n",
              "}\n",
              "#T_44634_row1_col5, #T_44634_row1_col8, #T_44634_row5_col1, #T_44634_row10_col0, #T_44634_row11_col0 {\n",
              "  background-color: #5a78e4;\n",
              "  color: #f1f1f1;\n",
              "}\n",
              "#T_44634_row1_col6 {\n",
              "  background-color: #6f92f3;\n",
              "  color: #f1f1f1;\n",
              "}\n",
              "#T_44634_row1_col7 {\n",
              "  background-color: #8db0fe;\n",
              "  color: #000000;\n",
              "}\n",
              "#T_44634_row1_col9, #T_44634_row2_col1, #T_44634_row8_col7 {\n",
              "  background-color: #779af7;\n",
              "  color: #f1f1f1;\n",
              "}\n",
              "#T_44634_row1_col10, #T_44634_row1_col11, #T_44634_row2_col10, #T_44634_row2_col11, #T_44634_row4_col0, #T_44634_row8_col10, #T_44634_row8_col11 {\n",
              "  background-color: #4257c9;\n",
              "  color: #f1f1f1;\n",
              "}\n",
              "#T_44634_row2_col0 {\n",
              "  background-color: #b3cdfb;\n",
              "  color: #000000;\n",
              "}\n",
              "#T_44634_row2_col4 {\n",
              "  background-color: #5673e0;\n",
              "  color: #f1f1f1;\n",
              "}\n",
              "#T_44634_row2_col5 {\n",
              "  background-color: #4a63d3;\n",
              "  color: #f1f1f1;\n",
              "}\n",
              "#T_44634_row2_col7, #T_44634_row10_col9, #T_44634_row11_col9 {\n",
              "  background-color: #80a3fa;\n",
              "  color: #f1f1f1;\n",
              "}\n",
              "#T_44634_row2_col8, #T_44634_row4_col1, #T_44634_row10_col4, #T_44634_row11_col4 {\n",
              "  background-color: #506bda;\n",
              "  color: #f1f1f1;\n",
              "}\n",
              "#T_44634_row2_col9 {\n",
              "  background-color: #6e90f2;\n",
              "  color: #f1f1f1;\n",
              "}\n",
              "#T_44634_row3_col0 {\n",
              "  background-color: #5e7de7;\n",
              "  color: #f1f1f1;\n",
              "}\n",
              "#T_44634_row3_col1 {\n",
              "  background-color: #5d7ce6;\n",
              "  color: #f1f1f1;\n",
              "}\n",
              "#T_44634_row3_col2, #T_44634_row6_col2 {\n",
              "  background-color: #4e68d8;\n",
              "  color: #f1f1f1;\n",
              "}\n",
              "#T_44634_row3_col4 {\n",
              "  background-color: #f08b6e;\n",
              "  color: #f1f1f1;\n",
              "}\n",
              "#T_44634_row3_col5 {\n",
              "  background-color: #ecd3c5;\n",
              "  color: #000000;\n",
              "}\n",
              "#T_44634_row3_col6 {\n",
              "  background-color: #f0cdbb;\n",
              "  color: #000000;\n",
              "}\n",
              "#T_44634_row3_col7 {\n",
              "  background-color: #d4dbe6;\n",
              "  color: #000000;\n",
              "}\n",
              "#T_44634_row3_col8 {\n",
              "  background-color: #9bbcff;\n",
              "  color: #000000;\n",
              "}\n",
              "#T_44634_row3_col9 {\n",
              "  background-color: #cedaeb;\n",
              "  color: #000000;\n",
              "}\n",
              "#T_44634_row3_col10, #T_44634_row3_col11, #T_44634_row5_col10, #T_44634_row5_col11, #T_44634_row8_col1, #T_44634_row8_col2 {\n",
              "  background-color: #3f53c6;\n",
              "  color: #f1f1f1;\n",
              "}\n",
              "#T_44634_row4_col2 {\n",
              "  background-color: #4c66d6;\n",
              "  color: #f1f1f1;\n",
              "}\n",
              "#T_44634_row4_col3 {\n",
              "  background-color: #f29274;\n",
              "  color: #f1f1f1;\n",
              "}\n",
              "#T_44634_row4_col5 {\n",
              "  background-color: #f7aa8c;\n",
              "  color: #000000;\n",
              "}\n",
              "#T_44634_row4_col6 {\n",
              "  background-color: #485fd1;\n",
              "  color: #f1f1f1;\n",
              "}\n",
              "#T_44634_row4_col7 {\n",
              "  background-color: #7b9ff9;\n",
              "  color: #f1f1f1;\n",
              "}\n",
              "#T_44634_row4_col8 {\n",
              "  background-color: #7a9df8;\n",
              "  color: #f1f1f1;\n",
              "}\n",
              "#T_44634_row4_col9 {\n",
              "  background-color: #c5d6f2;\n",
              "  color: #000000;\n",
              "}\n",
              "#T_44634_row4_col10, #T_44634_row4_col11 {\n",
              "  background-color: #4055c8;\n",
              "  color: #f1f1f1;\n",
              "}\n",
              "#T_44634_row5_col0 {\n",
              "  background-color: #5470de;\n",
              "  color: #f1f1f1;\n",
              "}\n",
              "#T_44634_row5_col2, #T_44634_row5_col6, #T_44634_row10_col6, #T_44634_row11_col6 {\n",
              "  background-color: #536edd;\n",
              "  color: #f1f1f1;\n",
              "}\n",
              "#T_44634_row5_col3 {\n",
              "  background-color: #ebd3c6;\n",
              "  color: #000000;\n",
              "}\n",
              "#T_44634_row5_col4 {\n",
              "  background-color: #f6a586;\n",
              "  color: #000000;\n",
              "}\n",
              "#T_44634_row5_col7, #T_44634_row9_col3 {\n",
              "  background-color: #a3c2fe;\n",
              "  color: #000000;\n",
              "}\n",
              "#T_44634_row5_col9, #T_44634_row8_col9 {\n",
              "  background-color: #aec9fc;\n",
              "  color: #000000;\n",
              "}\n",
              "#T_44634_row6_col0 {\n",
              "  background-color: #8badfd;\n",
              "  color: #000000;\n",
              "}\n",
              "#T_44634_row6_col1, #T_44634_row10_col8, #T_44634_row11_col8 {\n",
              "  background-color: #5875e1;\n",
              "  color: #f1f1f1;\n",
              "}\n",
              "#T_44634_row6_col3 {\n",
              "  background-color: #ead5c9;\n",
              "  color: #000000;\n",
              "}\n",
              "#T_44634_row6_col5, #T_44634_row9_col0 {\n",
              "  background-color: #3c4ec2;\n",
              "  color: #f1f1f1;\n",
              "}\n",
              "#T_44634_row6_col7 {\n",
              "  background-color: #f7ad90;\n",
              "  color: #000000;\n",
              "}\n",
              "#T_44634_row6_col8 {\n",
              "  background-color: #93b5fe;\n",
              "  color: #000000;\n",
              "}\n",
              "#T_44634_row6_col9 {\n",
              "  background-color: #6180e9;\n",
              "  color: #f1f1f1;\n",
              "}\n",
              "#T_44634_row6_col10, #T_44634_row6_col11, #T_44634_row10_col1, #T_44634_row11_col1 {\n",
              "  background-color: #3e51c5;\n",
              "  color: #f1f1f1;\n",
              "}\n",
              "#T_44634_row7_col0 {\n",
              "  background-color: #89acfd;\n",
              "  color: #000000;\n",
              "}\n",
              "#T_44634_row7_col1, #T_44634_row7_col4 {\n",
              "  background-color: #516ddb;\n",
              "  color: #f1f1f1;\n",
              "}\n",
              "#T_44634_row7_col2 {\n",
              "  background-color: #4b64d5;\n",
              "  color: #f1f1f1;\n",
              "}\n",
              "#T_44634_row7_col3 {\n",
              "  background-color: #abc8fd;\n",
              "  color: #000000;\n",
              "}\n",
              "#T_44634_row7_col5 {\n",
              "  background-color: #6b8df0;\n",
              "  color: #f1f1f1;\n",
              "}\n",
              "#T_44634_row7_col6 {\n",
              "  background-color: #f7bca1;\n",
              "  color: #000000;\n",
              "}\n",
              "#T_44634_row7_col8 {\n",
              "  background-color: #5572df;\n",
              "  color: #f1f1f1;\n",
              "}\n",
              "#T_44634_row8_col3 {\n",
              "  background-color: #82a6fb;\n",
              "  color: #f1f1f1;\n",
              "}\n",
              "#T_44634_row8_col4 {\n",
              "  background-color: #7396f5;\n",
              "  color: #f1f1f1;\n",
              "}\n",
              "#T_44634_row8_col6, #T_44634_row9_col8 {\n",
              "  background-color: #90b2fe;\n",
              "  color: #000000;\n",
              "}\n",
              "#T_44634_row9_col4 {\n",
              "  background-color: #a6c4fe;\n",
              "  color: #000000;\n",
              "}\n",
              "#T_44634_row9_col5 {\n",
              "  background-color: #799cf8;\n",
              "  color: #f1f1f1;\n",
              "}\n",
              "#T_44634_row9_col10, #T_44634_row9_col11, #T_44634_row10_col2, #T_44634_row11_col2 {\n",
              "  background-color: #465ecf;\n",
              "  color: #f1f1f1;\n",
              "}\n",
              "#T_44634_row10_col5, #T_44634_row11_col5 {\n",
              "  background-color: #3d50c3;\n",
              "  color: #f1f1f1;\n",
              "}\n",
              "#T_44634_row10_col7, #T_44634_row11_col7 {\n",
              "  background-color: #7597f6;\n",
              "  color: #f1f1f1;\n",
              "}\n",
              "</style>\n",
              "<table id=\"T_44634_\" class=\"dataframe\">\n",
              "  <thead>\n",
              "    <tr>\n",
              "      <th class=\"blank level0\" >&nbsp;</th>\n",
              "      <th class=\"col_heading level0 col0\" >additives_n</th>\n",
              "      <th class=\"col_heading level0 col1\" >ingredients_from_palm_oil_n</th>\n",
              "      <th class=\"col_heading level0 col2\" >ingredients_that_may_be_from_palm_oil_n</th>\n",
              "      <th class=\"col_heading level0 col3\" >energy</th>\n",
              "      <th class=\"col_heading level0 col4\" >fat</th>\n",
              "      <th class=\"col_heading level0 col5\" >saturated_fat</th>\n",
              "      <th class=\"col_heading level0 col6\" >carbohydrates</th>\n",
              "      <th class=\"col_heading level0 col7\" >sugars</th>\n",
              "      <th class=\"col_heading level0 col8\" >fiber</th>\n",
              "      <th class=\"col_heading level0 col9\" >protein</th>\n",
              "      <th class=\"col_heading level0 col10\" >salt</th>\n",
              "      <th class=\"col_heading level0 col11\" >sodium</th>\n",
              "    </tr>\n",
              "  </thead>\n",
              "  <tbody>\n",
              "    <tr>\n",
              "      <th id=\"T_44634_level0_row0\" class=\"row_heading level0 row0\" >additives_n</th>\n",
              "      <td id=\"T_44634_row0_col0\" class=\"data row0 col0\" >1.000000</td>\n",
              "      <td id=\"T_44634_row0_col1\" class=\"data row0 col1\" >0.117145</td>\n",
              "      <td id=\"T_44634_row0_col2\" class=\"data row0 col2\" >0.291698</td>\n",
              "      <td id=\"T_44634_row0_col3\" class=\"data row0 col3\" >0.018059</td>\n",
              "      <td id=\"T_44634_row0_col4\" class=\"data row0 col4\" >-0.083061</td>\n",
              "      <td id=\"T_44634_row0_col5\" class=\"data row0 col5\" >-0.017723</td>\n",
              "      <td id=\"T_44634_row0_col6\" class=\"data row0 col6\" >0.159443</td>\n",
              "      <td id=\"T_44634_row0_col7\" class=\"data row0 col7\" >0.155856</td>\n",
              "      <td id=\"T_44634_row0_col8\" class=\"data row0 col8\" >-0.110501</td>\n",
              "      <td id=\"T_44634_row0_col9\" class=\"data row0 col9\" >-0.102294</td>\n",
              "      <td id=\"T_44634_row0_col10\" class=\"data row0 col10\" >0.002580</td>\n",
              "      <td id=\"T_44634_row0_col11\" class=\"data row0 col11\" >0.002580</td>\n",
              "    </tr>\n",
              "    <tr>\n",
              "      <th id=\"T_44634_level0_row1\" class=\"row_heading level0 row1\" >ingredients_from_palm_oil_n</th>\n",
              "      <td id=\"T_44634_row1_col0\" class=\"data row1 col0\" >0.117145</td>\n",
              "      <td id=\"T_44634_row1_col1\" class=\"data row1 col1\" >1.000000</td>\n",
              "      <td id=\"T_44634_row1_col2\" class=\"data row1 col2\" >0.177724</td>\n",
              "      <td id=\"T_44634_row1_col3\" class=\"data row1 col3\" >0.097651</td>\n",
              "      <td id=\"T_44634_row1_col4\" class=\"data row1 col4\" >0.056455</td>\n",
              "      <td id=\"T_44634_row1_col5\" class=\"data row1 col5\" >0.087469</td>\n",
              "      <td id=\"T_44634_row1_col6\" class=\"data row1 col6\" >0.082595</td>\n",
              "      <td id=\"T_44634_row1_col7\" class=\"data row1 col7\" >0.061974</td>\n",
              "      <td id=\"T_44634_row1_col8\" class=\"data row1 col8\" >0.003197</td>\n",
              "      <td id=\"T_44634_row1_col9\" class=\"data row1 col9\" >-0.015889</td>\n",
              "      <td id=\"T_44634_row1_col10\" class=\"data row1 col10\" >-0.002056</td>\n",
              "      <td id=\"T_44634_row1_col11\" class=\"data row1 col11\" >-0.002056</td>\n",
              "    </tr>\n",
              "    <tr>\n",
              "      <th id=\"T_44634_level0_row2\" class=\"row_heading level0 row2\" >ingredients_that_may_be_from_palm_oil_n</th>\n",
              "      <td id=\"T_44634_row2_col0\" class=\"data row2 col0\" >0.291698</td>\n",
              "      <td id=\"T_44634_row2_col1\" class=\"data row2 col1\" >0.177724</td>\n",
              "      <td id=\"T_44634_row2_col2\" class=\"data row2 col2\" >1.000000</td>\n",
              "      <td id=\"T_44634_row2_col3\" class=\"data row2 col3\" >0.019535</td>\n",
              "      <td id=\"T_44634_row2_col4\" class=\"data row2 col4\" >0.015635</td>\n",
              "      <td id=\"T_44634_row2_col5\" class=\"data row2 col5\" >0.035809</td>\n",
              "      <td id=\"T_44634_row2_col6\" class=\"data row2 col6\" >0.018420</td>\n",
              "      <td id=\"T_44634_row2_col7\" class=\"data row2 col7\" >0.012664</td>\n",
              "      <td id=\"T_44634_row2_col8\" class=\"data row2 col8\" >-0.028205</td>\n",
              "      <td id=\"T_44634_row2_col9\" class=\"data row2 col9\" >-0.048269</td>\n",
              "      <td id=\"T_44634_row2_col10\" class=\"data row2 col10\" >-0.003513</td>\n",
              "      <td id=\"T_44634_row2_col11\" class=\"data row2 col11\" >-0.003513</td>\n",
              "    </tr>\n",
              "    <tr>\n",
              "      <th id=\"T_44634_level0_row3\" class=\"row_heading level0 row3\" >energy</th>\n",
              "      <td id=\"T_44634_row3_col0\" class=\"data row3 col0\" >0.018059</td>\n",
              "      <td id=\"T_44634_row3_col1\" class=\"data row3 col1\" >0.097651</td>\n",
              "      <td id=\"T_44634_row3_col2\" class=\"data row3 col2\" >0.019535</td>\n",
              "      <td id=\"T_44634_row3_col3\" class=\"data row3 col3\" >1.000000</td>\n",
              "      <td id=\"T_44634_row3_col4\" class=\"data row3 col4\" >0.767079</td>\n",
              "      <td id=\"T_44634_row3_col5\" class=\"data row3 col5\" >0.555481</td>\n",
              "      <td id=\"T_44634_row3_col6\" class=\"data row3 col6\" >0.547232</td>\n",
              "      <td id=\"T_44634_row3_col7\" class=\"data row3 col7\" >0.330476</td>\n",
              "      <td id=\"T_44634_row3_col8\" class=\"data row3 col8\" >0.212487</td>\n",
              "      <td id=\"T_44634_row3_col9\" class=\"data row3 col9\" >0.307014</td>\n",
              "      <td id=\"T_44634_row3_col10\" class=\"data row3 col10\" >-0.009974</td>\n",
              "      <td id=\"T_44634_row3_col11\" class=\"data row3 col11\" >-0.009974</td>\n",
              "    </tr>\n",
              "    <tr>\n",
              "      <th id=\"T_44634_level0_row4\" class=\"row_heading level0 row4\" >fat</th>\n",
              "      <td id=\"T_44634_row4_col0\" class=\"data row4 col0\" >-0.083061</td>\n",
              "      <td id=\"T_44634_row4_col1\" class=\"data row4 col1\" >0.056455</td>\n",
              "      <td id=\"T_44634_row4_col2\" class=\"data row4 col2\" >0.015635</td>\n",
              "      <td id=\"T_44634_row4_col3\" class=\"data row4 col3\" >0.767079</td>\n",
              "      <td id=\"T_44634_row4_col4\" class=\"data row4 col4\" >1.000000</td>\n",
              "      <td id=\"T_44634_row4_col5\" class=\"data row4 col5\" >0.699610</td>\n",
              "      <td id=\"T_44634_row4_col6\" class=\"data row4 col6\" >-0.049427</td>\n",
              "      <td id=\"T_44634_row4_col7\" class=\"data row4 col7\" >-0.001881</td>\n",
              "      <td id=\"T_44634_row4_col8\" class=\"data row4 col8\" >0.109145</td>\n",
              "      <td id=\"T_44634_row4_col9\" class=\"data row4 col9\" >0.267144</td>\n",
              "      <td id=\"T_44634_row4_col10\" class=\"data row4 col10\" >-0.005800</td>\n",
              "      <td id=\"T_44634_row4_col11\" class=\"data row4 col11\" >-0.005800</td>\n",
              "    </tr>\n",
              "    <tr>\n",
              "      <th id=\"T_44634_level0_row5\" class=\"row_heading level0 row5\" >saturated_fat</th>\n",
              "      <td id=\"T_44634_row5_col0\" class=\"data row5 col0\" >-0.017723</td>\n",
              "      <td id=\"T_44634_row5_col1\" class=\"data row5 col1\" >0.087469</td>\n",
              "      <td id=\"T_44634_row5_col2\" class=\"data row5 col2\" >0.035809</td>\n",
              "      <td id=\"T_44634_row5_col3\" class=\"data row5 col3\" >0.555481</td>\n",
              "      <td id=\"T_44634_row5_col4\" class=\"data row5 col4\" >0.699610</td>\n",
              "      <td id=\"T_44634_row5_col5\" class=\"data row5 col5\" >1.000000</td>\n",
              "      <td id=\"T_44634_row5_col6\" class=\"data row5 col6\" >-0.013148</td>\n",
              "      <td id=\"T_44634_row5_col7\" class=\"data row5 col7\" >0.140358</td>\n",
              "      <td id=\"T_44634_row5_col8\" class=\"data row5 col8\" >0.010702</td>\n",
              "      <td id=\"T_44634_row5_col9\" class=\"data row5 col9\" >0.178800</td>\n",
              "      <td id=\"T_44634_row5_col10\" class=\"data row5 col10\" >-0.008931</td>\n",
              "      <td id=\"T_44634_row5_col11\" class=\"data row5 col11\" >-0.008931</td>\n",
              "    </tr>\n",
              "    <tr>\n",
              "      <th id=\"T_44634_level0_row6\" class=\"row_heading level0 row6\" >carbohydrates</th>\n",
              "      <td id=\"T_44634_row6_col0\" class=\"data row6 col0\" >0.159443</td>\n",
              "      <td id=\"T_44634_row6_col1\" class=\"data row6 col1\" >0.082595</td>\n",
              "      <td id=\"T_44634_row6_col2\" class=\"data row6 col2\" >0.018420</td>\n",
              "      <td id=\"T_44634_row6_col3\" class=\"data row6 col3\" >0.547232</td>\n",
              "      <td id=\"T_44634_row6_col4\" class=\"data row6 col4\" >-0.049427</td>\n",
              "      <td id=\"T_44634_row6_col5\" class=\"data row6 col5\" >-0.013148</td>\n",
              "      <td id=\"T_44634_row6_col6\" class=\"data row6 col6\" >1.000000</td>\n",
              "      <td id=\"T_44634_row6_col7\" class=\"data row6 col7\" >0.619447</td>\n",
              "      <td id=\"T_44634_row6_col8\" class=\"data row6 col8\" >0.185316</td>\n",
              "      <td id=\"T_44634_row6_col9\" class=\"data row6 col9\" >-0.100950</td>\n",
              "      <td id=\"T_44634_row6_col10\" class=\"data row6 col10\" >-0.014654</td>\n",
              "      <td id=\"T_44634_row6_col11\" class=\"data row6 col11\" >-0.014654</td>\n",
              "    </tr>\n",
              "    <tr>\n",
              "      <th id=\"T_44634_level0_row7\" class=\"row_heading level0 row7\" >sugars</th>\n",
              "      <td id=\"T_44634_row7_col0\" class=\"data row7 col0\" >0.155856</td>\n",
              "      <td id=\"T_44634_row7_col1\" class=\"data row7 col1\" >0.061974</td>\n",
              "      <td id=\"T_44634_row7_col2\" class=\"data row7 col2\" >0.012664</td>\n",
              "      <td id=\"T_44634_row7_col3\" class=\"data row7 col3\" >0.330476</td>\n",
              "      <td id=\"T_44634_row7_col4\" class=\"data row7 col4\" >-0.001881</td>\n",
              "      <td id=\"T_44634_row7_col5\" class=\"data row7 col5\" >0.140358</td>\n",
              "      <td id=\"T_44634_row7_col6\" class=\"data row7 col6\" >0.619447</td>\n",
              "      <td id=\"T_44634_row7_col7\" class=\"data row7 col7\" >1.000000</td>\n",
              "      <td id=\"T_44634_row7_col8\" class=\"data row7 col8\" >-0.014625</td>\n",
              "      <td id=\"T_44634_row7_col9\" class=\"data row7 col9\" >-0.252968</td>\n",
              "      <td id=\"T_44634_row7_col10\" class=\"data row7 col10\" >-0.027699</td>\n",
              "      <td id=\"T_44634_row7_col11\" class=\"data row7 col11\" >-0.027699</td>\n",
              "    </tr>\n",
              "    <tr>\n",
              "      <th id=\"T_44634_level0_row8\" class=\"row_heading level0 row8\" >fiber</th>\n",
              "      <td id=\"T_44634_row8_col0\" class=\"data row8 col0\" >-0.110501</td>\n",
              "      <td id=\"T_44634_row8_col1\" class=\"data row8 col1\" >0.003197</td>\n",
              "      <td id=\"T_44634_row8_col2\" class=\"data row8 col2\" >-0.028205</td>\n",
              "      <td id=\"T_44634_row8_col3\" class=\"data row8 col3\" >0.212487</td>\n",
              "      <td id=\"T_44634_row8_col4\" class=\"data row8 col4\" >0.109145</td>\n",
              "      <td id=\"T_44634_row8_col5\" class=\"data row8 col5\" >0.010702</td>\n",
              "      <td id=\"T_44634_row8_col6\" class=\"data row8 col6\" >0.185316</td>\n",
              "      <td id=\"T_44634_row8_col7\" class=\"data row8 col7\" >-0.014625</td>\n",
              "      <td id=\"T_44634_row8_col8\" class=\"data row8 col8\" >1.000000</td>\n",
              "      <td id=\"T_44634_row8_col9\" class=\"data row8 col9\" >0.177822</td>\n",
              "      <td id=\"T_44634_row8_col10\" class=\"data row8 col10\" >-0.003291</td>\n",
              "      <td id=\"T_44634_row8_col11\" class=\"data row8 col11\" >-0.003291</td>\n",
              "    </tr>\n",
              "    <tr>\n",
              "      <th id=\"T_44634_level0_row9\" class=\"row_heading level0 row9\" >protein</th>\n",
              "      <td id=\"T_44634_row9_col0\" class=\"data row9 col0\" >-0.102294</td>\n",
              "      <td id=\"T_44634_row9_col1\" class=\"data row9 col1\" >-0.015889</td>\n",
              "      <td id=\"T_44634_row9_col2\" class=\"data row9 col2\" >-0.048269</td>\n",
              "      <td id=\"T_44634_row9_col3\" class=\"data row9 col3\" >0.307014</td>\n",
              "      <td id=\"T_44634_row9_col4\" class=\"data row9 col4\" >0.267144</td>\n",
              "      <td id=\"T_44634_row9_col5\" class=\"data row9 col5\" >0.178800</td>\n",
              "      <td id=\"T_44634_row9_col6\" class=\"data row9 col6\" >-0.100950</td>\n",
              "      <td id=\"T_44634_row9_col7\" class=\"data row9 col7\" >-0.252968</td>\n",
              "      <td id=\"T_44634_row9_col8\" class=\"data row9 col8\" >0.177822</td>\n",
              "      <td id=\"T_44634_row9_col9\" class=\"data row9 col9\" >1.000000</td>\n",
              "      <td id=\"T_44634_row9_col10\" class=\"data row9 col10\" >0.013052</td>\n",
              "      <td id=\"T_44634_row9_col11\" class=\"data row9 col11\" >0.013052</td>\n",
              "    </tr>\n",
              "    <tr>\n",
              "      <th id=\"T_44634_level0_row10\" class=\"row_heading level0 row10\" >salt</th>\n",
              "      <td id=\"T_44634_row10_col0\" class=\"data row10 col0\" >0.002580</td>\n",
              "      <td id=\"T_44634_row10_col1\" class=\"data row10 col1\" >-0.002056</td>\n",
              "      <td id=\"T_44634_row10_col2\" class=\"data row10 col2\" >-0.003513</td>\n",
              "      <td id=\"T_44634_row10_col3\" class=\"data row10 col3\" >-0.009974</td>\n",
              "      <td id=\"T_44634_row10_col4\" class=\"data row10 col4\" >-0.005800</td>\n",
              "      <td id=\"T_44634_row10_col5\" class=\"data row10 col5\" >-0.008931</td>\n",
              "      <td id=\"T_44634_row10_col6\" class=\"data row10 col6\" >-0.014654</td>\n",
              "      <td id=\"T_44634_row10_col7\" class=\"data row10 col7\" >-0.027699</td>\n",
              "      <td id=\"T_44634_row10_col8\" class=\"data row10 col8\" >-0.003291</td>\n",
              "      <td id=\"T_44634_row10_col9\" class=\"data row10 col9\" >0.013052</td>\n",
              "      <td id=\"T_44634_row10_col10\" class=\"data row10 col10\" >1.000000</td>\n",
              "      <td id=\"T_44634_row10_col11\" class=\"data row10 col11\" >1.000000</td>\n",
              "    </tr>\n",
              "    <tr>\n",
              "      <th id=\"T_44634_level0_row11\" class=\"row_heading level0 row11\" >sodium</th>\n",
              "      <td id=\"T_44634_row11_col0\" class=\"data row11 col0\" >0.002580</td>\n",
              "      <td id=\"T_44634_row11_col1\" class=\"data row11 col1\" >-0.002056</td>\n",
              "      <td id=\"T_44634_row11_col2\" class=\"data row11 col2\" >-0.003513</td>\n",
              "      <td id=\"T_44634_row11_col3\" class=\"data row11 col3\" >-0.009974</td>\n",
              "      <td id=\"T_44634_row11_col4\" class=\"data row11 col4\" >-0.005800</td>\n",
              "      <td id=\"T_44634_row11_col5\" class=\"data row11 col5\" >-0.008931</td>\n",
              "      <td id=\"T_44634_row11_col6\" class=\"data row11 col6\" >-0.014654</td>\n",
              "      <td id=\"T_44634_row11_col7\" class=\"data row11 col7\" >-0.027699</td>\n",
              "      <td id=\"T_44634_row11_col8\" class=\"data row11 col8\" >-0.003291</td>\n",
              "      <td id=\"T_44634_row11_col9\" class=\"data row11 col9\" >0.013052</td>\n",
              "      <td id=\"T_44634_row11_col10\" class=\"data row11 col10\" >1.000000</td>\n",
              "      <td id=\"T_44634_row11_col11\" class=\"data row11 col11\" >1.000000</td>\n",
              "    </tr>\n",
              "  </tbody>\n",
              "</table>\n"
            ]
          },
          "metadata": {},
          "execution_count": 36
        }
      ]
    },
    {
      "cell_type": "markdown",
      "source": [
        "Through this heat map we are able to see that there are several features that are highly correlated with each other. For example, sodium and salt are nearly identical, and fat and energy are highly correlated. As a result, we will be removing them from the features used."
      ],
      "metadata": {
        "id": "joK5uWMnwr7G"
      }
    },
    {
      "cell_type": "code",
      "source": [
        "#dropped features with high correlations\n",
        "features = features.drop(columns = ['sodium', 'ingredients_from_palm_oil_n', 'energy'])\n",
        "\n",
        "#store the classification target variable\n",
        "nutrition_score = df_open_food_ml['health_score']\n",
        "\n",
        "#store the regression target variable \n",
        "nutrition_regression = df_open_food_ml['nutrition-score-fr_100g']"
      ],
      "metadata": {
        "id": "p3oN-pwqw7-7"
      },
      "execution_count": null,
      "outputs": []
    },
    {
      "cell_type": "markdown",
      "source": [
        "## Splitting into Training and Test Set For Regression"
      ],
      "metadata": {
        "id": "6sYBKuWGK8qi"
      }
    },
    {
      "cell_type": "code",
      "source": [
        "#Assign appropriate value to seed and conduct 80/20 train-test split with random_state = seed \n",
        "seed = 42\n",
        "X = features\n",
        "y = nutrition_regression\n",
        "\n",
        "x_train, x_test, y_train, y_test = train_test_split(X, y, shuffle=True,\n",
        "                                   test_size=0.20, random_state=seed)"
      ],
      "metadata": {
        "id": "GVWasYxKLI4o"
      },
      "execution_count": null,
      "outputs": []
    },
    {
      "cell_type": "markdown",
      "source": [
        "## **4.1** Regression Models to Predict Nutrition Scores"
      ],
      "metadata": {
        "id": "bc0QQa-KLRkj"
      }
    },
    {
      "cell_type": "markdown",
      "source": [
        "In this section we are going to use several models to regress on our nutrition score (nutrition-score-fr_100g) to see which model is the most effective."
      ],
      "metadata": {
        "id": "_6SFBJumm9Wy"
      }
    },
    {
      "cell_type": "markdown",
      "source": [
        "### Unregularized OLS Regression"
      ],
      "metadata": {
        "id": "XJYh7PeQLuZc"
      }
    },
    {
      "cell_type": "markdown",
      "source": [
        "Firstly, we are going to create a linear regression without regularization to see how well we are able to predict a health score based on a simple OLS without regularization.  \n",
        "\n",
        "This is a good baseline to check for weights of features, scores, and mean squared error."
      ],
      "metadata": {
        "id": "PzaTI11sXYWg"
      }
    },
    {
      "cell_type": "code",
      "source": [
        "# initialize the model and fit it on the training set\n",
        "reg = LinearRegression()\n",
        "reg.fit(x_train, y_train)\n",
        "\n",
        "# predict on the test set \n",
        "y_pred = reg.predict(x_test)\n",
        "\n",
        "# calculate the R-squared score\n",
        "score = reg.score(x_train, y_train)\n",
        "test_score = reg.score(x_test, y_test)\n",
        "print(\"R^2 score for TRAIN: \" + str(score))\n",
        "print(\"R^2 score for TEST: \" + str(test_score))\n",
        "\n",
        "# calculate the MSE\n",
        "print(\"MSE for TEST: \" + str(mean_squared_error(y_pred, y_test)))\n",
        "\n",
        "# estimated coefficients\n",
        "print(\"Coefficients determined: \" + str(reg.coef_))"
      ],
      "metadata": {
        "colab": {
          "base_uri": "https://localhost:8080/"
        },
        "id": "s3nfDi8ZL2xT",
        "outputId": "404f0c2b-fc51-4e4b-f96b-0468f69a7328"
      },
      "execution_count": null,
      "outputs": [
        {
          "output_type": "stream",
          "name": "stdout",
          "text": [
            "R^2 score for TRAIN: 0.6649442567890541\n",
            "R^2 score for TEST: 0.6742535216195189\n",
            "MSE for TEST: 26.44689636308995\n",
            "Coefficients determined: [ 0.50719621 -0.61790369  0.18149993  0.4489247   0.01402693  0.19159877\n",
            " -0.21162959  0.10941375  0.03342987]\n"
          ]
        }
      ]
    },
    {
      "cell_type": "markdown",
      "source": [
        "The $R^2$ scores are decent, and the MSE is quite low. This means we are off by avout 5, on average. The coefficients are alsot mostly significant, and sending them to zero is not desired. So we predict using Ridge will do better than Lasso"
      ],
      "metadata": {
        "id": "hbtRRIN0CS_U"
      }
    },
    {
      "cell_type": "markdown",
      "source": [
        "### Ridge Regression"
      ],
      "metadata": {
        "id": "2PcQeFCnNef_"
      }
    },
    {
      "cell_type": "markdown",
      "source": [
        "We use the `RidgeCV` class in to perform $L_2$ Regularized Linear Regression. We initialize a Ridge regression model named `reg_ridge`, with alpha set to 10.0 through cross validation.\n",
        "\n",
        "We saved our $R^2$ score as a variable called `ridge_score`."
      ],
      "metadata": {
        "id": "atplt0jBWasx"
      }
    },
    {
      "cell_type": "code",
      "source": [
        "# initialize the Ridge model and fit it on the training set using cross-validation\n",
        "reg_ridge = RidgeCV()\n",
        "reg_ridge.fit(x_train, y_train)\n",
        "\n",
        "# predict on the test set \n",
        "y_pred = reg_ridge.predict(x_test)\n",
        "\n",
        "# calculate the R-squared score\n",
        "ridge_score = reg_ridge.score(x_train, y_train)\n",
        "ridge_test_score = reg_ridge.score(x_test, y_test)\n",
        "print(\"R^2 score for TRAIN: \" + str(ridge_score))\n",
        "print(\"R^2 score for TEST: \" + str(ridge_test_score))\n",
        "\n",
        "# calculate the MSE\n",
        "print(\"MSE for TEST: \" + str(mean_squared_error(y_pred, y_test)))\n",
        "\n",
        "# estimated coefficients\n",
        "print(\"Coefficients determined: \" + str(reg_ridge.coef_))\n",
        "print(\"Alpha determined: \" + str(reg_ridge.alpha_))"
      ],
      "metadata": {
        "id": "MHMcQ1ZQNgZi",
        "colab": {
          "base_uri": "https://localhost:8080/"
        },
        "outputId": "d5772878-79ed-47e3-974d-9fc357171290"
      },
      "execution_count": null,
      "outputs": [
        {
          "output_type": "stream",
          "name": "stdout",
          "text": [
            "R^2 score for TRAIN: 0.6649442564594649\n",
            "R^2 score for TEST: 0.6742538378393168\n",
            "MSE for TEST: 26.446870689651323\n",
            "Coefficients determined: [ 0.50717065 -0.61726094  0.18149987  0.44892287  0.014027    0.19159926\n",
            " -0.21162976  0.10941451  0.03342991]\n",
            "Alpha determined: 10.0\n"
          ]
        }
      ]
    },
    {
      "cell_type": "markdown",
      "source": [
        "Overall: Similar (but not equal!) performance. Also, note the similar $R^2$ scores between train and test in both cases, which is evidence that there is no significant under/overfitting"
      ],
      "metadata": {
        "id": "Jq9wQyEYDQAl"
      }
    },
    {
      "cell_type": "markdown",
      "source": [
        "### Lasso Regression "
      ],
      "metadata": {
        "id": "6DPPYNdrNg9-"
      }
    },
    {
      "cell_type": "markdown",
      "source": [
        "We use the `LassoCV` class in to perform $L_1$ Regularized Linear Regression. We initialize a Ridge regression model named `reg_lassocv`. Through cross validation, our alpha was automatically set to approx. 4.22.\n",
        "\n",
        "We saved our $R^2$ score as a variable called `lassocv_score`."
      ],
      "metadata": {
        "id": "-2rKQlSzW6hI"
      }
    },
    {
      "cell_type": "code",
      "source": [
        "# initialize the model with alpha = 5 and fit it on the training set\n",
        "reg_lassocv = LassoCV()\n",
        "reg_lassocv.fit(x_train, y_train)\n",
        "\n",
        "# predict on the test set \n",
        "y_pred = reg_lassocv.predict(x_test)\n",
        "\n",
        "# calculate the R-squared score\n",
        "lassocv_score = reg_lassocv.score(x_train, y_train)\n",
        "lassocv_test_score = reg_lassocv.score(x_test, y_test)\n",
        "print(\"R^2 score for TRAIN: \" + str(lassocv_score))\n",
        "print(\"R^2 score for TEST: \" + str(lassocv_test_score))\n",
        "\n",
        "# calculate the MSE\n",
        "print(\"MSE for TEST: \" + str(mean_squared_error(y_pred, y_test)))\n",
        "\n",
        "# estimated coefficients\n",
        "print(\"Coefficients determined: \" + str(reg_lassocv.coef_))\n",
        "print(\"Alpha determined: \" + str(reg_lassocv.alpha_))"
      ],
      "metadata": {
        "colab": {
          "base_uri": "https://localhost:8080/"
        },
        "id": "uvBPoHuklyqe",
        "outputId": "81a666fa-c53e-4e36-f447-fae41af24ead"
      },
      "execution_count": null,
      "outputs": [
        {
          "output_type": "stream",
          "name": "stdout",
          "text": [
            "R^2 score for TRAIN: 0.6645896458295648\n",
            "R^2 score for TEST: 0.6738916872104344\n",
            "MSE for TEST: 26.47627318756166\n",
            "Coefficients determined: [ 0.46618103 -0.          0.1815399   0.44525475  0.01399487  0.19196677\n",
            " -0.20870086  0.10736205  0.03286744]\n",
            "Alpha determined: 0.13790237376277725\n"
          ]
        }
      ]
    },
    {
      "cell_type": "markdown",
      "source": [
        "Based off the results of the $R^2$ score of the unregularized, Ridge, and Lasso models, we see that there is little difference overall, but the Lasso seems to do marginally worse than OLS.  \n",
        "\n",
        "Notice that Ridge is supposed to add a penalty to features with large weights (or coefficients) in an attempt to reduce overfitting. Lasso is supposed to push features that are insignificant to 0 in an attempt to reduce overfitting.  \n",
        "\n",
        "Lasso is best when there are a few features that contribute a lot to the model. If we continued to push `alpha` bigger, we would see accuracy of Ridge and Lasso decrease as we are essentially reaching an intercept model, which obviously is less accurate than an unregularized linear model. \n",
        "\n",
        "In terms of looking at the bias-variance tradeoff, we also did not note any significant underfitting or overfitting in our analysis, as the training and test scores for the above regression models were very similar. The model also was quite stable when trying different versions (OLS, L1, L2), also showing a proper fit of the model. An MSE of around 26 (RMSE of around 5.14) is also quite solid for our model."
      ],
      "metadata": {
        "id": "F5Tlfq98iOJq"
      }
    },
    {
      "cell_type": "markdown",
      "source": [
        "### PCA on Regression Models"
      ],
      "metadata": {
        "id": "Sf0PE9C4eEr3"
      }
    },
    {
      "cell_type": "markdown",
      "source": [
        "We can try PCA on our linear regression model to see if only picking out prominent features will help our $R^2$ score. However, since PCA is much like Lasso in the sense that some features are \"removed\", we would expect PCA to do worse than the unregularized linear model, because it seems that the features all slightly contribute to the model. However, we can still run PCA on our regression features as a double check!   \n",
        "\n",
        "This is also a way to remove some residual multicollinearity we had in the data"
      ],
      "metadata": {
        "id": "Z-yt8IQPjoRf"
      }
    },
    {
      "cell_type": "markdown",
      "source": [
        "PCA is not scale-invariant so we need to first standardize the data in order to help us to choose the right number of Principal Components. We also save the explained variance ratios and cumulative explained variance ratios to use for our plot later. "
      ],
      "metadata": {
        "id": "Ny0zqLFvlFnB"
      }
    },
    {
      "cell_type": "code",
      "source": [
        "# Standardizing the features between 0 and 1\n",
        "# create a Scaler object and fit it to your training data\n",
        "scaler = StandardScaler().fit(x_train)\n",
        "x_train_1 = scaler.transform(x_train)\n",
        "\n",
        "#Instantiate and Fit PCA\n",
        "pca = PCA(n_components=9)\n",
        "x_1 = pca.fit_transform(x_train_1)\n",
        "\n",
        "#Save the explained variance ratios\n",
        "explained_variance_ratios = pca.explained_variance_ratio_\n",
        "\n",
        "#Save the CUMULATIVE explained variance ratios\n",
        "cum_evr = np.cumsum(explained_variance_ratios)"
      ],
      "metadata": {
        "id": "xhjOshrRhiff"
      },
      "execution_count": null,
      "outputs": []
    },
    {
      "cell_type": "markdown",
      "source": [
        "Now that we've done our preliminary step, let's plot the explained variance ratio to see how many Principal Components we should pick. We're shooting for 85% of our variance to be explained by the number of Principal Components we pick, since this is the value we used in this course."
      ],
      "metadata": {
        "id": "zaeRjTw0lnRl"
      }
    },
    {
      "cell_type": "code",
      "source": [
        "# Plot\n",
        "plt.figure(figsize =(16,10))\n",
        "fig, ax = plt.subplots()\n",
        "plot = sns.lineplot(x=range(1,(len(cum_evr)+1)), y=cum_evr, ax = ax)\n",
        "ax.set_xlim(1,10)\n",
        "ax.set_xticks(range(1, 10))\n",
        "plot.axhline(0.85, color = \"green\")\n",
        "\n",
        "# Set label for x-axis\n",
        "plt.xlabel( \"Number of Components\" , size = 10 )\n",
        "  \n",
        "# Set label for y-axis\n",
        "plt.ylabel( \"Cumulative Explained Variance Ratio\" , size = 10 )\n",
        "  \n",
        "# Set title for figure\n",
        "plt.title( \"Cumulative Explained Variance Ratio vs. Number of Components\" , size = 10 )\n",
        "\n",
        "plt.show()"
      ],
      "metadata": {
        "colab": {
          "base_uri": "https://localhost:8080/",
          "height": 310
        },
        "id": "BLOvj2CmeM_g",
        "outputId": "92d2e92e-abf0-404a-f58e-8629be193324"
      },
      "execution_count": null,
      "outputs": [
        {
          "output_type": "display_data",
          "data": {
            "text/plain": [
              "<Figure size 1152x720 with 0 Axes>"
            ]
          },
          "metadata": {}
        },
        {
          "output_type": "display_data",
          "data": {
            "text/plain": [
              "<Figure size 432x288 with 1 Axes>"
            ],
            "image/png": "[encoded data removed]"
          },
          "metadata": {
            "needs_background": "light"
          }
        }
      ]
    },
    {
      "cell_type": "markdown",
      "source": [
        "It seems that ~6 is the number of components that explains 85% of the variance. We'll go with 6 in this example. Let's transform our regression features to reflect this."
      ],
      "metadata": {
        "id": "JOeL_L4emXKj"
      }
    },
    {
      "cell_type": "code",
      "source": [
        "#Refit and transform on training with parameter n = 6\n",
        "pca = PCA(n_components=6)\n",
        "x_2 = pca.fit_transform(x_train_1)\n",
        "\n",
        "#Transform on Testing Set\n",
        "x_test_1 = scaler.transform(x_test)\n",
        "x_test_pca = pca.transform(x_test_1)"
      ],
      "metadata": {
        "id": "LGOKhs6Xhzub"
      },
      "execution_count": null,
      "outputs": []
    },
    {
      "cell_type": "markdown",
      "source": [
        "Finding the $R^2$ score of the linear regression after PCA is run. If what we predicted is correct, the $R^2$ score should be lower than the linear regression without PCA."
      ],
      "metadata": {
        "id": "0UhXhoHTmoCq"
      }
    },
    {
      "cell_type": "code",
      "source": [
        "#Initialize model with default parameters and fit it on the training set\n",
        "pca_linear_reg = LinearRegression()\n",
        "pca_linear_reg.fit(x_2, y_train)\n",
        "\n",
        "#predict on test set\n",
        "y_pred = pca_linear_reg.predict(x_test_pca)\n",
        "\n",
        "#finding r-squared\n",
        "pca_score = pca_linear_reg.score(x_2, y_train)\n",
        "print(pca_score)\n",
        "\n",
        "pca_test_score = pca_linear_reg.score(x_test_pca, y_test)\n",
        "print(pca_test_score)"
      ],
      "metadata": {
        "colab": {
          "base_uri": "https://localhost:8080/"
        },
        "id": "oJhWjetGhog5",
        "outputId": "46beb068-f0c0-4a1c-8304-f5d9a49c4bd6"
      },
      "execution_count": null,
      "outputs": [
        {
          "output_type": "stream",
          "name": "stdout",
          "text": [
            "0.6526377142942905\n",
            "0.6652102204578528\n"
          ]
        }
      ]
    },
    {
      "cell_type": "markdown",
      "source": [
        "As expected, running PCA on our linear regression model actually seems to yield a similar effect to the Lasso model, and actually slightly lowers the $R^2$ score as well. In the heat map presented earlier in the project, we notice how there are several features that seem to be highly correlated and we would expect PCA to remove those correlated features and only keep features that explain a majority of the variance. "
      ],
      "metadata": {
        "id": "n2woDwbYnKxV"
      }
    },
    {
      "cell_type": "markdown",
      "source": [
        "## Neural Network"
      ],
      "metadata": {
        "id": "XflSrvwJEbBn"
      }
    },
    {
      "cell_type": "markdown",
      "source": [
        "We also created a simple sklearn Neural Network model to predict the healthiness of food products. The complexity of the model dramatically increased the number of parameters learned, and the introduction of hidden relu activation layers introduced nonlinearity to the model, leading to a higher $R^2$ score. Since there is no inherent reason for nutrition to be linear, this also aims to capture a potential non-linear trend. "
      ],
      "metadata": {
        "id": "o1nD4RHNYKio"
      }
    },
    {
      "cell_type": "code",
      "source": [
        "#sklearn implementation\n",
        "from sklearn.neural_network import MLPRegressor\n",
        "num_hidden1 = 8\n",
        "num_hidden2 = 6\n",
        "neural_net = MLPRegressor(hidden_layer_sizes = (num_hidden1, num_hidden2), \n",
        "                          activation = 'relu', solver='adam')\n",
        "neural_net.fit(x_train, y_train)\n",
        "predictions = neural_net.predict(x_test)\n"
      ],
      "metadata": {
        "id": "GwhEfmXPbLEK"
      },
      "execution_count": null,
      "outputs": []
    },
    {
      "cell_type": "code",
      "source": [
        "#evaluating neural network model\n",
        "nn_train_score = neural_net.score(x_train, y_train)\n",
        "nn_test_score = neural_net.score(x_test, y_test)\n",
        "\n",
        "# Score calculations\n",
        "print(\"R^2 score for TRAIN: \" + str(nn_train_score))\n",
        "print(\"R^2 score for TEST: \" + str(nn_test_score))\n",
        "\n",
        "# calculate the MSE\n",
        "print(\"MSE for TEST: \" + str(mean_squared_error(y_pred, y_test)))"
      ],
      "metadata": {
        "colab": {
          "base_uri": "https://localhost:8080/"
        },
        "id": "5oNrUT_DioH2",
        "outputId": "b708622b-0d28-4e6a-a901-e6593fde2cde"
      },
      "execution_count": null,
      "outputs": [
        {
          "output_type": "stream",
          "name": "stdout",
          "text": [
            "R^2 score for TRAIN: 0.9601482783698304\n",
            "R^2 score for TEST: 0.9592074146248808\n",
            "MSE for TEST: 27.181109207974313\n"
          ]
        }
      ]
    },
    {
      "cell_type": "markdown",
      "source": [
        "Interestingly enough, we get quite high $R^2$ values, indicating that we can capture a vast majority of the variance in $y$ with our input data. This makes sense given the increased complexity and potential non-linear interactions. However, the MSE is actually slightly higher for the test data! This means that although we capture the trend better, we are likely to be more off (on average!) using the neural network than regression"
      ],
      "metadata": {
        "id": "vJwP7Fg5E-VN"
      }
    },
    {
      "cell_type": "markdown",
      "source": [
        "## **4.2** Using macronutrients to Predict Healthiness"
      ],
      "metadata": {
        "id": "w9YRB9PlNR_t"
      }
    },
    {
      "cell_type": "markdown",
      "source": [
        "### Creating features and test/train split"
      ],
      "metadata": {
        "id": "aSupF7LgLKCq"
      }
    },
    {
      "cell_type": "markdown",
      "source": [
        "For this portion, our only features will be macronutrients, since these are more readily available for unknwon foods and are common ways to measure how \"good\" a food is. "
      ],
      "metadata": {
        "id": "uLhu4aQ6FZz0"
      }
    },
    {
      "cell_type": "code",
      "source": [
        "#Select the necessary features and print the shape\n",
        "X_macro = features[[\"carbohydrates\", \"fat\", \"protein\"]]\n",
        "print(X_macro.shape)\n",
        "print(nutrition_score.shape)"
      ],
      "metadata": {
        "colab": {
          "base_uri": "https://localhost:8080/"
        },
        "id": "27wZSgs5HXm9",
        "outputId": "c157d321-ba03-4342-b11e-d08d1784e3e4"
      },
      "execution_count": null,
      "outputs": [
        {
          "output_type": "stream",
          "name": "stdout",
          "text": [
            "(190770, 3)\n",
            "(190770,)\n"
          ]
        }
      ]
    },
    {
      "cell_type": "markdown",
      "source": [
        "Create a standard test-train split using an 80/20 split"
      ],
      "metadata": {
        "id": "LNj3-pjIFk_D"
      }
    },
    {
      "cell_type": "code",
      "source": [
        "#Assign appropriate value to seed and conduct 80/20 train-test split with random_state = seed\n",
        "seed = 42\n",
        "y_macro = nutrition_score\n",
        "\n",
        "X_train_macro, X_test_macro, y_train_macro, y_test_macro = train_test_split(X_macro, y_macro, shuffle=True,\n",
        "                                   test_size=0.20, random_state=seed)"
      ],
      "metadata": {
        "id": "xzj8uOBZLJI7"
      },
      "execution_count": null,
      "outputs": []
    },
    {
      "cell_type": "markdown",
      "source": [
        "### Classification Models: Logistic Regression"
      ],
      "metadata": {
        "id": "_-1OKjG_MC2E"
      }
    },
    {
      "cell_type": "markdown",
      "source": [
        "As a baseline, let's run a standard logistic regression on the data (without any regularization) to see the accuracies we can get.   \n",
        "\n",
        "Note that there is inherently no class imbalance here because we feature engineered our y-variable to be postive/negative based on comparing it to the median, meaning we have a 50/50 split. Therefore, using accuracies is valid."
      ],
      "metadata": {
        "id": "vBclRj7JF1pw"
      }
    },
    {
      "cell_type": "code",
      "source": [
        "# Initialize model with default parameters and fit it on the training set\n",
        "log_reg = LogisticRegression()\n",
        "log_reg.fit(X_train_macro, y_train_macro)\n",
        "\n",
        "# Use the model to predict on the test set and save these predictions as `y_pred`\n",
        "y_pred = log_reg.predict(X_test_macro)\n",
        "\n",
        "# Find the accuracy and store the value in `log_acc`\n",
        "log_acc = accuracy_score(y_pred, y_test_macro)\n",
        "print(\"Training accuracy: \" + str(log_reg.score(X_train_macro, y_train_macro)))\n",
        "print(\"Testing accuracy: \" + str(log_reg.score(X_test_macro, y_test_macro)))\n"
      ],
      "metadata": {
        "colab": {
          "base_uri": "https://localhost:8080/"
        },
        "id": "bAlBbRTeMIUm",
        "outputId": "a133faa5-934f-4ffd-9c72-3e3f6f90203b"
      },
      "execution_count": null,
      "outputs": [
        {
          "output_type": "stream",
          "name": "stdout",
          "text": [
            "Training accuracy: 0.8118807988677466\n",
            "Testing accuracy: 0.8124443046600619\n"
          ]
        }
      ]
    },
    {
      "cell_type": "markdown",
      "source": [
        "This is pretty good! Also note the similar scores between train/test.     \n",
        "\n",
        "We can also look our confusion matrix and calculate the $F1$ score to ensure there is no weird behavior between classes\n"
      ],
      "metadata": {
        "id": "0GSj5fpYGuqc"
      }
    },
    {
      "cell_type": "code",
      "source": [
        "from sklearn.metrics import confusion_matrix\n",
        "from sklearn.metrics import f1_score\n",
        "\n",
        "# evaluation of Logistic Model\n",
        "print(confusion_matrix(y_test_macro, y_pred))\n",
        "print(f1_score(y_test_macro, y_pred, pos_label = 'healthy'))"
      ],
      "metadata": {
        "colab": {
          "base_uri": "https://localhost:8080/"
        },
        "id": "ueXR3_B30Tqc",
        "outputId": "0395829c-80a0-453d-af88-576a6ab30268"
      },
      "execution_count": null,
      "outputs": [
        {
          "output_type": "stream",
          "name": "stdout",
          "text": [
            "[[15777  3919]\n",
            " [ 3237 15221]]\n",
            "0.8151382071816068\n"
          ]
        }
      ]
    },
    {
      "cell_type": "markdown",
      "source": [
        "As expected, both classes behave the same and there are similar amounts of false negatives and false positives. The $F1$ score is satisfactory."
      ],
      "metadata": {
        "id": "F7gXAAvVG4nw"
      }
    },
    {
      "cell_type": "markdown",
      "source": [
        "### Correlation analysis and PCA if needed"
      ],
      "metadata": {
        "id": "gRESVOa2Nmuy"
      }
    },
    {
      "cell_type": "markdown",
      "source": [
        "As we move into regularized models and regression, we want to remove correlated features. In EDA and 4.1, we saw correlations between these 3 entities, so we want to remove them via PCA to remove any multicollinearity that will hurt future models."
      ],
      "metadata": {
        "id": "mToEJ5HIG_Lg"
      }
    },
    {
      "cell_type": "code",
      "source": [
        "X_macro.corr() \n",
        "\n"
      ],
      "metadata": {
        "colab": {
          "base_uri": "https://localhost:8080/",
          "height": 143
        },
        "id": "YYKfg7HFNq_b",
        "outputId": "1bfbe989-2e8a-443d-d696-1b60b56eeede"
      },
      "execution_count": null,
      "outputs": [
        {
          "output_type": "execute_result",
          "data": {
            "text/plain": [
              "               carbohydrates       fat   protein\n",
              "carbohydrates       1.000000 -0.049427 -0.100950\n",
              "fat                -0.049427  1.000000  0.267144\n",
              "protein            -0.100950  0.267144  1.000000"
            ],
            "text/html": [
              "\n",
              "  <div id=\"df-a3dd63fb-104d-4bc9-b74d-2fcc3d87f490\">\n",
              "    <div class=\"colab-df-container\">\n",
              "      <div>\n",
              "<style scoped>\n",
              "    .dataframe tbody tr th:only-of-type {\n",
              "        vertical-align: middle;\n",
              "    }\n",
              "\n",
              "    .dataframe tbody tr th {\n",
              "        vertical-align: top;\n",
              "    }\n",
              "\n",
              "    .dataframe thead th {\n",
              "        text-align: right;\n",
              "    }\n",
              "</style>\n",
              "<table border=\"1\" class=\"dataframe\">\n",
              "  <thead>\n",
              "    <tr style=\"text-align: right;\">\n",
              "      <th></th>\n",
              "      <th>carbohydrates</th>\n",
              "      <th>fat</th>\n",
              "      <th>protein</th>\n",
              "    </tr>\n",
              "  </thead>\n",
              "  <tbody>\n",
              "    <tr>\n",
              "      <th>carbohydrates</th>\n",
              "      <td>1.000000</td>\n",
              "      <td>-0.049427</td>\n",
              "      <td>-0.100950</td>\n",
              "    </tr>\n",
              "    <tr>\n",
              "      <th>fat</th>\n",
              "      <td>-0.049427</td>\n",
              "      <td>1.000000</td>\n",
              "      <td>0.267144</td>\n",
              "    </tr>\n",
              "    <tr>\n",
              "      <th>protein</th>\n",
              "      <td>-0.100950</td>\n",
              "      <td>0.267144</td>\n",
              "      <td>1.000000</td>\n",
              "    </tr>\n",
              "  </tbody>\n",
              "</table>\n",
              "</div>\n",
              "      <button class=\"colab-df-convert\" onclick=\"convertToInteractive('df-a3dd63fb-104d-4bc9-b74d-2fcc3d87f490')\"\n",
              "              title=\"Convert this dataframe to an interactive table.\"\n",
              "              style=\"display:none;\">\n",
              "        \n",
              "  <svg xmlns=\"http://www.w3.org/2000/svg\" height=\"24px\"viewBox=\"0 0 24 24\"\n",
              "       width=\"24px\">\n",
              "    <path d=\"M0 0h24v24H0V0z\" fill=\"none\"/>\n",
              "    <path d=\"M18.56 5.44l.94 2.06.94-2.06 2.06-.94-2.06-.94-.94-2.06-.94 2.06-2.06.94zm-11 1L8.5 8.5l.94-2.06 2.06-.94-2.06-.94L8.5 2.5l-.94 2.06-2.06.94zm10 10l.94 2.06.94-2.06 2.06-.94-2.06-.94-.94-2.06-.94 2.06-2.06.94z\"/><path d=\"M17.41 7.96l-1.37-1.37c-.4-.4-.92-.59-1.43-.59-.52 0-1.04.2-1.43.59L10.3 9.45l-7.72 7.72c-.78.78-.78 2.05 0 2.83L4 21.41c.39.39.9.59 1.41.59.51 0 1.02-.2 1.41-.59l7.78-7.78 2.81-2.81c.8-.78.8-2.07 0-2.86zM5.41 20L4 18.59l7.72-7.72 1.47 1.35L5.41 20z\"/>\n",
              "  </svg>\n",
              "      </button>\n",
              "      \n",
              "  <style>\n",
              "    .colab-df-container {\n",
              "      display:flex;\n",
              "      flex-wrap:wrap;\n",
              "      gap: 12px;\n",
              "    }\n",
              "\n",
              "    .colab-df-convert {\n",
              "      background-color: #E8F0FE;\n",
              "      border: none;\n",
              "      border-radius: 50%;\n",
              "      cursor: pointer;\n",
              "      display: none;\n",
              "      fill: #1967D2;\n",
              "      height: 32px;\n",
              "      padding: 0 0 0 0;\n",
              "      width: 32px;\n",
              "    }\n",
              "\n",
              "    .colab-df-convert:hover {\n",
              "      background-color: #E2EBFA;\n",
              "      box-shadow: 0px 1px 2px rgba(60, 64, 67, 0.3), 0px 1px 3px 1px rgba(60, 64, 67, 0.15);\n",
              "      fill: #174EA6;\n",
              "    }\n",
              "\n",
              "    [theme=dark] .colab-df-convert {\n",
              "      background-color: #3B4455;\n",
              "      fill: #D2E3FC;\n",
              "    }\n",
              "\n",
              "    [theme=dark] .colab-df-convert:hover {\n",
              "      background-color: #434B5C;\n",
              "      box-shadow: 0px 1px 3px 1px rgba(0, 0, 0, 0.15);\n",
              "      filter: drop-shadow(0px 1px 2px rgba(0, 0, 0, 0.3));\n",
              "      fill: #FFFFFF;\n",
              "    }\n",
              "  </style>\n",
              "\n",
              "      <script>\n",
              "        const buttonEl =\n",
              "          document.querySelector('#df-a3dd63fb-104d-4bc9-b74d-2fcc3d87f490 button.colab-df-convert');\n",
              "        buttonEl.style.display =\n",
              "          google.colab.kernel.accessAllowed ? 'block' : 'none';\n",
              "\n",
              "        async function convertToInteractive(key) {\n",
              "          const element = document.querySelector('#df-a3dd63fb-104d-4bc9-b74d-2fcc3d87f490');\n",
              "          const dataTable =\n",
              "            await google.colab.kernel.invokeFunction('convertToInteractive',\n",
              "                                                     [key], {});\n",
              "          if (!dataTable) return;\n",
              "\n",
              "          const docLinkHtml = 'Like what you see? Visit the ' +\n",
              "            '<a target=\"_blank\" href=https://colab.research.google.com/notebooks/data_table.ipynb>data table notebook</a>'\n",
              "            + ' to learn more about interactive tables.';\n",
              "          element.innerHTML = '';\n",
              "          dataTable['output_type'] = 'display_data';\n",
              "          await google.colab.output.renderOutput(dataTable, element);\n",
              "          const docLink = document.createElement('div');\n",
              "          docLink.innerHTML = docLinkHtml;\n",
              "          element.appendChild(docLink);\n",
              "        }\n",
              "      </script>\n",
              "    </div>\n",
              "  </div>\n",
              "  "
            ]
          },
          "metadata": {},
          "execution_count": 52
        }
      ]
    },
    {
      "cell_type": "markdown",
      "source": [
        "The table has several values with an absolute value > 0.1, so PCA will be good to remove multicolinearity.  \n",
        "\n",
        "Also note that as we move into regression, we need the real-valued scores and not the binarized version."
      ],
      "metadata": {
        "id": "OSbiihmJHNaI"
      }
    },
    {
      "cell_type": "code",
      "source": [
        "#Need real values (nutrition score), not binarized good/bad\n",
        "y_score = df_open_food_ml['nutrition-score-fr_100g']\n",
        "X_train_score, X_test_score, y_train_score, y_test_score = train_test_split(X_macro, y_score, shuffle=True,\n",
        "                                   test_size=0.20, random_state=seed)"
      ],
      "metadata": {
        "id": "TSDaKZdBCWkY"
      },
      "execution_count": null,
      "outputs": []
    },
    {
      "cell_type": "markdown",
      "source": [
        "We can run PCA in a similar way we have done in the past: standardizing the data, fit_transform to the training data, and doing the same to the test data.   "
      ],
      "metadata": {
        "id": "kHBeuD3SHWzL"
      }
    },
    {
      "cell_type": "code",
      "source": [
        "#PCA\n",
        "scaler = StandardScaler()\n",
        "\n",
        "scaler.fit(X_train_score)\n",
        "scaled_X_train = scaler.transform(X_train_score)\n",
        "scaled_X_test = scaler.transform(X_test_score)\n",
        "\n",
        "pca = PCA(n_components=scaled_X_train.shape[1])\n",
        "pca_X_train = pca.fit_transform(scaled_X_train)\n",
        "pca_X_test = pca.fit_transform(scaled_X_test)\n",
        "\n",
        "#Variance captured analysis \n",
        "explained_variance_ratios = pca.explained_variance_ratio_\n",
        "cum_evr = np.cumsum(explained_variance_ratios)\n",
        "print(cum_evr)\n",
        "print(pca_X_train.shape)"
      ],
      "metadata": {
        "colab": {
          "base_uri": "https://localhost:8080/"
        },
        "id": "07yqv0jeNl7x",
        "outputId": "3bdb7133-6cc8-4406-faf1-4863c06641ab"
      },
      "execution_count": null,
      "outputs": [
        {
          "output_type": "stream",
          "name": "stdout",
          "text": [
            "[0.43317333 0.7577854  1.        ]\n",
            "(152616, 3)\n"
          ]
        }
      ]
    },
    {
      "cell_type": "markdown",
      "source": [
        "Since we only have 3 features and using 2 features does not capture most of the variance (see plot below), we will use all 3 principal components. "
      ],
      "metadata": {
        "id": "2xzsn93EH50o"
      }
    },
    {
      "cell_type": "markdown",
      "source": [
        "### Regression models: Elastic Net"
      ],
      "metadata": {
        "id": "FMVBrbYEN_QJ"
      }
    },
    {
      "cell_type": "markdown",
      "source": [
        "Given the small number of input features, its not worth figuring out feature importance and resultant desired behavior (ex. pushing weights to zero via L1 or shrink via L2), so an elastic net is used for ratios ranging from 0.0 to 1.0.\n",
        "The ElasticNetCV Library allows us to cross-validate in a simple function call by specifying the number of folds to validate with (cv=5)"
      ],
      "metadata": {
        "id": "oQHspdKvfuLd"
      }
    },
    {
      "cell_type": "code",
      "source": [
        "#PCR to predict the actual score using elastic net (PCA as input)\n",
        "\n",
        "#Use different ratios of L1 (1.0) and L2 (0.0) in the elastic net\n",
        "ratios = [i/100 for i in range(1, 101)]\n",
        "\n",
        "#Use CV\n",
        "elastic = ElasticNetCV(l1_ratio=ratios, cv=5) #Valid range of alphas are automatically tested \n",
        "\n",
        "#Fit and predict\n",
        "model = elastic.fit(pca_X_train, y_train_score)\n",
        "y_pred = model.predict(pca_X_test)"
      ],
      "metadata": {
        "id": "oQbVchcOOAtN"
      },
      "execution_count": null,
      "outputs": []
    },
    {
      "cell_type": "markdown",
      "source": [
        "**Parameter and MSE analysis for elastic net**"
      ],
      "metadata": {
        "id": "gvHN3gPRC2Iu"
      }
    },
    {
      "cell_type": "code",
      "source": [
        "\n",
        "print(\"Alpha chosen: \" + str(model.alpha_))\n",
        "print(\"Coefficients: \" + str(model.coef_))\n",
        "print(\"L1 ratio chosen: \" + str(model.l1_ratio_))\n",
        "print(\"R^2 Score for TRAIN: \" + str(model.score(pca_X_train, y_train_score)))\n",
        "print(\"R^2 Score for TEST: \" + str(model.score(pca_X_test, y_test_score)))\n",
        "print(\"Test MSE: \" + str(mean_squared_error(y_pred, y_test_score)))\n",
        "print(\"Train MSE: \" + str(mean_squared_error(model.predict(pca_X_train), y_train_score)))"
      ],
      "metadata": {
        "colab": {
          "base_uri": "https://localhost:8080/"
        },
        "id": "JfKcR3_CC0mv",
        "outputId": "31ee5889-9ed4-42ed-9b34-e93f57486212"
      },
      "execution_count": null,
      "outputs": [
        {
          "output_type": "stream",
          "name": "stdout",
          "text": [
            "Alpha chosen: 0.0040486647687908925\n",
            "Coefficients: [ 2.35998276  4.18407394 -3.34148818]\n",
            "L1 ratio chosen: 1.0\n",
            "R^2 Score for TRAIN: 0.39718016935361555\n",
            "R^2 Score for TEST: 0.3994992712505223\n",
            "Test MSE: 48.753805776059764\n",
            "Train MSE: 49.174478352128375\n"
          ]
        }
      ]
    },
    {
      "cell_type": "markdown",
      "source": [
        "Overall, we see the parameters chosen are a very low alpha and a complete focus on L1 regularization. The coefficients are all significantly non-zero, but note they are for the principal components and not for the macronutrient themselves, so there is not much interpretability here. \n",
        "\n",
        "The $R^2$ values are quite low here, only about 0.4 (similar again for test and train!). The MSE is not bad at all given that we only have 3 features, but is still quite a bit higher than the ~25 we were getting in 4.1 (but again, similar between test and train indicating lack of overfit!). Let's try something more complex."
      ],
      "metadata": {
        "id": "EXsoIUoxJNta"
      }
    },
    {
      "cell_type": "markdown",
      "source": [
        "### Regression Models: Random Forests"
      ],
      "metadata": {
        "id": "yraRTGX_JG-Y"
      }
    },
    {
      "cell_type": "markdown",
      "source": [
        "While logistic regression does a decent job at deciding a valid cut-off, our performance increase from regression to neural network in 4.1 shows inherent nonlinearities within the data.   \n",
        "\n",
        "Here, we use RandomForests to regress our data to add more complexity."
      ],
      "metadata": {
        "id": "k5z_7NhjH7Ps"
      }
    },
    {
      "cell_type": "markdown",
      "source": [
        "We can use cross-validation to pick the ideal n_estimators and max_depth for random forests. **This takes ~15 minutes to run because of the loops needed for cross-validation that produces 9 iterations!**\n",
        "\n",
        "Ideally, more combinations n_estimators would be tested, but this causes too much time/computing power to run effectively."
      ],
      "metadata": {
        "id": "QJv0nKlZWRYW"
      }
    },
    {
      "cell_type": "code",
      "source": [
        "random_seed = 42\n",
        "depths = [1, 2, 3] #Only 3 features \n",
        "n_estimators = [200*i for i in range(1, 4)]\n",
        "mse = []\n",
        "import sklearn\n",
        "print(sklearn.metrics.SCORERS.keys())\n",
        "for depth in depths: \n",
        "  for n_est in n_estimators: \n",
        "    print(\"next iter\") #Keep track when the model is finished\n",
        "    rf = RandomForestRegressor(random_state=random_seed, max_depth=depth, n_estimators=n_est)\n",
        "    cv = KFold(n_splits=5).get_n_splits(pca_X_train, y_train_score)\n",
        "    scores = cross_val_score(rf, pca_X_train, y_train_score, cv=cv, scoring='neg_mean_squared_error')\n",
        "    mse.append(abs(np.mean(scores)))\n",
        "print(mse)\n",
        "print(np.argmin(mse))"
      ],
      "metadata": {
        "colab": {
          "base_uri": "https://localhost:8080/"
        },
        "id": "PK8pQZ06IHFR",
        "outputId": "23696f57-25e1-4d52-bab0-067d2d912383"
      },
      "execution_count": null,
      "outputs": [
        {
          "output_type": "stream",
          "name": "stdout",
          "text": [
            "dict_keys(['explained_variance', 'r2', 'max_error', 'neg_median_absolute_error', 'neg_mean_absolute_error', 'neg_mean_absolute_percentage_error', 'neg_mean_squared_error', 'neg_mean_squared_log_error', 'neg_root_mean_squared_error', 'neg_mean_poisson_deviance', 'neg_mean_gamma_deviance', 'accuracy', 'top_k_accuracy', 'roc_auc', 'roc_auc_ovr', 'roc_auc_ovo', 'roc_auc_ovr_weighted', 'roc_auc_ovo_weighted', 'balanced_accuracy', 'average_precision', 'neg_log_loss', 'neg_brier_score', 'adjusted_rand_score', 'rand_score', 'homogeneity_score', 'completeness_score', 'v_measure_score', 'mutual_info_score', 'adjusted_mutual_info_score', 'normalized_mutual_info_score', 'fowlkes_mallows_score', 'precision', 'precision_macro', 'precision_micro', 'precision_samples', 'precision_weighted', 'recall', 'recall_macro', 'recall_micro', 'recall_samples', 'recall_weighted', 'f1', 'f1_macro', 'f1_micro', 'f1_samples', 'f1_weighted', 'jaccard', 'jaccard_macro', 'jaccard_micro', 'jaccard_samples', 'jaccard_weighted'])\n",
            "next iter\n",
            "next iter\n",
            "next iter\n",
            "next iter\n",
            "next iter\n",
            "next iter\n",
            "next iter\n",
            "next iter\n",
            "next iter\n",
            "[60.98976875004363, 60.98888470577565, 60.98653727747588, 50.45853154033226, 50.45011561366463, 50.45011118065855, 42.55499229281547, 42.542526911786766, 42.541854363826864]\n",
            "8\n"
          ]
        }
      ]
    },
    {
      "cell_type": "markdown",
      "source": [
        "The results from running cell (if you don't have 15 minutes) are: \n",
        "\n",
        "\n",
        "```\n",
        "MSE: [59.09639375429904, 59.102198417439126, 59.10936757856681, 49.30632169462469, 49.36827237522546, 49.40105322143889, 40.79416782775635, 40.84685514089898, 40.87357334867751]\n",
        "Argmax index: 2\n",
        "Argmin index: 6\n",
        "```\n",
        "\n",
        "\n",
        "From cross-validation, we get that the idea hyperparameter set is n_est = 200, max_depth = 3. We can train this model on the whole training set and test it on the test set to get the corresponding score and mean squared error."
      ],
      "metadata": {
        "id": "QbUdzx-xWcw4"
      }
    },
    {
      "cell_type": "code",
      "source": [
        "#[59.09639375429904, 59.102198417439126, 59.10936757856681, 49.30632169462469, 49.36827237522546, 49.40105322143889, 40.79416782775635, 40.84685514089898, 40.87357334867751]\n",
        "#argmin index -> 6\n",
        "\n",
        "depth=3\n",
        "n_est=200\n",
        "random_seed = 42\n",
        "rf = RandomForestRegressor(random_state=random_seed, max_depth=depth, n_estimators=n_est)\n",
        "rf.fit(pca_X_train, y_train_score)\n",
        "y_pred = rf.predict(pca_X_test)\n"
      ],
      "metadata": {
        "id": "aI8tQUrIWqQH"
      },
      "execution_count": null,
      "outputs": []
    },
    {
      "cell_type": "markdown",
      "source": [
        "Print out metrics (without having to re-run!)"
      ],
      "metadata": {
        "id": "uD8jr9wNLogo"
      }
    },
    {
      "cell_type": "code",
      "source": [
        "print(\"R^2 Score for TRAIN: \" + str(rf.score(pca_X_train, y_train_score)))\n",
        "print(\"R^2 Score for TEST: \" + str(rf.score(pca_X_test, y_test_score)))\n",
        "print(\"Test MSE: \" + str(mean_squared_error(y_pred, y_test_score)))\n",
        "print(\"Train MSE: \" + str(mean_squared_error(rf.predict(pca_X_train), y_train_score)))"
      ],
      "metadata": {
        "colab": {
          "base_uri": "https://localhost:8080/"
        },
        "id": "fGtZN0rpLn8a",
        "outputId": "6a2e27d7-0276-47f8-b8d3-319191719e1b"
      },
      "execution_count": null,
      "outputs": [
        {
          "output_type": "stream",
          "name": "stdout",
          "text": [
            "R^2 Score for TRAIN: 0.4788927342010001\n",
            "R^2 Score for TEST: 0.4767730600160959\n",
            "Test MSE: 42.48005603906526\n",
            "Train MSE: 42.50885033707778\n"
          ]
        }
      ]
    },
    {
      "cell_type": "markdown",
      "source": [
        "These results are far better than our elastic net metrics. We obtain an $R^2$ value of nearly 0.5 (as opposed to ~0.39) and our mean-squared-error has decreased to around 42 (as opposed to ~50). \n",
        "\n",
        "Again, note similar values between train and test indicating lack of overfitting.   \n",
        "\n",
        "Overall: We are off by about 6-7 (on average) for each prediction, which is worse than our 4.1 model, but with a LOT less information. Only given macronutrient information (carbs, fat, protein), we built a pretty accurate classifier and regressor to calculate its nutrition score. "
      ],
      "metadata": {
        "id": "b2wukP7pioGl"
      }
    },
    {
      "cell_type": "markdown",
      "source": [
        "**Side note: why no NNs:(?**   \n",
        "A: Only 3 input features makes this a weak candidate for complex models like neural networks and will likely cause overfitting."
      ],
      "metadata": {
        "id": "WdrpL81NOJjt"
      }
    },
    {
      "cell_type": "markdown",
      "source": [
        "# **5** Conclusion: Summary of al analyses and findings"
      ],
      "metadata": {
        "id": "i97YPF3svAMt"
      }
    },
    {
      "cell_type": "markdown",
      "source": [
        "Through the Open Food Facts Kaggle dataset, we are able to clean, explore, analyze, and model food facts data through various lenses. After mounting the Kaggle dataset and some data cleaning, we were able to do some exploratory data analysis on the dataset. As a first step, we wanted to get an idea of which countries the majority of the food products were coming from, as this might have an influence on nutrition and which cuisines were represented -- US and France had the highest product counts. We also found the countries with healthiest foods in the dataset, based on nutrition score, with Pakistan at the top of the list. Next, we looked at the ingredients list column and broke it down. The motivation for this was to see the most common ingredients across various products in the dataset. We then ordered and found the top ingredients, some of which include salt and oil. To visualize this, we put it in a wordcloud through nltk. We then looked at the nutrients section of the data and plotted boxplots of each nutrient present (with outliers removed as it hurt visualization), and found that most foods tend to have low-to-none values for most nutrients but the macronutrients have high variability. Creating another boxplot set for the macronutrients showed higher variability in carbohydrates than protein and fat.\n",
        "\n",
        "In terms of modeling, we mainly wanted to regress on a product’s various features to predict its nutrition score. Firstly, we noticed that there is multicolinearity between some features, such as salt and sodium, so we removed features that showed high colinearity. To achieve regression on nutrition score, we ran an unregularized linear regression, a PCA linear regression, a LASSO linear regression (with cross-val), and a Ridge linear regression (with cross-val). We noticed that the linear and ridge regressions (roughly 0.67 R-squared score) had similar R-squared scores while LASSO and PCA linear regression (roughly 0.62 R-squared score) performed not as well as the previous models. We suspect that this is because the features all contribute to the model to some extent where removing features or forcing features to zero would actually lower accuracy. We also ran a simple neural network model to predict nutrition score with the same features using the sklearn library, with two hidden layers. The model yielded a surprisingly high accuracy score (approx 0.96 R-squared score) on both the training and test sets; this may be due to the nonlinearity the relu layers of the model introduced, in contrast to the previous few models. \n",
        "Our second goal was to be able to classify products exclusively on macronutrient features to predict whether a product is “healthy” or not based on a binary version of nutrition score. Using simple logistic regression as a baseline, we were able to get an accuracy of above 0.81 using only fat, protein, and carbs. We then analyzed the data and saw multicollinerity, so PCA was run with all principal components kept (3). Given the small number of features, elastic net was used since it was hard to determine whether pushing weights to zero (L1) or holistically reducing them (L2) is ideal. The elastic net (with cross-val) got an R^2 score of about 0.39 with an MSE of around 50 - worse than our previous regressors, but using a lot less data. To increase model complexity, we used a RandomForestRegressor with cross-validation and got an R^2 score of ~0.48 and an MSE of around 42.5. Using only 3 features, these values are incredibly impressive at calculating various foods' nutrition scores.\n",
        "\n",
        "Overall, we were able to conduct some exploratory data analysis and modeling on the Open Food Facts dataset. Moving forward, we can conduct more exploratory data analysis on other variables within the dataset, such as exploring the URL and conducting web scraping to gain more information about each product. It would also be helpful to look more at the effectiveness of various other models, such as boosting and even deep learning models. \n",
        "\n",
        "\n",
        "We learned a lot about visualization, correlations, statistics, machine learning classification, and machine learning regression during this project. We hope to apply these models into our own lives and predict the healthiness of the foods we snack on!"
      ],
      "metadata": {
        "id": "GzlOdZYuvGJH"
      }
    }
  ]
}